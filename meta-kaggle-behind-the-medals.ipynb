{
 "cells": [
  {
   "cell_type": "markdown",
   "metadata": {
    "_uuid": "dbad2bc4ee80d8e03a0bf29e739f1f2a657bdc50"
   },
   "source": [
    "# Behind the Medals !\n",
    "\n",
    "\n",
    "*Hamza El Bouatmani*  - March 7th, 2019\n",
    "\n",
    "----\n",
    "\n"
   ]
  },
  {
   "cell_type": "markdown",
   "metadata": {
    "_uuid": "18cc5560f90e961ba39fb9dbab7ffc7206de1d60"
   },
   "source": [
    "# Introduction\n",
    "Although registered two years ago, I just started using the platform a couple of months ago, and was curious about how to become a Kaggle Expert or Master, so I decided to use the Kaggle Meta Dataset to dig into and examine some statistics related to Top Kernels and Top Kernel Authors.\n",
    "\n",
    "I hope this Kernel will be useful.\n",
    "\n",
    "Notes:\n",
    "* The Meta Kaggle Dataset is updated frequently, if you want to get the most up-to-date numbers, feel free to fork this kernel and run it.\n",
    "* I found a great amount of inconsistencies in the data, especially when it comes to KernelVersions. I write in the 'note' sections ([8](#8), [9](#9) )) how I deal with these inconsistencies, I hope that the Kaggle Team will look into them.. (Feel also free to check the code to see the details)"
   ]
  },
  {
   "cell_type": "code",
   "execution_count": 1,
   "metadata": {
    "_cell_guid": "b1076dfc-b9ad-4769-8c92-a6c4dae69d19",
    "_kg_hide-input": true,
    "_uuid": "8f2839f25d086af736a60e9eeb907d3b93b6e0e5"
   },
   "outputs": [
    {
     "data": {
      "text/html": [
       "<script type=\"text/javascript\">window.PlotlyConfig = {MathJaxConfig: 'local'};</script><script type=\"text/javascript\">if (window.MathJax) {MathJax.Hub.Config({SVG: {font: \"STIX-Web\"}});}</script><script>requirejs.config({paths: { 'plotly': ['https://cdn.plot.ly/plotly-latest.min']},});if(!window._Plotly) {require(['plotly'],function(plotly) {window._Plotly=plotly;});}</script>"
      ],
      "text/vnd.plotly.v1+html": [
       "<script type=\"text/javascript\">window.PlotlyConfig = {MathJaxConfig: 'local'};</script><script type=\"text/javascript\">if (window.MathJax) {MathJax.Hub.Config({SVG: {font: \"STIX-Web\"}});}</script><script>requirejs.config({paths: { 'plotly': ['https://cdn.plot.ly/plotly-latest.min']},});if(!window._Plotly) {require(['plotly'],function(plotly) {window._Plotly=plotly;});}</script>"
      ]
     },
     "metadata": {},
     "output_type": "display_data"
    }
   ],
   "source": [
    "import numpy as np # linear algebra\n",
    "import pandas as pd # data processing, CSV file I/O (e.g. pd.read_csv)\n",
    "\n",
    "# Visualization\n",
    "from plotly.offline import init_notebook_mode, iplot\n",
    "import plotly.graph_objs as go\n",
    "from plotly import tools\n",
    "import plotly.figure_factory as ff\n",
    "init_notebook_mode(connected=True)\n",
    "from wordcloud import WordCloud, STOPWORDS, ImageColorGenerator\n",
    "import matplotlib.pyplot as plt\n",
    "\n",
    "\n",
    "from IPython.display import display\n",
    "\n",
    "import os\n",
    "input_data = os.listdir(\"../input\")\n",
    "#print('Files: ', input_data)"
   ]
  },
  {
   "cell_type": "markdown",
   "metadata": {
    "_uuid": "d865f840809f34821c04207b1ef2a28279702c0f"
   },
   "source": [
    "# 1. Some Filtering <a id=\"1\" />\n"
   ]
  },
  {
   "cell_type": "markdown",
   "metadata": {
    "_uuid": "4aa22eb1f149bac4da7ec18b1dca74b1ab418824"
   },
   "source": [
    "In order to get the purest insights, we must take some time to clean the data we'll be working with. \n",
    "Not all Kernels in the dataset are relevant to us. We filter the kernels as follows:\n",
    "- **Exclude Kernels with no UrlSlug**\n",
    "- **Exclude Kernels whose authors are members of the Kaggle Team (we're interested in normal users and how they get medals)**\n",
    "- **Exclude Kernels which are solutions to exercises (from Kaggle Learn section)**\n",
    "- **Exclude Kernels where CreationDate & MadePublicDate are BOTH NULL ( we don't have any idea when they were created, maybe it's a Data Collection problem )**"
   ]
  },
  {
   "cell_type": "code",
   "execution_count": 2,
   "metadata": {
    "_kg_hide-input": true,
    "_uuid": "3fe65166197878badda95027ea59f0a4194f673f"
   },
   "outputs": [
    {
     "name": "stderr",
     "output_type": "stream",
     "text": [
      "/opt/conda/lib/python3.6/site-packages/numpy/lib/arraysetops.py:569: FutureWarning:\n",
      "\n",
      "elementwise comparison failed; returning scalar instead, but in the future will perform elementwise comparison\n",
      "\n"
     ]
    },
    {
     "name": "stdout",
     "output_type": "stream",
     "text": [
      "Number of Kernels after Filtering ( Mar 2015 ~ Mar 2019 ):  204436 (21586 Kernels filtered)\n"
     ]
    }
   ],
   "source": [
    "kernels_df = pd.read_csv('../input/Kernels.csv', usecols=['Id', 'AuthorUserId', 'CurrentKernelVersionId', 'ForkParentKernelVersionId', 'CreationDate', 'EvaluationDate', 'MadePublicDate', 'CurrentUrlSlug', 'Medal', 'MedalAwardDate', 'TotalVotes'])\n",
    "\n",
    "init_nbr_kernels = len(kernels_df)\n",
    "\n",
    "# Parse Date Columns\n",
    "kernels_df['MadePublicDate'] = pd.to_datetime(kernels_df['MadePublicDate'])\n",
    "kernels_df['CreationDate'] = pd.to_datetime(kernels_df['CreationDate'])\n",
    "kernels_df['MedalAwardDate'] = pd.to_datetime(kernels_df['MedalAwardDate'])\n",
    "\n",
    "# Exclude Kernels without Url Slug ( just two for at the time of writing )\n",
    "kernels_df = kernels_df[~kernels_df['CurrentUrlSlug'].isnull()]\n",
    "\n",
    "users_df = pd.read_csv('../input/Users.csv', index_col='Id')\n",
    "\n",
    "# Exclude Kernels from the Kaggle Team\n",
    "normal_users = users_df[users_df['PerformanceTier'] != 5]\n",
    "# Replace DisplayName with UserName where DisplayName is NaN\n",
    "normal_user_kernels = kernels_df[kernels_df['AuthorUserId'].isin(normal_users.index)]\n",
    "normal_user_kernels = normal_user_kernels.set_index('Id')\n",
    "for i, r in normal_users[pd.isnull(normal_users['DisplayName'])].iterrows():\n",
    "    normal_users.at[i, 'DisplayName'] = r['UserName']\n",
    "assert not normal_users['DisplayName'].isnull().any()\n",
    "\n",
    "\n",
    "# Exclude Exercise Kernels which are Forked (most if not all are just forks of exercises to learn a topic from the section Kaggle Learn, they're not relevant to us)\n",
    "normal_user_kernels = normal_user_kernels[ ~((normal_user_kernels['CurrentUrlSlug'].str.contains('exercise')) & (~normal_user_kernels['ForkParentKernelVersionId'].isnull()) ) ]\n",
    "#assert len(normal_user_kernels[ (~normal_user_kernels['ForkParentKernelVersionId'].isnull()) & (normal_user_kernels['CurrentUrlSlug'].str.contains('exercise'))]) == 0\n",
    "\n",
    "# Drop rows which have both dates (creation & madepublic) NULL ( ~ 190 at time of writing )\n",
    "normal_user_kernels = normal_user_kernels.drop(normal_user_kernels[ (normal_user_kernels['MadePublicDate'].isnull()) & (normal_user_kernels['CreationDate'].isnull()) ].index)\n",
    "\n",
    "# Rows that have MadePublicDate NULL and CreationDate NOT NULL: we replace the NULL in MadePublicDate with the value of CreationDate\n",
    "for i, r in normal_user_kernels.iterrows():\n",
    "    if pd.isnull(r['MadePublicDate']) and not pd.isnull(r['CreationDate']):\n",
    "        normal_user_kernels.at[i, 'MadePublicDate'] = r['CreationDate']\n",
    "\n",
    "# Replace NaN in 'Medal' with Zero\n",
    "normal_user_kernels['Medal'] = normal_user_kernels['Medal'].fillna(0)        \n",
    "\n",
    "# Join Kernels with Authors ( to have the author name on the same row to make things easy)\n",
    "normal_user_kernels = normal_user_kernels.join(users_df, on='AuthorUserId')\n",
    "\n",
    "\n",
    "oldest_date = normal_user_kernels['MadePublicDate'].min()\n",
    "newest_date = normal_user_kernels['MadePublicDate'].max()\n",
    "range_dates_str = f\"{oldest_date.strftime('%b %Y')} ~ {newest_date.strftime('%b %Y')}\"\n",
    "\n",
    "del kernels_df\n",
    "del users_df\n",
    "\n",
    "after_nbr_kernels = len(normal_user_kernels)\n",
    "print('Number of Kernels after Filtering (', range_dates_str , '): ', after_nbr_kernels, f'({init_nbr_kernels - after_nbr_kernels} Kernels filtered)')\n"
   ]
  },
  {
   "cell_type": "markdown",
   "metadata": {
    "_uuid": "473fee73a66b1e6999d0ff7d4e90af5a92fa722d"
   },
   "source": [
    "# 2. Medals are *<span style=\"color: #dca917\">RARE</span>* ! <a id=\"2\" />"
   ]
  },
  {
   "cell_type": "markdown",
   "metadata": {
    "_uuid": "ed7da355a4451172c3b7340442d5dc068b588129"
   },
   "source": [
    "Most of us, beginners in Kaggle, might look at the Top Kernels and Top authors and think that getting Medals is easy. However, a quick look into the Meta Kaggle data shows that Kernels awarded with Medals are ***extremely RARE*** compared to the number of kernels without medals.\n",
    "\n",
    "**(You can hover to see the actual number values)**"
   ]
  },
  {
   "cell_type": "code",
   "execution_count": 3,
   "metadata": {
    "_kg_hide-input": true,
    "_kg_hide-output": false,
    "_uuid": "0a05818555dcf0168146854699eebb09785adba1"
   },
   "outputs": [
    {
     "data": {
      "application/vnd.plotly.v1+json": {
       "config": {
        "linkText": "Export to plot.ly",
        "plotlyServerURL": "https://plot.ly",
        "showLink": false
       },
       "data": [
        {
         "domain": {
          "x": [
           0,
           0.4
          ],
          "y": [
           0,
           1
          ]
         },
         "hoverinfo": "label+value",
         "labels": [
          "Kernels Awarded",
          "Kernels Not Awarded"
         ],
         "marker": {
          "colors": [
           "#FF9999",
           "#66B3FF"
          ],
          "line": {
           "color": "white",
           "width": 2
          }
         },
         "textfont": {
          "size": 12
         },
         "textinfo": "percent",
         "textposition": "inside",
         "title": {
          "font": {
           "size": 16
          },
          "text": "Awarded vs Not Awarded"
         },
         "type": "pie",
         "uid": "cf478ba5-88ad-47a7-9d80-fb29a60f26d6",
         "values": [
          8779,
          195657
         ]
        },
        {
         "domain": {
          "x": [
           0.6,
           1
          ],
          "y": [
           0,
           1
          ]
         },
         "hoverinfo": "label+value",
         "labels": [
          "Gold",
          "Silver",
          "Bronze"
         ],
         "marker": {
          "colors": [
           "#ffd448",
           "#e9e9e9",
           "#f0ba7c"
          ],
          "line": {
           "color": "white",
           "width": 0.5
          }
         },
         "showlegend": false,
         "textfont": {
          "size": 12
         },
         "textinfo": "percent+label",
         "title": {
          "font": {
           "size": 16
          },
          "text": "Gold, Silver & Bronze"
         },
         "type": "pie",
         "uid": "8b051f1f-be1f-4a4e-9a4e-97a4573d5a6d",
         "values": [
          763,
          1594,
          6422
         ]
        }
       ],
       "layout": {
        "height": 500,
        "legend": {
         "orientation": "h"
        },
        "title": {
         "font": {
          "size": 18
         },
         "text": "Total number of Public Kernels (Mar 2015 ~ Mar 2019)"
        }
       }
      },
      "text/html": [
       "<div id=\"43dd75cc-ca60-40c9-87ee-9086acebc52b\" style=\"height: 500px; width: 100%;\" class=\"plotly-graph-div\"></div><script type=\"text/javascript\">require([\"plotly\"], function(Plotly) { window.PLOTLYENV=window.PLOTLYENV || {};window.PLOTLYENV.BASE_URL=\"https://plot.ly\";Plotly.newPlot(\"43dd75cc-ca60-40c9-87ee-9086acebc52b\", [{\"domain\": {\"x\": [0, 0.4], \"y\": [0, 1]}, \"hoverinfo\": \"label+value\", \"labels\": [\"Kernels Awarded\", \"Kernels Not Awarded\"], \"marker\": {\"colors\": [\"#FF9999\", \"#66B3FF\"], \"line\": {\"color\": \"white\", \"width\": 2}}, \"textfont\": {\"size\": 12}, \"textinfo\": \"percent\", \"textposition\": \"inside\", \"title\": {\"text\": \"Awarded vs Not Awarded\", \"font\": {\"size\": 16}}, \"values\": [8779, 195657], \"type\": \"pie\", \"uid\": \"78101477-8fed-4026-b042-70f8237fbaa9\"}, {\"domain\": {\"x\": [0.6, 1], \"y\": [0, 1]}, \"hoverinfo\": \"label+value\", \"labels\": [\"Gold\", \"Silver\", \"Bronze\"], \"marker\": {\"colors\": [\"#ffd448\", \"#e9e9e9\", \"#f0ba7c\"], \"line\": {\"color\": \"white\", \"width\": 0.5}}, \"showlegend\": false, \"textfont\": {\"size\": 12}, \"textinfo\": \"percent+label\", \"title\": {\"text\": \"Gold, Silver & Bronze\", \"font\": {\"size\": 16}}, \"values\": [763, 1594, 6422], \"type\": \"pie\", \"uid\": \"c345328a-b524-471f-9497-8734cb4f7f61\"}], {\"height\": 500, \"legend\": {\"orientation\": \"h\"}, \"title\": {\"font\": {\"size\": 18}, \"text\": \"Total number of Public Kernels (Mar 2015 ~ Mar 2019)\"}}, {\"showLink\": false, \"linkText\": \"Export to plot.ly\", \"plotlyServerURL\": \"https://plot.ly\"})});</script><script type=\"text/javascript\">window.addEventListener(\"resize\", function(){window._Plotly.Plots.resize(document.getElementById(\"43dd75cc-ca60-40c9-87ee-9086acebc52b\"));});</script>"
      ],
      "text/vnd.plotly.v1+html": [
       "<div id=\"43dd75cc-ca60-40c9-87ee-9086acebc52b\" style=\"height: 500px; width: 100%;\" class=\"plotly-graph-div\"></div><script type=\"text/javascript\">require([\"plotly\"], function(Plotly) { window.PLOTLYENV=window.PLOTLYENV || {};window.PLOTLYENV.BASE_URL=\"https://plot.ly\";Plotly.newPlot(\"43dd75cc-ca60-40c9-87ee-9086acebc52b\", [{\"domain\": {\"x\": [0, 0.4], \"y\": [0, 1]}, \"hoverinfo\": \"label+value\", \"labels\": [\"Kernels Awarded\", \"Kernels Not Awarded\"], \"marker\": {\"colors\": [\"#FF9999\", \"#66B3FF\"], \"line\": {\"color\": \"white\", \"width\": 2}}, \"textfont\": {\"size\": 12}, \"textinfo\": \"percent\", \"textposition\": \"inside\", \"title\": {\"text\": \"Awarded vs Not Awarded\", \"font\": {\"size\": 16}}, \"values\": [8779, 195657], \"type\": \"pie\", \"uid\": \"78101477-8fed-4026-b042-70f8237fbaa9\"}, {\"domain\": {\"x\": [0.6, 1], \"y\": [0, 1]}, \"hoverinfo\": \"label+value\", \"labels\": [\"Gold\", \"Silver\", \"Bronze\"], \"marker\": {\"colors\": [\"#ffd448\", \"#e9e9e9\", \"#f0ba7c\"], \"line\": {\"color\": \"white\", \"width\": 0.5}}, \"showlegend\": false, \"textfont\": {\"size\": 12}, \"textinfo\": \"percent+label\", \"title\": {\"text\": \"Gold, Silver & Bronze\", \"font\": {\"size\": 16}}, \"values\": [763, 1594, 6422], \"type\": \"pie\", \"uid\": \"c345328a-b524-471f-9497-8734cb4f7f61\"}], {\"height\": 500, \"legend\": {\"orientation\": \"h\"}, \"title\": {\"font\": {\"size\": 18}, \"text\": \"Total number of Public Kernels (Mar 2015 ~ Mar 2019)\"}}, {\"showLink\": false, \"linkText\": \"Export to plot.ly\", \"plotlyServerURL\": \"https://plot.ly\"})});</script><script type=\"text/javascript\">window.addEventListener(\"resize\", function(){window._Plotly.Plots.resize(document.getElementById(\"43dd75cc-ca60-40c9-87ee-9086acebc52b\"));});</script>"
      ]
     },
     "metadata": {},
     "output_type": "display_data"
    }
   ],
   "source": [
    "# Pie Chats for Total Number of Kernels\n",
    "\n",
    "PLOT_BG_COLOR = '#f1f1f1'\n",
    "\n",
    "kernel_colors = ['#FF9999', '#66B3FF'] # ['awarded', 'not awarded']\n",
    "medal_colors  = ['#ffd448', '#e9e9e9', '#f0ba7c' ] # ['Gold', 'Silver', 'Bronze']\n",
    "\n",
    "medal_kernels = normal_user_kernels[normal_user_kernels['Medal'] > 0]\n",
    "\n",
    "# First Pie Chart: Awarded vs Not Awarded Kernels\n",
    "vals = []\n",
    "vals.append(len(medal_kernels))\n",
    "vals.append(len(normal_user_kernels[normal_user_kernels['Medal'] == 0]))\n",
    "chart1 = {\n",
    "            'type': 'pie',\n",
    "            'title': 'Awarded vs Not Awarded',\n",
    "            'titlefont': {'size': 16},\n",
    "            'labels': ['Kernels Awarded', 'Kernels Not Awarded'],\n",
    "            'values': vals,\n",
    "            'hoverinfo': 'label+value',\n",
    "            'textinfo': 'percent',\n",
    "            'textposition': 'inside',\n",
    "            'textfont': {'size': 12},\n",
    "            'marker': {'colors': kernel_colors, 'line': {'color': 'white', 'width': 2,}},\n",
    "            'domain': {'x': [0, 0.4], 'y': [0, 1]}\n",
    "        }\n",
    "\n",
    "# Second Pie Chart: Gold, Silver & Bronze Kernels\n",
    "vals = []\n",
    "vals.append(len(medal_kernels[medal_kernels['Medal'] == 1]))\n",
    "vals.append(len(medal_kernels[medal_kernels['Medal'] == 2]))\n",
    "vals.append(len(medal_kernels[medal_kernels['Medal'] == 3]))\n",
    "\n",
    "\n",
    "\n",
    "chart2 = {\n",
    "            'type': 'pie',\n",
    "            'title': 'Gold, Silver & Bronze',\n",
    "            'titlefont': {'size': 16},\n",
    "            'showlegend': False,\n",
    "            'labels': ['Gold', 'Silver', 'Bronze'],\n",
    "            'values': vals,\n",
    "            'hoverinfo': 'label+value',\n",
    "            'textinfo': 'percent+label',\n",
    "            'textfont': {'size': 12},\n",
    "            'marker': {'colors': medal_colors, 'line': {'color': 'white', 'width': .5,}},\n",
    "            'domain': {'x': [0.6, 1], 'y': [0,1]}\n",
    "        }\n",
    "\n",
    "fig = {\n",
    "    'data': [ chart1, chart2 ],\n",
    "    'layout': {\n",
    "        'height': 500,\n",
    "        'title': {\n",
    "            'text': f'Total number of Public Kernels ({range_dates_str})',\n",
    "            'font': {'size': 18}\n",
    "        }, 'legend': {\n",
    "            'orientation': 'h'\n",
    "        }\n",
    "    }\n",
    "}\n",
    "\n",
    "iplot(fig)"
   ]
  },
  {
   "cell_type": "code",
   "execution_count": 4,
   "metadata": {
    "_kg_hide-input": true,
    "_uuid": "781f8df6036bb0efbb7e8aeaebf8b669a07c4c89"
   },
   "outputs": [],
   "source": [
    "years = list(normal_user_kernels.MadePublicDate.dt.year.unique())\n",
    "years.remove(2019) # Remove this year because it has just started and has few entries\n",
    "years.sort()\n",
    "nbr_all_vals = []\n",
    "nbr_awarded_vals = []\n",
    "nbr_not_awarded_vals = []\n",
    "nbr_gold_vals = []\n",
    "nbr_silver_vals = []\n",
    "nbr_bronze_vals = []\n",
    "\n",
    "for y in years:\n",
    "    if not np.isnan(y):\n",
    "        years_kernels = normal_user_kernels[normal_user_kernels['MadePublicDate'].dt.year == y]\n",
    "        nbr_all_vals.append(len(years_kernels))\n",
    "        golds = len(years_kernels[years_kernels['Medal'] == 1])\n",
    "        silvers = len(years_kernels[years_kernels['Medal'] == 2])\n",
    "        bronzes = len(years_kernels[years_kernels['Medal'] == 3])\n",
    "        nbr_awarded_vals.append(golds+silvers+bronzes)\n",
    "        nbr_not_awarded_vals.append(nbr_all_vals[-1] - nbr_awarded_vals[-1])\n",
    "        nbr_gold_vals.append(golds)\n",
    "        nbr_silver_vals.append(silvers)\n",
    "        nbr_bronze_vals.append(bronzes)\n",
    "#print(years, nbr_all_vals, nbr_awarded_vals, nbr_gold_vals, nbr_silver_vals, nbr_bronze_vals)"
   ]
  },
  {
   "cell_type": "code",
   "execution_count": 5,
   "metadata": {
    "_kg_hide-input": true,
    "_uuid": "cbb25fe13780745a1bfd099435ca1c7cb0ff866b"
   },
   "outputs": [
    {
     "data": {
      "application/vnd.plotly.v1+json": {
       "config": {
        "linkText": "Export to plot.ly",
        "plotlyServerURL": "https://plot.ly",
        "showLink": false
       },
       "data": [
        {
         "marker": {
          "color": "#66B3FF"
         },
         "name": "Kernels w/o Awards",
         "type": "bar",
         "uid": "f0d39c02-e023-4927-900a-2052c514dea0",
         "x": [
          2015,
          2016,
          2017,
          2018
         ],
         "xaxis": "x",
         "y": [
          11431,
          66697,
          63908,
          43352
         ],
         "yaxis": "y"
        },
        {
         "marker": {
          "color": "#FF9999"
         },
         "name": "Awarded Kernels",
         "type": "bar",
         "uid": "34746433-01e0-4870-8350-55bfe9374b63",
         "x": [
          2015,
          2016,
          2017,
          2018
         ],
         "xaxis": "x",
         "y": [
          391,
          1154,
          2512,
          4138
         ],
         "yaxis": "y"
        }
       ],
       "layout": {
        "height": 600,
        "legend": {
         "orientation": "h"
        },
        "plot_bgcolor": "#f1f1f1",
        "title": {
         "text": "Change of Number of Kernels per year"
        },
        "xaxis": {
         "dtick": 1
        },
        "yaxis": {
         "dtick": 5000,
         "title": {
          "text": "Number of Kernels"
         }
        }
       }
      },
      "text/html": [
       "<div id=\"c860ed6c-c5f9-4ea8-ab90-c00fe5fb4a14\" style=\"height: 600px; width: 100%;\" class=\"plotly-graph-div\"></div><script type=\"text/javascript\">require([\"plotly\"], function(Plotly) { window.PLOTLYENV=window.PLOTLYENV || {};window.PLOTLYENV.BASE_URL=\"https://plot.ly\";Plotly.newPlot(\"c860ed6c-c5f9-4ea8-ab90-c00fe5fb4a14\", [{\"marker\": {\"color\": \"#66B3FF\"}, \"name\": \"Kernels w/o Awards\", \"x\": [2015, 2016, 2017, 2018], \"xaxis\": \"x\", \"y\": [11431, 66697, 63908, 43352], \"yaxis\": \"y\", \"type\": \"bar\", \"uid\": \"786536d1-86ea-4a58-b08d-78b4295b72f0\"}, {\"marker\": {\"color\": \"#FF9999\"}, \"name\": \"Awarded Kernels\", \"x\": [2015, 2016, 2017, 2018], \"xaxis\": \"x\", \"y\": [391, 1154, 2512, 4138], \"yaxis\": \"y\", \"type\": \"bar\", \"uid\": \"d56d3598-eea0-4718-b9ad-90de8409a7da\"}], {\"height\": 600, \"legend\": {\"orientation\": \"h\"}, \"plot_bgcolor\": \"#f1f1f1\", \"title\": {\"text\": \"Change of Number of Kernels per year\"}, \"xaxis\": {\"dtick\": 1}, \"yaxis\": {\"dtick\": 5000, \"title\": {\"text\": \"Number of Kernels\"}}}, {\"showLink\": false, \"linkText\": \"Export to plot.ly\", \"plotlyServerURL\": \"https://plot.ly\"})});</script><script type=\"text/javascript\">window.addEventListener(\"resize\", function(){window._Plotly.Plots.resize(document.getElementById(\"c860ed6c-c5f9-4ea8-ab90-c00fe5fb4a14\"));});</script>"
      ],
      "text/vnd.plotly.v1+html": [
       "<div id=\"c860ed6c-c5f9-4ea8-ab90-c00fe5fb4a14\" style=\"height: 600px; width: 100%;\" class=\"plotly-graph-div\"></div><script type=\"text/javascript\">require([\"plotly\"], function(Plotly) { window.PLOTLYENV=window.PLOTLYENV || {};window.PLOTLYENV.BASE_URL=\"https://plot.ly\";Plotly.newPlot(\"c860ed6c-c5f9-4ea8-ab90-c00fe5fb4a14\", [{\"marker\": {\"color\": \"#66B3FF\"}, \"name\": \"Kernels w/o Awards\", \"x\": [2015, 2016, 2017, 2018], \"xaxis\": \"x\", \"y\": [11431, 66697, 63908, 43352], \"yaxis\": \"y\", \"type\": \"bar\", \"uid\": \"786536d1-86ea-4a58-b08d-78b4295b72f0\"}, {\"marker\": {\"color\": \"#FF9999\"}, \"name\": \"Awarded Kernels\", \"x\": [2015, 2016, 2017, 2018], \"xaxis\": \"x\", \"y\": [391, 1154, 2512, 4138], \"yaxis\": \"y\", \"type\": \"bar\", \"uid\": \"d56d3598-eea0-4718-b9ad-90de8409a7da\"}], {\"height\": 600, \"legend\": {\"orientation\": \"h\"}, \"plot_bgcolor\": \"#f1f1f1\", \"title\": {\"text\": \"Change of Number of Kernels per year\"}, \"xaxis\": {\"dtick\": 1}, \"yaxis\": {\"dtick\": 5000, \"title\": {\"text\": \"Number of Kernels\"}}}, {\"showLink\": false, \"linkText\": \"Export to plot.ly\", \"plotlyServerURL\": \"https://plot.ly\"})});</script><script type=\"text/javascript\">window.addEventListener(\"resize\", function(){window._Plotly.Plots.resize(document.getElementById(\"c860ed6c-c5f9-4ea8-ab90-c00fe5fb4a14\"));});</script>"
      ]
     },
     "metadata": {},
     "output_type": "display_data"
    }
   ],
   "source": [
    "# Bar Chart for Number of Kernels per year\n",
    "\n",
    "fig = { 'data': [\n",
    "        {   'type': 'bar',\n",
    "            'name': 'Kernels w/o Awards',\n",
    "            'x': years,\n",
    "            'y': nbr_not_awarded_vals,\n",
    "            'marker': {'color': kernel_colors[1] },\n",
    "            'xaxis': 'x1',\n",
    "            'yaxis': 'y1'\n",
    "        },\n",
    "        {   'type': 'bar',\n",
    "            'name': 'Awarded Kernels',\n",
    "            'x': years,\n",
    "            'y': nbr_awarded_vals,\n",
    "            'marker': {'color': kernel_colors[0] },\n",
    "            #'line': {'color': '#ffd448' },\n",
    "            'xaxis': 'x1',\n",
    "            'yaxis': 'y1'\n",
    "        }\n",
    "], 'layout': {\n",
    "        'plot_bgcolor': PLOT_BG_COLOR,\n",
    "        'height': 600,\n",
    "        'title': 'Change of Number of Kernels per year',\n",
    "        'legend': {'orientation': 'h'},\n",
    "        'xaxis': {'dtick': 1},\n",
    "        'yaxis': {'dtick': 5000, 'title': 'Number of Kernels'}\n",
    "    }}\n",
    "iplot(fig)"
   ]
  },
  {
   "cell_type": "code",
   "execution_count": 6,
   "metadata": {
    "_kg_hide-input": true,
    "_uuid": "96a84e217dd06c41d474b92d46a0f729dc713e9b"
   },
   "outputs": [
    {
     "data": {
      "application/vnd.plotly.v1+json": {
       "config": {
        "linkText": "Export to plot.ly",
        "plotlyServerURL": "https://plot.ly",
        "showLink": false
       },
       "data": [
        {
         "marker": {
          "color": "#ffd448"
         },
         "name": "Gold",
         "type": "bar",
         "uid": "29683db0-629d-4d28-abbc-44dc57c18317",
         "x": [
          2015,
          2016,
          2017,
          2018
         ],
         "y": [
          15,
          69,
          224,
          405
         ]
        },
        {
         "marker": {
          "color": "#e9e9e9"
         },
         "name": "Silver",
         "type": "bar",
         "uid": "1c8c7538-220a-420e-86bb-1014df161b6f",
         "x": [
          2015,
          2016,
          2017,
          2018
         ],
         "y": [
          66,
          172,
          435,
          827
         ]
        },
        {
         "marker": {
          "color": "#f0ba7c"
         },
         "name": "Bronze",
         "type": "bar",
         "uid": "9749f862-3351-4854-a331-591cf3b85abf",
         "x": [
          2015,
          2016,
          2017,
          2018
         ],
         "y": [
          310,
          913,
          1853,
          2906
         ]
        },
        {
         "line": {
          "color": "#FF9999"
         },
         "name": "Number of Awarded Kernels",
         "type": "scatter",
         "uid": "0b6d1c95-1565-4521-a130-2265d3a53fbf",
         "x": [
          2015,
          2016,
          2017,
          2018
         ],
         "y": [
          391,
          1154,
          2512,
          4138
         ]
        }
       ],
       "layout": {
        "height": 600,
        "legend": {
         "orientation": "h"
        },
        "plot_bgcolor": "#f1f1f1",
        "title": {
         "text": "Change of Number of Awarded Kernel per year"
        },
        "xaxis": {
         "dtick": 1
        },
        "yaxis": {
         "dtick": 250,
         "title": {
          "text": "Number of Kernels"
         }
        }
       }
      },
      "text/html": [
       "<div id=\"3235bc8b-d3e7-46cc-bf13-8a92028aed84\" style=\"height: 600px; width: 100%;\" class=\"plotly-graph-div\"></div><script type=\"text/javascript\">require([\"plotly\"], function(Plotly) { window.PLOTLYENV=window.PLOTLYENV || {};window.PLOTLYENV.BASE_URL=\"https://plot.ly\";Plotly.newPlot(\"3235bc8b-d3e7-46cc-bf13-8a92028aed84\", [{\"marker\": {\"color\": \"#ffd448\"}, \"name\": \"Gold\", \"x\": [2015, 2016, 2017, 2018], \"y\": [15, 69, 224, 405], \"type\": \"bar\", \"uid\": \"9e903e1d-933c-421e-93f8-109337b35da4\"}, {\"marker\": {\"color\": \"#e9e9e9\"}, \"name\": \"Silver\", \"x\": [2015, 2016, 2017, 2018], \"y\": [66, 172, 435, 827], \"type\": \"bar\", \"uid\": \"7903ec07-9433-4d17-869f-c749b86e9598\"}, {\"marker\": {\"color\": \"#f0ba7c\"}, \"name\": \"Bronze\", \"x\": [2015, 2016, 2017, 2018], \"y\": [310, 913, 1853, 2906], \"type\": \"bar\", \"uid\": \"346ceb6d-9c09-4182-b67b-57b74ad0ec61\"}, {\"line\": {\"color\": \"#FF9999\"}, \"name\": \"Number of Awarded Kernels\", \"x\": [2015, 2016, 2017, 2018], \"y\": [391, 1154, 2512, 4138], \"type\": \"scatter\", \"uid\": \"0128e3cb-1074-4c2c-8592-7aeaed3870f1\"}], {\"height\": 600, \"legend\": {\"orientation\": \"h\"}, \"plot_bgcolor\": \"#f1f1f1\", \"title\": {\"text\": \"Change of Number of Awarded Kernel per year\"}, \"xaxis\": {\"dtick\": 1}, \"yaxis\": {\"dtick\": 250, \"title\": {\"text\": \"Number of Kernels\"}}}, {\"showLink\": false, \"linkText\": \"Export to plot.ly\", \"plotlyServerURL\": \"https://plot.ly\"})});</script><script type=\"text/javascript\">window.addEventListener(\"resize\", function(){window._Plotly.Plots.resize(document.getElementById(\"3235bc8b-d3e7-46cc-bf13-8a92028aed84\"));});</script>"
      ],
      "text/vnd.plotly.v1+html": [
       "<div id=\"3235bc8b-d3e7-46cc-bf13-8a92028aed84\" style=\"height: 600px; width: 100%;\" class=\"plotly-graph-div\"></div><script type=\"text/javascript\">require([\"plotly\"], function(Plotly) { window.PLOTLYENV=window.PLOTLYENV || {};window.PLOTLYENV.BASE_URL=\"https://plot.ly\";Plotly.newPlot(\"3235bc8b-d3e7-46cc-bf13-8a92028aed84\", [{\"marker\": {\"color\": \"#ffd448\"}, \"name\": \"Gold\", \"x\": [2015, 2016, 2017, 2018], \"y\": [15, 69, 224, 405], \"type\": \"bar\", \"uid\": \"9e903e1d-933c-421e-93f8-109337b35da4\"}, {\"marker\": {\"color\": \"#e9e9e9\"}, \"name\": \"Silver\", \"x\": [2015, 2016, 2017, 2018], \"y\": [66, 172, 435, 827], \"type\": \"bar\", \"uid\": \"7903ec07-9433-4d17-869f-c749b86e9598\"}, {\"marker\": {\"color\": \"#f0ba7c\"}, \"name\": \"Bronze\", \"x\": [2015, 2016, 2017, 2018], \"y\": [310, 913, 1853, 2906], \"type\": \"bar\", \"uid\": \"346ceb6d-9c09-4182-b67b-57b74ad0ec61\"}, {\"line\": {\"color\": \"#FF9999\"}, \"name\": \"Number of Awarded Kernels\", \"x\": [2015, 2016, 2017, 2018], \"y\": [391, 1154, 2512, 4138], \"type\": \"scatter\", \"uid\": \"0128e3cb-1074-4c2c-8592-7aeaed3870f1\"}], {\"height\": 600, \"legend\": {\"orientation\": \"h\"}, \"plot_bgcolor\": \"#f1f1f1\", \"title\": {\"text\": \"Change of Number of Awarded Kernel per year\"}, \"xaxis\": {\"dtick\": 1}, \"yaxis\": {\"dtick\": 250, \"title\": {\"text\": \"Number of Kernels\"}}}, {\"showLink\": false, \"linkText\": \"Export to plot.ly\", \"plotlyServerURL\": \"https://plot.ly\"})});</script><script type=\"text/javascript\">window.addEventListener(\"resize\", function(){window._Plotly.Plots.resize(document.getElementById(\"3235bc8b-d3e7-46cc-bf13-8a92028aed84\"));});</script>"
      ]
     },
     "metadata": {},
     "output_type": "display_data"
    }
   ],
   "source": [
    "# Bar & Line Chart for Awarded Kernels per Year by Medal\n",
    "\n",
    "fig = { 'data': [\n",
    "        {\n",
    "            'type': 'bar',\n",
    "            'name': 'Gold',\n",
    "            'x': years,\n",
    "            'y': nbr_gold_vals,\n",
    "            'marker': {'color': medal_colors[0]},\n",
    "        },\n",
    "        {\n",
    "            'type': 'bar',\n",
    "            'name': 'Silver',\n",
    "            'x': years,\n",
    "            'y': nbr_silver_vals,\n",
    "            'marker': {'color': medal_colors[1]},\n",
    "        },\n",
    "        {\n",
    "            'type': 'bar',\n",
    "            'name': 'Bronze',\n",
    "            'x': years,\n",
    "            'y': nbr_bronze_vals,\n",
    "            'marker': {'color': medal_colors[2]},\n",
    "        },\n",
    "        {   'type': 'scatter',\n",
    "            'name': 'Number of Awarded Kernels',\n",
    "            'x': years,\n",
    "            'y': nbr_awarded_vals,\n",
    "            'line': {'color': kernel_colors[0] },\n",
    "        },\n",
    "    ], 'layout': {\n",
    "        'title': 'Change of Number of Awarded Kernel per year',\n",
    "        'legend': {'orientation': 'h'},\n",
    "        'height': 600,\n",
    "        'plot_bgcolor': PLOT_BG_COLOR,\n",
    "        'xaxis': {'dtick': 1},\n",
    "        'yaxis': {'dtick': 250, 'title': 'Number of Kernels'}\n",
    "        \n",
    "    }\n",
    "}\n",
    "iplot(fig)"
   ]
  },
  {
   "cell_type": "markdown",
   "metadata": {
    "_uuid": "0e0150a19f3ad355813c9e8709cb3954e6654eae"
   },
   "source": [
    "### **<span style=\"color: red\">Observation</span>**: Although the number of Kernels not awarded ***is much greater*** than the number of Kernels awarded, we can note a ***steady increase*** in the number of Awarded Kernels each year"
   ]
  },
  {
   "cell_type": "markdown",
   "metadata": {
    "_uuid": "9cd77472928fb48d025038a4e16583adc8af5131"
   },
   "source": [
    "# 3. Who publishes Top Kernels ? <a id=\"3\" />"
   ]
  },
  {
   "cell_type": "markdown",
   "metadata": {
    "_uuid": "2b038b40100fa16b3a011e6afe8fe33b7c7e27d2"
   },
   "source": [
    "Let's now have a quick look at some of the Top Authors in Kaggle"
   ]
  },
  {
   "cell_type": "code",
   "execution_count": 7,
   "metadata": {
    "_kg_hide-input": true,
    "_uuid": "c2a49ea884f2d7570e6941017079aff91c08c3f2"
   },
   "outputs": [
    {
     "data": {
      "application/vnd.plotly.v1+json": {
       "config": {
        "linkText": "Export to plot.ly",
        "plotlyServerURL": "https://plot.ly",
        "showLink": false
       },
       "data": [
        {
         "marker": {
          "color": "#f0ba7c"
         },
         "name": "Bronze",
         "type": "bar",
         "uid": "fc5e544c-1192-4a98-b9a1-1454bea446d6",
         "x": [
          "Bojan Tunguz",
          "GAJ KESHARI(गज केसरी)",
          "Scirpus",
          "Jonathan Bouchet",
          "Andy Harless",
          "Kevin Mader",
          "SRK",
          "Bukun",
          "Aleksey Bilogur",
          "Gabriel Preda",
          "Shivam Bansal",
          "beluga",
          "DSangeetha",
          "olivier",
          "ZFTurbo",
          "Umesh",
          "Andrew Lukyanenko",
          "anokas",
          "amrrs",
          "Nick Brooks",
          "Pranav Pandya",
          "Omri Goldstein",
          "JohnM",
          "Tilii",
          "Paulo Pinto",
          "DATAI",
          "YouHan Lee",
          "Troy Walters",
          "Anisotropic",
          "Shujian L."
         ],
         "y": [
          41,
          53,
          55,
          59,
          44,
          40,
          23,
          33,
          23,
          21,
          13,
          15,
          31,
          12,
          11,
          26,
          9,
          13,
          18,
          20,
          17,
          27,
          14,
          13,
          13,
          7,
          16,
          13,
          5,
          12
         ]
        },
        {
         "marker": {
          "color": "#e9e9e9"
         },
         "name": "Silver",
         "type": "bar",
         "uid": "e43ac0c6-77a4-49cd-84bd-41079ef41d89",
         "x": [
          "Bojan Tunguz",
          "GAJ KESHARI(गज केसरी)",
          "Scirpus",
          "Jonathan Bouchet",
          "Andy Harless",
          "Kevin Mader",
          "SRK",
          "Bukun",
          "Aleksey Bilogur",
          "Gabriel Preda",
          "Shivam Bansal",
          "beluga",
          "DSangeetha",
          "olivier",
          "ZFTurbo",
          "Umesh",
          "Andrew Lukyanenko",
          "anokas",
          "amrrs",
          "Nick Brooks",
          "Pranav Pandya",
          "Omri Goldstein",
          "JohnM",
          "Tilii",
          "Paulo Pinto",
          "DATAI",
          "YouHan Lee",
          "Troy Walters",
          "Anisotropic",
          "Shujian L."
         ],
         "y": [
          22,
          15,
          10,
          10,
          16,
          11,
          4,
          12,
          13,
          14,
          10,
          13,
          7,
          7,
          14,
          6,
          7,
          7,
          10,
          8,
          9,
          1,
          9,
          7,
          10,
          10,
          6,
          9,
          3,
          6
         ]
        },
        {
         "marker": {
          "color": "#ffd448"
         },
         "name": "Gold",
         "type": "bar",
         "uid": "254eba87-3ed4-401f-b4f3-d13a36f75f37",
         "x": [
          "Bojan Tunguz",
          "GAJ KESHARI(गज केसरी)",
          "Scirpus",
          "Jonathan Bouchet",
          "Andy Harless",
          "Kevin Mader",
          "SRK",
          "Bukun",
          "Aleksey Bilogur",
          "Gabriel Preda",
          "Shivam Bansal",
          "beluga",
          "DSangeetha",
          "olivier",
          "ZFTurbo",
          "Umesh",
          "Andrew Lukyanenko",
          "anokas",
          "amrrs",
          "Nick Brooks",
          "Pranav Pandya",
          "Omri Goldstein",
          "JohnM",
          "Tilii",
          "Paulo Pinto",
          "DATAI",
          "YouHan Lee",
          "Troy Walters",
          "Anisotropic",
          "Shujian L."
         ],
         "y": [
          9,
          4,
          6,
          0,
          3,
          8,
          24,
          2,
          8,
          9,
          20,
          10,
          0,
          16,
          7,
          0,
          15,
          11,
          2,
          2,
          3,
          1,
          4,
          7,
          3,
          9,
          3,
          3,
          16,
          5
         ]
        }
       ],
       "layout": {
        "barmode": "stack",
        "legend": {
         "x": 0.92,
         "y": 1
        },
        "margin": {
         "r": 0
        },
        "title": {
         "text": "Top 30 Kernel Authors (Mar 2015 ~ Mar 2019)"
        },
        "yaxis": {
         "title": {
          "text": "Number of Awarded Kernels"
         }
        }
       }
      },
      "text/html": [
       "<div id=\"164ffb32-e906-4a81-a77f-359b996012d0\" style=\"height: 525px; width: 100%;\" class=\"plotly-graph-div\"></div><script type=\"text/javascript\">require([\"plotly\"], function(Plotly) { window.PLOTLYENV=window.PLOTLYENV || {};window.PLOTLYENV.BASE_URL=\"https://plot.ly\";Plotly.newPlot(\"164ffb32-e906-4a81-a77f-359b996012d0\", [{\"marker\": {\"color\": \"#f0ba7c\"}, \"name\": \"Bronze\", \"x\": [\"Bojan Tunguz\", \"GAJ KESHARI(\\u0917\\u091c \\u0915\\u0947\\u0938\\u0930\\u0940)\", \"Scirpus\", \"Jonathan Bouchet\", \"Andy Harless\", \"Kevin Mader\", \"SRK\", \"Bukun\", \"Aleksey Bilogur\", \"Gabriel Preda\", \"Shivam Bansal\", \"beluga\", \"DSangeetha\", \"olivier\", \"ZFTurbo\", \"Umesh\", \"Andrew Lukyanenko\", \"anokas\", \"amrrs\", \"Nick Brooks\", \"Pranav Pandya\", \"Omri Goldstein\", \"JohnM\", \"Tilii\", \"Paulo Pinto\", \"DATAI\", \"YouHan Lee\", \"Troy Walters\", \"Anisotropic\", \"Shujian L.\"], \"y\": [41, 53, 55, 59, 44, 40, 23, 33, 23, 21, 13, 15, 31, 12, 11, 26, 9, 13, 18, 20, 17, 27, 14, 13, 13, 7, 16, 13, 5, 12], \"type\": \"bar\", \"uid\": \"41a5eb5b-2328-4288-a6ad-a9bbaee75d76\"}, {\"marker\": {\"color\": \"#e9e9e9\"}, \"name\": \"Silver\", \"x\": [\"Bojan Tunguz\", \"GAJ KESHARI(\\u0917\\u091c \\u0915\\u0947\\u0938\\u0930\\u0940)\", \"Scirpus\", \"Jonathan Bouchet\", \"Andy Harless\", \"Kevin Mader\", \"SRK\", \"Bukun\", \"Aleksey Bilogur\", \"Gabriel Preda\", \"Shivam Bansal\", \"beluga\", \"DSangeetha\", \"olivier\", \"ZFTurbo\", \"Umesh\", \"Andrew Lukyanenko\", \"anokas\", \"amrrs\", \"Nick Brooks\", \"Pranav Pandya\", \"Omri Goldstein\", \"JohnM\", \"Tilii\", \"Paulo Pinto\", \"DATAI\", \"YouHan Lee\", \"Troy Walters\", \"Anisotropic\", \"Shujian L.\"], \"y\": [22, 15, 10, 10, 16, 11, 4, 12, 13, 14, 10, 13, 7, 7, 14, 6, 7, 7, 10, 8, 9, 1, 9, 7, 10, 10, 6, 9, 3, 6], \"type\": \"bar\", \"uid\": \"0232fd5c-f0dd-44e1-b89b-787a3a75fe12\"}, {\"marker\": {\"color\": \"#ffd448\"}, \"name\": \"Gold\", \"x\": [\"Bojan Tunguz\", \"GAJ KESHARI(\\u0917\\u091c \\u0915\\u0947\\u0938\\u0930\\u0940)\", \"Scirpus\", \"Jonathan Bouchet\", \"Andy Harless\", \"Kevin Mader\", \"SRK\", \"Bukun\", \"Aleksey Bilogur\", \"Gabriel Preda\", \"Shivam Bansal\", \"beluga\", \"DSangeetha\", \"olivier\", \"ZFTurbo\", \"Umesh\", \"Andrew Lukyanenko\", \"anokas\", \"amrrs\", \"Nick Brooks\", \"Pranav Pandya\", \"Omri Goldstein\", \"JohnM\", \"Tilii\", \"Paulo Pinto\", \"DATAI\", \"YouHan Lee\", \"Troy Walters\", \"Anisotropic\", \"Shujian L.\"], \"y\": [9, 4, 6, 0, 3, 8, 24, 2, 8, 9, 20, 10, 0, 16, 7, 0, 15, 11, 2, 2, 3, 1, 4, 7, 3, 9, 3, 3, 16, 5], \"type\": \"bar\", \"uid\": \"cd3649af-70b4-4156-8d1e-89d29af619b1\"}], {\"barmode\": \"stack\", \"legend\": {\"x\": 0.92, \"y\": 1}, \"margin\": {\"r\": 0}, \"title\": {\"text\": \"Top 30 Kernel Authors (Mar 2015 ~ Mar 2019)\"}, \"yaxis\": {\"title\": {\"text\": \"Number of Awarded Kernels\"}}}, {\"showLink\": false, \"linkText\": \"Export to plot.ly\", \"plotlyServerURL\": \"https://plot.ly\"})});</script><script type=\"text/javascript\">window.addEventListener(\"resize\", function(){window._Plotly.Plots.resize(document.getElementById(\"164ffb32-e906-4a81-a77f-359b996012d0\"));});</script>"
      ],
      "text/vnd.plotly.v1+html": [
       "<div id=\"164ffb32-e906-4a81-a77f-359b996012d0\" style=\"height: 525px; width: 100%;\" class=\"plotly-graph-div\"></div><script type=\"text/javascript\">require([\"plotly\"], function(Plotly) { window.PLOTLYENV=window.PLOTLYENV || {};window.PLOTLYENV.BASE_URL=\"https://plot.ly\";Plotly.newPlot(\"164ffb32-e906-4a81-a77f-359b996012d0\", [{\"marker\": {\"color\": \"#f0ba7c\"}, \"name\": \"Bronze\", \"x\": [\"Bojan Tunguz\", \"GAJ KESHARI(\\u0917\\u091c \\u0915\\u0947\\u0938\\u0930\\u0940)\", \"Scirpus\", \"Jonathan Bouchet\", \"Andy Harless\", \"Kevin Mader\", \"SRK\", \"Bukun\", \"Aleksey Bilogur\", \"Gabriel Preda\", \"Shivam Bansal\", \"beluga\", \"DSangeetha\", \"olivier\", \"ZFTurbo\", \"Umesh\", \"Andrew Lukyanenko\", \"anokas\", \"amrrs\", \"Nick Brooks\", \"Pranav Pandya\", \"Omri Goldstein\", \"JohnM\", \"Tilii\", \"Paulo Pinto\", \"DATAI\", \"YouHan Lee\", \"Troy Walters\", \"Anisotropic\", \"Shujian L.\"], \"y\": [41, 53, 55, 59, 44, 40, 23, 33, 23, 21, 13, 15, 31, 12, 11, 26, 9, 13, 18, 20, 17, 27, 14, 13, 13, 7, 16, 13, 5, 12], \"type\": \"bar\", \"uid\": \"41a5eb5b-2328-4288-a6ad-a9bbaee75d76\"}, {\"marker\": {\"color\": \"#e9e9e9\"}, \"name\": \"Silver\", \"x\": [\"Bojan Tunguz\", \"GAJ KESHARI(\\u0917\\u091c \\u0915\\u0947\\u0938\\u0930\\u0940)\", \"Scirpus\", \"Jonathan Bouchet\", \"Andy Harless\", \"Kevin Mader\", \"SRK\", \"Bukun\", \"Aleksey Bilogur\", \"Gabriel Preda\", \"Shivam Bansal\", \"beluga\", \"DSangeetha\", \"olivier\", \"ZFTurbo\", \"Umesh\", \"Andrew Lukyanenko\", \"anokas\", \"amrrs\", \"Nick Brooks\", \"Pranav Pandya\", \"Omri Goldstein\", \"JohnM\", \"Tilii\", \"Paulo Pinto\", \"DATAI\", \"YouHan Lee\", \"Troy Walters\", \"Anisotropic\", \"Shujian L.\"], \"y\": [22, 15, 10, 10, 16, 11, 4, 12, 13, 14, 10, 13, 7, 7, 14, 6, 7, 7, 10, 8, 9, 1, 9, 7, 10, 10, 6, 9, 3, 6], \"type\": \"bar\", \"uid\": \"0232fd5c-f0dd-44e1-b89b-787a3a75fe12\"}, {\"marker\": {\"color\": \"#ffd448\"}, \"name\": \"Gold\", \"x\": [\"Bojan Tunguz\", \"GAJ KESHARI(\\u0917\\u091c \\u0915\\u0947\\u0938\\u0930\\u0940)\", \"Scirpus\", \"Jonathan Bouchet\", \"Andy Harless\", \"Kevin Mader\", \"SRK\", \"Bukun\", \"Aleksey Bilogur\", \"Gabriel Preda\", \"Shivam Bansal\", \"beluga\", \"DSangeetha\", \"olivier\", \"ZFTurbo\", \"Umesh\", \"Andrew Lukyanenko\", \"anokas\", \"amrrs\", \"Nick Brooks\", \"Pranav Pandya\", \"Omri Goldstein\", \"JohnM\", \"Tilii\", \"Paulo Pinto\", \"DATAI\", \"YouHan Lee\", \"Troy Walters\", \"Anisotropic\", \"Shujian L.\"], \"y\": [9, 4, 6, 0, 3, 8, 24, 2, 8, 9, 20, 10, 0, 16, 7, 0, 15, 11, 2, 2, 3, 1, 4, 7, 3, 9, 3, 3, 16, 5], \"type\": \"bar\", \"uid\": \"cd3649af-70b4-4156-8d1e-89d29af619b1\"}], {\"barmode\": \"stack\", \"legend\": {\"x\": 0.92, \"y\": 1}, \"margin\": {\"r\": 0}, \"title\": {\"text\": \"Top 30 Kernel Authors (Mar 2015 ~ Mar 2019)\"}, \"yaxis\": {\"title\": {\"text\": \"Number of Awarded Kernels\"}}}, {\"showLink\": false, \"linkText\": \"Export to plot.ly\", \"plotlyServerURL\": \"https://plot.ly\"})});</script><script type=\"text/javascript\">window.addEventListener(\"resize\", function(){window._Plotly.Plots.resize(document.getElementById(\"164ffb32-e906-4a81-a77f-359b996012d0\"));});</script>"
      ]
     },
     "metadata": {},
     "output_type": "display_data"
    }
   ],
   "source": [
    "nbr_medals_per_author = pd.crosstab( [normal_user_kernels['AuthorUserId'], normal_user_kernels['DisplayName']], normal_user_kernels['Medal'])\n",
    "nbr_medals_per_author = nbr_medals_per_author.rename(columns={0: 'NotAwarded', 1.0: 'Gold', 2.0: 'Silver', 3.0: 'Bronze'})\n",
    "nbr_medals_per_author['Awarded'] = nbr_medals_per_author['Gold'] + nbr_medals_per_author['Silver'] + nbr_medals_per_author['Bronze']\n",
    "nbr_medals_per_author = nbr_medals_per_author.sort_values(by='Awarded', ascending=False)\n",
    "nbr_medals_per_author = nbr_medals_per_author.reset_index(level=1) # Make DisplayName a column\n",
    "\n",
    "n = 30\n",
    "top = nbr_medals_per_author[:n]\n",
    "\n",
    "\n",
    "fig = {\n",
    "    'data': [\n",
    "        {\n",
    "            'type': 'bar',\n",
    "            'y': top['Bronze'].values,\n",
    "            'x': top['DisplayName'].values,\n",
    "            'name': 'Bronze',\n",
    "            'marker': {'color': medal_colors[2]}\n",
    "        }, {\n",
    "            'type': 'bar',\n",
    "            'y': top['Silver'].values,\n",
    "            'x': top['DisplayName'].values,\n",
    "            'name': 'Silver',\n",
    "            'marker': {'color': medal_colors[1]}\n",
    "        }, {\n",
    "            'type': 'bar',\n",
    "            'y': top['Gold'].values,\n",
    "            'x': top['DisplayName'].values,\n",
    "            'name': 'Gold',\n",
    "            'marker': {'color': medal_colors[0]}\n",
    "        }\n",
    "    ], 'layout': {\n",
    "        'title': f'Top {n} Kernel Authors ({range_dates_str})',\n",
    "        'barmode': 'stack',\n",
    "        'yaxis': {'title': 'Number of Awarded Kernels'},\n",
    "        'legend': {'x': 0.92, 'y': 1},\n",
    "        'margin': {'r': 0},\n",
    "        #'plot_bgcolor': PLOT_BG_COLOR,\n",
    "    }\n",
    "}\n",
    "\n",
    "iplot(fig)"
   ]
  },
  {
   "cell_type": "markdown",
   "metadata": {
    "_uuid": "54503d266341fe76580a3450634032c454ce4898"
   },
   "source": [
    "### **<span style=\"color: red\">Impressive !</span> **   [Bojan Tunguz](https://www.kaggle.com/tunguz/kernels) comes in top with 72 Awarded Kernels, but there is a lot of competition between the Top 4.\n",
    "\n",
    "*(Note: There are many other great Kernel Authors not figuring in the list. You can fork this kernel and play with the n parameter in the code, to get the Top n Authors in terms of number of awarded Kernels)*"
   ]
  },
  {
   "cell_type": "markdown",
   "metadata": {
    "_uuid": "cbac0cab1c19830112190b3944c419e085f7b3d4"
   },
   "source": [
    "# 4. It's not always **<span style=\"color: #dca917\">Gold</span>** ! <a id=\"4\" />"
   ]
  },
  {
   "cell_type": "markdown",
   "metadata": {
    "_uuid": "5349b321c09c57b90f2ba93ec7be2853296d12f2"
   },
   "source": [
    "After seeing the last graph, one might think that those authors are ***Super Humans*** ! However, the **DATA** says that it's the product of **<span style=\"color: red\">HARDWORK</span>** and **<span style=\"color: red\">PASSION</span>**!\n",
    "\n",
    "The following graph illustrates the proportion of Awarded & Not Awarded Kernels for each of the Top Authors :"
   ]
  },
  {
   "cell_type": "code",
   "execution_count": 8,
   "metadata": {
    "_kg_hide-input": true,
    "_uuid": "4be6e3a9d2b2cf5bf93bfcbca14aa4ce53aadff2"
   },
   "outputs": [
    {
     "data": {
      "application/vnd.plotly.v1+json": {
       "config": {
        "linkText": "Export to plot.ly",
        "plotlyServerURL": "https://plot.ly",
        "showLink": false
       },
       "data": [
        {
         "marker": {
          "color": "#66B3FF"
         },
         "name": "Not Awarded Kernels",
         "type": "bar",
         "uid": "7197e4ae-a4f1-406c-8c91-9f753831e1a7",
         "x": [
          "Bojan Tunguz",
          "GAJ KESHARI(गज केसरी)",
          "Scirpus",
          "Jonathan Bouchet",
          "Andy Harless",
          "Kevin Mader",
          "SRK",
          "Bukun",
          "Aleksey Bilogur",
          "Gabriel Preda",
          "Shivam Bansal",
          "beluga",
          "DSangeetha",
          "olivier",
          "ZFTurbo",
          "Umesh",
          "Andrew Lukyanenko",
          "anokas",
          "amrrs",
          "Nick Brooks",
          "Pranav Pandya",
          "Omri Goldstein",
          "JohnM",
          "Tilii",
          "Paulo Pinto",
          "DATAI",
          "YouHan Lee",
          "Troy Walters",
          "Anisotropic",
          "Shujian L."
         ],
         "y": [
          132,
          101,
          87,
          101,
          176,
          288,
          15,
          42,
          117,
          19,
          0,
          11,
          27,
          15,
          27,
          0,
          10,
          115,
          10,
          24,
          1,
          14,
          2,
          4,
          17,
          0,
          7,
          15,
          7,
          0
         ]
        },
        {
         "marker": {
          "color": "#FF9999"
         },
         "name": "Awarded Kernels",
         "type": "bar",
         "uid": "d00e987e-de3c-4df7-a4da-988fb2ac3f94",
         "x": [
          "Bojan Tunguz",
          "GAJ KESHARI(गज केसरी)",
          "Scirpus",
          "Jonathan Bouchet",
          "Andy Harless",
          "Kevin Mader",
          "SRK",
          "Bukun",
          "Aleksey Bilogur",
          "Gabriel Preda",
          "Shivam Bansal",
          "beluga",
          "DSangeetha",
          "olivier",
          "ZFTurbo",
          "Umesh",
          "Andrew Lukyanenko",
          "anokas",
          "amrrs",
          "Nick Brooks",
          "Pranav Pandya",
          "Omri Goldstein",
          "JohnM",
          "Tilii",
          "Paulo Pinto",
          "DATAI",
          "YouHan Lee",
          "Troy Walters",
          "Anisotropic",
          "Shujian L."
         ],
         "y": [
          72,
          72,
          71,
          69,
          63,
          59,
          51,
          47,
          44,
          44,
          43,
          38,
          38,
          35,
          32,
          32,
          31,
          31,
          30,
          30,
          29,
          29,
          27,
          27,
          26,
          26,
          25,
          25,
          24,
          23
         ]
        }
       ],
       "layout": {
        "barmode": "stack",
        "legend": {
         "x": 0.78,
         "y": 1
        },
        "margin": {
         "r": 0
        },
        "plot_bgcolor": "#f1f1f1",
        "title": {
         "text": "Top 30 Kernel Authors (Mar 2015 ~ Mar 2019)"
        },
        "yaxis": {
         "title": {
          "text": "Number of Kernels"
         }
        }
       }
      },
      "text/html": [
       "<div id=\"700a1eb7-b329-4096-bb63-b2057417009a\" style=\"height: 525px; width: 100%;\" class=\"plotly-graph-div\"></div><script type=\"text/javascript\">require([\"plotly\"], function(Plotly) { window.PLOTLYENV=window.PLOTLYENV || {};window.PLOTLYENV.BASE_URL=\"https://plot.ly\";Plotly.newPlot(\"700a1eb7-b329-4096-bb63-b2057417009a\", [{\"marker\": {\"color\": \"#66B3FF\"}, \"name\": \"Not Awarded Kernels\", \"x\": [\"Bojan Tunguz\", \"GAJ KESHARI(\\u0917\\u091c \\u0915\\u0947\\u0938\\u0930\\u0940)\", \"Scirpus\", \"Jonathan Bouchet\", \"Andy Harless\", \"Kevin Mader\", \"SRK\", \"Bukun\", \"Aleksey Bilogur\", \"Gabriel Preda\", \"Shivam Bansal\", \"beluga\", \"DSangeetha\", \"olivier\", \"ZFTurbo\", \"Umesh\", \"Andrew Lukyanenko\", \"anokas\", \"amrrs\", \"Nick Brooks\", \"Pranav Pandya\", \"Omri Goldstein\", \"JohnM\", \"Tilii\", \"Paulo Pinto\", \"DATAI\", \"YouHan Lee\", \"Troy Walters\", \"Anisotropic\", \"Shujian L.\"], \"y\": [132, 101, 87, 101, 176, 288, 15, 42, 117, 19, 0, 11, 27, 15, 27, 0, 10, 115, 10, 24, 1, 14, 2, 4, 17, 0, 7, 15, 7, 0], \"type\": \"bar\", \"uid\": \"511707d5-ec3c-43cc-8baa-4f96c91f2fda\"}, {\"marker\": {\"color\": \"#FF9999\"}, \"name\": \"Awarded Kernels\", \"x\": [\"Bojan Tunguz\", \"GAJ KESHARI(\\u0917\\u091c \\u0915\\u0947\\u0938\\u0930\\u0940)\", \"Scirpus\", \"Jonathan Bouchet\", \"Andy Harless\", \"Kevin Mader\", \"SRK\", \"Bukun\", \"Aleksey Bilogur\", \"Gabriel Preda\", \"Shivam Bansal\", \"beluga\", \"DSangeetha\", \"olivier\", \"ZFTurbo\", \"Umesh\", \"Andrew Lukyanenko\", \"anokas\", \"amrrs\", \"Nick Brooks\", \"Pranav Pandya\", \"Omri Goldstein\", \"JohnM\", \"Tilii\", \"Paulo Pinto\", \"DATAI\", \"YouHan Lee\", \"Troy Walters\", \"Anisotropic\", \"Shujian L.\"], \"y\": [72, 72, 71, 69, 63, 59, 51, 47, 44, 44, 43, 38, 38, 35, 32, 32, 31, 31, 30, 30, 29, 29, 27, 27, 26, 26, 25, 25, 24, 23], \"type\": \"bar\", \"uid\": \"4f872333-f0b0-47eb-b416-ac17007dd3ad\"}], {\"barmode\": \"stack\", \"legend\": {\"x\": 0.78, \"y\": 1}, \"margin\": {\"r\": 0}, \"plot_bgcolor\": \"#f1f1f1\", \"title\": {\"text\": \"Top 30 Kernel Authors (Mar 2015 ~ Mar 2019)\"}, \"yaxis\": {\"title\": {\"text\": \"Number of Kernels\"}}}, {\"showLink\": false, \"linkText\": \"Export to plot.ly\", \"plotlyServerURL\": \"https://plot.ly\"})});</script><script type=\"text/javascript\">window.addEventListener(\"resize\", function(){window._Plotly.Plots.resize(document.getElementById(\"700a1eb7-b329-4096-bb63-b2057417009a\"));});</script>"
      ],
      "text/vnd.plotly.v1+html": [
       "<div id=\"700a1eb7-b329-4096-bb63-b2057417009a\" style=\"height: 525px; width: 100%;\" class=\"plotly-graph-div\"></div><script type=\"text/javascript\">require([\"plotly\"], function(Plotly) { window.PLOTLYENV=window.PLOTLYENV || {};window.PLOTLYENV.BASE_URL=\"https://plot.ly\";Plotly.newPlot(\"700a1eb7-b329-4096-bb63-b2057417009a\", [{\"marker\": {\"color\": \"#66B3FF\"}, \"name\": \"Not Awarded Kernels\", \"x\": [\"Bojan Tunguz\", \"GAJ KESHARI(\\u0917\\u091c \\u0915\\u0947\\u0938\\u0930\\u0940)\", \"Scirpus\", \"Jonathan Bouchet\", \"Andy Harless\", \"Kevin Mader\", \"SRK\", \"Bukun\", \"Aleksey Bilogur\", \"Gabriel Preda\", \"Shivam Bansal\", \"beluga\", \"DSangeetha\", \"olivier\", \"ZFTurbo\", \"Umesh\", \"Andrew Lukyanenko\", \"anokas\", \"amrrs\", \"Nick Brooks\", \"Pranav Pandya\", \"Omri Goldstein\", \"JohnM\", \"Tilii\", \"Paulo Pinto\", \"DATAI\", \"YouHan Lee\", \"Troy Walters\", \"Anisotropic\", \"Shujian L.\"], \"y\": [132, 101, 87, 101, 176, 288, 15, 42, 117, 19, 0, 11, 27, 15, 27, 0, 10, 115, 10, 24, 1, 14, 2, 4, 17, 0, 7, 15, 7, 0], \"type\": \"bar\", \"uid\": \"511707d5-ec3c-43cc-8baa-4f96c91f2fda\"}, {\"marker\": {\"color\": \"#FF9999\"}, \"name\": \"Awarded Kernels\", \"x\": [\"Bojan Tunguz\", \"GAJ KESHARI(\\u0917\\u091c \\u0915\\u0947\\u0938\\u0930\\u0940)\", \"Scirpus\", \"Jonathan Bouchet\", \"Andy Harless\", \"Kevin Mader\", \"SRK\", \"Bukun\", \"Aleksey Bilogur\", \"Gabriel Preda\", \"Shivam Bansal\", \"beluga\", \"DSangeetha\", \"olivier\", \"ZFTurbo\", \"Umesh\", \"Andrew Lukyanenko\", \"anokas\", \"amrrs\", \"Nick Brooks\", \"Pranav Pandya\", \"Omri Goldstein\", \"JohnM\", \"Tilii\", \"Paulo Pinto\", \"DATAI\", \"YouHan Lee\", \"Troy Walters\", \"Anisotropic\", \"Shujian L.\"], \"y\": [72, 72, 71, 69, 63, 59, 51, 47, 44, 44, 43, 38, 38, 35, 32, 32, 31, 31, 30, 30, 29, 29, 27, 27, 26, 26, 25, 25, 24, 23], \"type\": \"bar\", \"uid\": \"4f872333-f0b0-47eb-b416-ac17007dd3ad\"}], {\"barmode\": \"stack\", \"legend\": {\"x\": 0.78, \"y\": 1}, \"margin\": {\"r\": 0}, \"plot_bgcolor\": \"#f1f1f1\", \"title\": {\"text\": \"Top 30 Kernel Authors (Mar 2015 ~ Mar 2019)\"}, \"yaxis\": {\"title\": {\"text\": \"Number of Kernels\"}}}, {\"showLink\": false, \"linkText\": \"Export to plot.ly\", \"plotlyServerURL\": \"https://plot.ly\"})});</script><script type=\"text/javascript\">window.addEventListener(\"resize\", function(){window._Plotly.Plots.resize(document.getElementById(\"700a1eb7-b329-4096-bb63-b2057417009a\"));});</script>"
      ]
     },
     "metadata": {},
     "output_type": "display_data"
    }
   ],
   "source": [
    "\n",
    "fig = {\n",
    "    'data': [\n",
    "        {\n",
    "            'type': 'bar',\n",
    "            'y': top['NotAwarded'].values,\n",
    "            'x': top['DisplayName'].values,\n",
    "            'name': 'Not Awarded Kernels',\n",
    "            'marker': {'color': kernel_colors[1]}\n",
    "        },{\n",
    "            'type': 'bar',\n",
    "            'y': top['Awarded'].values,\n",
    "            'x': top['DisplayName'].values,\n",
    "            'name': 'Awarded Kernels',\n",
    "            'marker': {'color': kernel_colors[0]}\n",
    "        }\n",
    "    ], 'layout': {\n",
    "        'title': f'Top {n} Kernel Authors ({range_dates_str})',\n",
    "        'barmode': 'stack',\n",
    "        'yaxis': {'title': 'Number of Kernels'},\n",
    "        'legend': {'x': 0.78, 'y': 1},\n",
    "        'plot_bgcolor': PLOT_BG_COLOR,\n",
    "        'margin': {'r': 0}\n",
    "    }\n",
    "}\n",
    "\n",
    "iplot(fig)"
   ]
  },
  {
   "cell_type": "markdown",
   "metadata": {
    "_uuid": "d5167534c2123ec27d7023c86dd2f3479fb7de43"
   },
   "source": [
    "### **<span style=\"color: red\">Observation</span>**: Many Top Authors wrote *several non-awarded Kernels*. This shows that their success is the product of *<span style=\"color: red\">HARDWORK</span>* ! It's not always *<span style=\"color: #dca917\">GOLD</span>* !\n",
    "\n",
    "*(Note: It is possible that an author deletes some of his previously published Kernels. The graph is based on the Meta Kaggle dataset which only shows currently public Kernels )*"
   ]
  },
  {
   "cell_type": "markdown",
   "metadata": {
    "_uuid": "056e96b69a872e959db954c20a83d8740e795ab8"
   },
   "source": [
    "# 5. You <span style=\"color: red\">CAN</span> do it too ! <a id=\"5\" />"
   ]
  },
  {
   "cell_type": "markdown",
   "metadata": {
    "_uuid": "a84b0e9f3ca376e7eebd671fca240d74801c9fb5"
   },
   "source": [
    "### One might also think that these Top Authors are the ones who publish the most in Kaggle. However, the **DATA** says something else !\n",
    "\n",
    "The following graph shows the how many kernels were published by each Author Category (Preformance Tier):"
   ]
  },
  {
   "cell_type": "code",
   "execution_count": 9,
   "metadata": {
    "_kg_hide-input": true,
    "_uuid": "1263d05f853ba73a2bc77a57ac5d28c55746d39b"
   },
   "outputs": [
    {
     "data": {
      "application/vnd.plotly.v1+json": {
       "config": {
        "linkText": "Export to plot.ly",
        "plotlyServerURL": "https://plot.ly",
        "showLink": false
       },
       "data": [
        {
         "hole": 0.3,
         "labels": [
          "Novices",
          "Contributors",
          "Experts",
          "Masters",
          "Grandmasters"
         ],
         "marker": {
          "colors": [
           "#5AC995",
           "#00BBFF",
           "#976591",
           "#F96517",
           "#DCA917"
          ]
         },
         "textinfo": "percent+label",
         "type": "pie",
         "uid": "e561b3a5-53e8-4746-a538-0f42a5c0c68e",
         "values": [
          1164,
          2334,
          3044,
          1553,
          684
         ]
        }
       ],
       "layout": {
        "showlegend": false,
        "title": {
         "text": "Number of Awarded Kernels by Author Tier"
        }
       }
      },
      "text/html": [
       "<div id=\"196b93bd-61d8-4e36-8a90-608d1c384b48\" style=\"height: 525px; width: 100%;\" class=\"plotly-graph-div\"></div><script type=\"text/javascript\">require([\"plotly\"], function(Plotly) { window.PLOTLYENV=window.PLOTLYENV || {};window.PLOTLYENV.BASE_URL=\"https://plot.ly\";Plotly.newPlot(\"196b93bd-61d8-4e36-8a90-608d1c384b48\", [{\"hole\": 0.3, \"labels\": [\"Novices\", \"Contributors\", \"Experts\", \"Masters\", \"Grandmasters\"], \"marker\": {\"colors\": [\"#5AC995\", \"#00BBFF\", \"#976591\", \"#F96517\", \"#DCA917\"]}, \"textinfo\": \"percent+label\", \"values\": [1164, 2334, 3044, 1553, 684], \"type\": \"pie\", \"uid\": \"4ff5711a-4cf1-45d7-a49f-267d5dbb4d3d\"}], {\"showlegend\": false, \"title\": {\"text\": \"Number of Awarded Kernels by Author Tier\"}}, {\"showLink\": false, \"linkText\": \"Export to plot.ly\", \"plotlyServerURL\": \"https://plot.ly\"})});</script><script type=\"text/javascript\">window.addEventListener(\"resize\", function(){window._Plotly.Plots.resize(document.getElementById(\"196b93bd-61d8-4e36-8a90-608d1c384b48\"));});</script>"
      ],
      "text/vnd.plotly.v1+html": [
       "<div id=\"196b93bd-61d8-4e36-8a90-608d1c384b48\" style=\"height: 525px; width: 100%;\" class=\"plotly-graph-div\"></div><script type=\"text/javascript\">require([\"plotly\"], function(Plotly) { window.PLOTLYENV=window.PLOTLYENV || {};window.PLOTLYENV.BASE_URL=\"https://plot.ly\";Plotly.newPlot(\"196b93bd-61d8-4e36-8a90-608d1c384b48\", [{\"hole\": 0.3, \"labels\": [\"Novices\", \"Contributors\", \"Experts\", \"Masters\", \"Grandmasters\"], \"marker\": {\"colors\": [\"#5AC995\", \"#00BBFF\", \"#976591\", \"#F96517\", \"#DCA917\"]}, \"textinfo\": \"percent+label\", \"values\": [1164, 2334, 3044, 1553, 684], \"type\": \"pie\", \"uid\": \"4ff5711a-4cf1-45d7-a49f-267d5dbb4d3d\"}], {\"showlegend\": false, \"title\": {\"text\": \"Number of Awarded Kernels by Author Tier\"}}, {\"showLink\": false, \"linkText\": \"Export to plot.ly\", \"plotlyServerURL\": \"https://plot.ly\"})});</script><script type=\"text/javascript\">window.addEventListener(\"resize\", function(){window._Plotly.Plots.resize(document.getElementById(\"196b93bd-61d8-4e36-8a90-608d1c384b48\"));});</script>"
      ]
     },
     "metadata": {},
     "output_type": "display_data"
    }
   ],
   "source": [
    "nbr_awarded_kernels_per_tier = medal_kernels['PerformanceTier'].value_counts()\n",
    "nbr_awarded_kernels_per_tier = nbr_awarded_kernels_per_tier.sort_index()\n",
    "#nbr_awarded_kernels_per_tier\n",
    "\n",
    "tier_colors = ['#5AC995', '#00BBFF', '#976591', '#F96517', '#DCA917']\n",
    "\n",
    "fig = {\n",
    "    'data': [{\n",
    "        'type': 'pie',\n",
    "        'labels': ['Novices', 'Contributors', 'Experts', 'Masters', 'Grandmasters'],\n",
    "        'values': nbr_awarded_kernels_per_tier,\n",
    "        'hole': .3,\n",
    "        'textinfo': 'percent+label',\n",
    "        'marker': {'colors': tier_colors}\n",
    "    }],\n",
    "    'layout': {\n",
    "        'title': f'Number of Awarded Kernels by Author Tier',\n",
    "        'showlegend': False\n",
    "    }\n",
    "}\n",
    "iplot(fig)"
   ]
  },
  {
   "cell_type": "markdown",
   "metadata": {
    "_uuid": "4be03ff40a7bd916542008219058c0586507f76c"
   },
   "source": [
    "### **<span style=\"color: red\">Observation</span>**: <span style=\"color: #976591\"> Experts</span> produce the most number of Kernels ( probably because they want to become Masters). Then followed by <span style=\"color: #00BBFF\">Contributors</span> ! After them come <span style=\"color: #F96517\">Masters</span> and then <span style=\"color: #5AC995\">Novices</span> ! Lastly we have <span style=\"color: #DCA917\">Grandmasters</span> producing ~7.8% of the Awarded Kernels (probably because there only according to the [first chart](#2) only 8.5% of the authors have reached that level)"
   ]
  },
  {
   "cell_type": "markdown",
   "metadata": {
    "_uuid": "b96cbb325f9c3efaa93ca521e7ce21dc41706262"
   },
   "source": [
    "# 6. When did the Top Authors start publishing ?<a id=\"6\" />"
   ]
  },
  {
   "cell_type": "markdown",
   "metadata": {
    "_uuid": "cf60adb52f905984e3d1518a3f9a34478c455e2d"
   },
   "source": [
    "Another interesting thing to examine, is when did the Top authors start publishing their first Kernels. In other words, how much time did it take them to reach this level."
   ]
  },
  {
   "cell_type": "code",
   "execution_count": 10,
   "metadata": {
    "_kg_hide-input": true,
    "_uuid": "ccdcdb4b7583fef880633016e5cae518f574f3f8"
   },
   "outputs": [
    {
     "data": {
      "application/vnd.plotly.v1+json": {
       "config": {
        "linkText": "Export to plot.ly",
        "plotlyServerURL": "https://plot.ly",
        "showLink": false
       },
       "data": [
        {
         "marker": {
          "color": "red",
          "line": {
           "color": "white",
           "width": 2
          }
         },
         "opacity": 0.5,
         "type": "histogram",
         "uid": "5eb2144b-5072-4407-af31-251d0a18faf5",
         "x": [
          "2015-04-23",
          "2015-06-06",
          "2015-06-26",
          "2015-07-17",
          "2015-08-14",
          "2015-08-31",
          "2015-09-24",
          "2015-09-30",
          "2015-10-07",
          "2015-10-26",
          "2016-01-07",
          "2016-01-22",
          "2016-01-30",
          "2016-02-05",
          "2016-03-07",
          "2016-03-08",
          "2016-03-14",
          "2016-03-27",
          "2016-04-15",
          "2016-05-13",
          "2016-07-02",
          "2016-07-12",
          "2016-07-28",
          "2016-08-22",
          "2016-10-15",
          "2016-10-18",
          "2016-10-19",
          "2016-11-01",
          "2016-11-06",
          "2016-11-30",
          "2016-12-10",
          "2016-12-16",
          "2017-01-04",
          "2017-01-21",
          "2017-02-27",
          "2017-04-11",
          "2017-04-15",
          "2017-04-22",
          "2017-07-11",
          "2017-07-15",
          "2017-07-17",
          "2017-07-19",
          "2017-10-07",
          "2017-10-25",
          "2017-11-27",
          "2018-01-09",
          "2018-02-09",
          "2018-02-14",
          "2018-03-21",
          "2018-03-22"
         ]
        }
       ],
       "layout": {
        "title": {
         "text": "Dates of First Published Kernel (top 50 Authors)"
        },
        "xaxis": {
         "title": {
          "text": "Date of First Published Kernel"
         }
        },
        "yaxis": {
         "title": {
          "text": "Number of Authors"
         }
        }
       }
      },
      "text/html": [
       "<div id=\"0252da42-1079-47af-9d7b-36df5e949e81\" style=\"height: 525px; width: 100%;\" class=\"plotly-graph-div\"></div><script type=\"text/javascript\">require([\"plotly\"], function(Plotly) { window.PLOTLYENV=window.PLOTLYENV || {};window.PLOTLYENV.BASE_URL=\"https://plot.ly\";Plotly.newPlot(\"0252da42-1079-47af-9d7b-36df5e949e81\", [{\"marker\": {\"color\": \"red\", \"line\": {\"color\": \"white\", \"width\": 2}}, \"opacity\": 0.5, \"x\": [\"2015-04-23\", \"2015-06-06\", \"2015-06-26\", \"2015-07-17\", \"2015-08-14\", \"2015-08-31\", \"2015-09-24\", \"2015-09-30\", \"2015-10-07\", \"2015-10-26\", \"2016-01-07\", \"2016-01-22\", \"2016-01-30\", \"2016-02-05\", \"2016-03-07\", \"2016-03-08\", \"2016-03-14\", \"2016-03-27\", \"2016-04-15\", \"2016-05-13\", \"2016-07-02\", \"2016-07-12\", \"2016-07-28\", \"2016-08-22\", \"2016-10-15\", \"2016-10-18\", \"2016-10-19\", \"2016-11-01\", \"2016-11-06\", \"2016-11-30\", \"2016-12-10\", \"2016-12-16\", \"2017-01-04\", \"2017-01-21\", \"2017-02-27\", \"2017-04-11\", \"2017-04-15\", \"2017-04-22\", \"2017-07-11\", \"2017-07-15\", \"2017-07-17\", \"2017-07-19\", \"2017-10-07\", \"2017-10-25\", \"2017-11-27\", \"2018-01-09\", \"2018-02-09\", \"2018-02-14\", \"2018-03-21\", \"2018-03-22\"], \"type\": \"histogram\", \"uid\": \"489ce71c-5139-438f-b92a-5c5607f0343c\"}], {\"title\": {\"text\": \"Dates of First Published Kernel (top 50 Authors)\"}, \"xaxis\": {\"title\": {\"text\": \"Date of First Published Kernel\"}}, \"yaxis\": {\"title\": {\"text\": \"Number of Authors\"}}}, {\"showLink\": false, \"linkText\": \"Export to plot.ly\", \"plotlyServerURL\": \"https://plot.ly\"})});</script><script type=\"text/javascript\">window.addEventListener(\"resize\", function(){window._Plotly.Plots.resize(document.getElementById(\"0252da42-1079-47af-9d7b-36df5e949e81\"));});</script>"
      ],
      "text/vnd.plotly.v1+html": [
       "<div id=\"0252da42-1079-47af-9d7b-36df5e949e81\" style=\"height: 525px; width: 100%;\" class=\"plotly-graph-div\"></div><script type=\"text/javascript\">require([\"plotly\"], function(Plotly) { window.PLOTLYENV=window.PLOTLYENV || {};window.PLOTLYENV.BASE_URL=\"https://plot.ly\";Plotly.newPlot(\"0252da42-1079-47af-9d7b-36df5e949e81\", [{\"marker\": {\"color\": \"red\", \"line\": {\"color\": \"white\", \"width\": 2}}, \"opacity\": 0.5, \"x\": [\"2015-04-23\", \"2015-06-06\", \"2015-06-26\", \"2015-07-17\", \"2015-08-14\", \"2015-08-31\", \"2015-09-24\", \"2015-09-30\", \"2015-10-07\", \"2015-10-26\", \"2016-01-07\", \"2016-01-22\", \"2016-01-30\", \"2016-02-05\", \"2016-03-07\", \"2016-03-08\", \"2016-03-14\", \"2016-03-27\", \"2016-04-15\", \"2016-05-13\", \"2016-07-02\", \"2016-07-12\", \"2016-07-28\", \"2016-08-22\", \"2016-10-15\", \"2016-10-18\", \"2016-10-19\", \"2016-11-01\", \"2016-11-06\", \"2016-11-30\", \"2016-12-10\", \"2016-12-16\", \"2017-01-04\", \"2017-01-21\", \"2017-02-27\", \"2017-04-11\", \"2017-04-15\", \"2017-04-22\", \"2017-07-11\", \"2017-07-15\", \"2017-07-17\", \"2017-07-19\", \"2017-10-07\", \"2017-10-25\", \"2017-11-27\", \"2018-01-09\", \"2018-02-09\", \"2018-02-14\", \"2018-03-21\", \"2018-03-22\"], \"type\": \"histogram\", \"uid\": \"489ce71c-5139-438f-b92a-5c5607f0343c\"}], {\"title\": {\"text\": \"Dates of First Published Kernel (top 50 Authors)\"}, \"xaxis\": {\"title\": {\"text\": \"Date of First Published Kernel\"}}, \"yaxis\": {\"title\": {\"text\": \"Number of Authors\"}}}, {\"showLink\": false, \"linkText\": \"Export to plot.ly\", \"plotlyServerURL\": \"https://plot.ly\"})});</script><script type=\"text/javascript\">window.addEventListener(\"resize\", function(){window._Plotly.Plots.resize(document.getElementById(\"0252da42-1079-47af-9d7b-36df5e949e81\"));});</script>"
      ]
     },
     "metadata": {},
     "output_type": "display_data"
    }
   ],
   "source": [
    "# Date of first kernel\n",
    "n = 50\n",
    "top = nbr_medals_per_author.head(n)\n",
    "oldest_kernel_dates = []\n",
    "for userid in top.index:\n",
    "    oldest_kernel_date = normal_user_kernels[normal_user_kernels['AuthorUserId'] == userid]['MadePublicDate'].min()\n",
    "    oldest_kernel_dates.append(oldest_kernel_date)\n",
    "oldest_kernel_dates = pd.Series(oldest_kernel_dates, index=top.index).sort_values()\n",
    "\n",
    "# Date of first kernel\n",
    "\n",
    "#fig = ff.create_distplot(s, [f'Top {n} authors'])\n",
    "\n",
    "\n",
    "fig= {\n",
    "    'data': [\n",
    "        {\n",
    "            'type': 'histogram',\n",
    "            #'bin_size': .4,\n",
    "            'marker': {\"color\": 'red', 'line': {'color': 'white', 'width': 2}}, \n",
    "            'x': oldest_kernel_dates,\n",
    "            \"opacity\": 0.5, \n",
    "        }\n",
    "    ],\n",
    "    'layout': {\n",
    "        'title': f'Dates of First Published Kernel (top {n} Authors)',\n",
    "        'xaxis': {'title': 'Date of First Published Kernel'},\n",
    "        'yaxis': {'title': 'Number of Authors'}\n",
    "    }\n",
    "}\n",
    "\n",
    "iplot(fig)"
   ]
  },
  {
   "cell_type": "markdown",
   "metadata": {
    "_uuid": "df45eb99eb02d01820cc291b60e97cbb6be425b0"
   },
   "source": [
    "### **<span style=\"color: red\">Observation</span>**:  **More than 50%** of the Top Authors started before January 2017 ( **more than one year ago** )\n",
    "\n",
    "(*Note: This only shows how much experience the top authors have on Kaggle, we're not taking into account their Data Science experience prior to Kaggle*)"
   ]
  },
  {
   "cell_type": "markdown",
   "metadata": {
    "_uuid": "6b5f518bd0d5c1ad10a618c5495b8b4387921b1a"
   },
   "source": [
    "# 7. Tags in Top Kernels <a id=\"7\" />"
   ]
  },
  {
   "cell_type": "markdown",
   "metadata": {
    "_uuid": "7bf463ae65c35e2e5836ed52e539cddda540f00d"
   },
   "source": [
    "Lastly, we examine the most used tags in the awarded Kernels."
   ]
  },
  {
   "cell_type": "code",
   "execution_count": 11,
   "metadata": {
    "_kg_hide-input": true,
    "_uuid": "64eb7ceee8587b9af3794b096ef9c84f971af607"
   },
   "outputs": [
    {
     "data": {
      "text/plain": [
       "<Figure size 432x288 with 0 Axes>"
      ]
     },
     "metadata": {},
     "output_type": "display_data"
    },
    {
     "data": {
      "image/png": "[encoded data removed]",
      "text/plain": [
       "<Figure size 1152x648 with 1 Axes>"
      ]
     },
     "metadata": {},
     "output_type": "display_data"
    }
   ],
   "source": [
    "tags_df = pd.read_csv('../input/Tags.csv')\n",
    "normal_user_kernel_tags = pd.read_csv('../input/KernelTags.csv')\n",
    "normal_user_kernel_tags = normal_user_kernel_tags[normal_user_kernel_tags['KernelId'].isin(normal_user_kernels.index)]\n",
    "medal_kernels_tag_ids = normal_user_kernel_tags[normal_user_kernel_tags['KernelId'].isin(medal_kernels.index)]['TagId']\n",
    "tags_df = tags_df.set_index('Id')\n",
    "tags_dic = tags_df[['Slug', 'Name']].to_dict('index')\n",
    "slugs = []\n",
    "for tid in medal_kernels_tag_ids:\n",
    "    slugs.append(tags_dic[tid]['Slug'])\n",
    "\n",
    "wc=WordCloud(width=800, height=400).generate(' '.join(slugs))\n",
    "plt.clf()\n",
    "plt.figure( figsize=(16,9) )\n",
    "plt.title('Most used Tags in Awarded Kernels', fontsize=20)\n",
    "plt.imshow(wc)\n",
    "plt.axis('off')\n",
    "plt.show()"
   ]
  },
  {
   "cell_type": "code",
   "execution_count": 12,
   "metadata": {
    "_kg_hide-input": true,
    "_uuid": "6f3161e23c61d955a11b7df4ea0d4a0a0fed3551"
   },
   "outputs": [
    {
     "data": {
      "application/vnd.plotly.v1+json": {
       "config": {
        "linkText": "Export to plot.ly",
        "plotlyServerURL": "https://plot.ly",
        "showLink": false
       },
       "data": [
        {
         "marker": {
          "color": [
           1541,
           1273,
           1063,
           759,
           517,
           434,
           381,
           292,
           278,
           196,
           141,
           135,
           124,
           123,
           96,
           91,
           89,
           84,
           81,
           79,
           79,
           77,
           75,
           75,
           74,
           71,
           66,
           65,
           64,
           62
          ],
          "colorscale": "Viridis",
          "showscale": true
         },
         "type": "bar",
         "uid": "4bc47edd-6b71-4d7f-8c97-3604e04d86b4",
         "x": [
          "data-visualization",
          "beginner",
          "eda",
          "tutorial",
          "feature-engineering",
          "classification",
          "starter-code",
          "deep-learning",
          "data-cleaning",
          "nlp",
          "neural-networks",
          "xgboost",
          "cnn",
          "finance",
          "time-series",
          "ensembling",
          "gradient-boosting",
          "image-processing",
          "random-forest",
          "food-and-drink",
          "text-mining",
          "text-data",
          "regression-analysis",
          "video-games",
          "geospatial-analysis",
          "crime",
          "logistic-regression",
          "survey-analysis",
          "healthcare",
          "regression"
         ],
         "y": [
          1541,
          1273,
          1063,
          759,
          517,
          434,
          381,
          292,
          278,
          196,
          141,
          135,
          124,
          123,
          96,
          91,
          89,
          84,
          81,
          79,
          79,
          77,
          75,
          75,
          74,
          71,
          66,
          65,
          64,
          62
         ]
        }
       ],
       "layout": {
        "title": {
         "text": "Top 30 most used Tags in Awarded Kernels"
        },
        "yaxis": {
         "title": {
          "text": "Number of times used"
         }
        }
       }
      },
      "text/html": [
       "<div id=\"c0836957-4e9c-4c49-9837-933cbb4cf954\" style=\"height: 525px; width: 100%;\" class=\"plotly-graph-div\"></div><script type=\"text/javascript\">require([\"plotly\"], function(Plotly) { window.PLOTLYENV=window.PLOTLYENV || {};window.PLOTLYENV.BASE_URL=\"https://plot.ly\";Plotly.newPlot(\"c0836957-4e9c-4c49-9837-933cbb4cf954\", [{\"marker\": {\"color\": [1541, 1273, 1063, 759, 517, 434, 381, 292, 278, 196, 141, 135, 124, 123, 96, 91, 89, 84, 81, 79, 79, 77, 75, 75, 74, 71, 66, 65, 64, 62], \"colorscale\": \"Viridis\", \"showscale\": true}, \"x\": [\"data-visualization\", \"beginner\", \"eda\", \"tutorial\", \"feature-engineering\", \"classification\", \"starter-code\", \"deep-learning\", \"data-cleaning\", \"nlp\", \"neural-networks\", \"xgboost\", \"cnn\", \"finance\", \"time-series\", \"ensembling\", \"gradient-boosting\", \"image-processing\", \"random-forest\", \"food-and-drink\", \"text-mining\", \"text-data\", \"regression-analysis\", \"video-games\", \"geospatial-analysis\", \"crime\", \"logistic-regression\", \"survey-analysis\", \"healthcare\", \"regression\"], \"y\": [1541, 1273, 1063, 759, 517, 434, 381, 292, 278, 196, 141, 135, 124, 123, 96, 91, 89, 84, 81, 79, 79, 77, 75, 75, 74, 71, 66, 65, 64, 62], \"type\": \"bar\", \"uid\": \"fb37cf29-07cd-42cf-bb76-8f2b4f8b1099\"}], {\"title\": {\"text\": \"Top 30 most used Tags in Awarded Kernels\"}, \"yaxis\": {\"title\": {\"text\": \"Number of times used\"}}}, {\"showLink\": false, \"linkText\": \"Export to plot.ly\", \"plotlyServerURL\": \"https://plot.ly\"})});</script><script type=\"text/javascript\">window.addEventListener(\"resize\", function(){window._Plotly.Plots.resize(document.getElementById(\"c0836957-4e9c-4c49-9837-933cbb4cf954\"));});</script>"
      ],
      "text/vnd.plotly.v1+html": [
       "<div id=\"c0836957-4e9c-4c49-9837-933cbb4cf954\" style=\"height: 525px; width: 100%;\" class=\"plotly-graph-div\"></div><script type=\"text/javascript\">require([\"plotly\"], function(Plotly) { window.PLOTLYENV=window.PLOTLYENV || {};window.PLOTLYENV.BASE_URL=\"https://plot.ly\";Plotly.newPlot(\"c0836957-4e9c-4c49-9837-933cbb4cf954\", [{\"marker\": {\"color\": [1541, 1273, 1063, 759, 517, 434, 381, 292, 278, 196, 141, 135, 124, 123, 96, 91, 89, 84, 81, 79, 79, 77, 75, 75, 74, 71, 66, 65, 64, 62], \"colorscale\": \"Viridis\", \"showscale\": true}, \"x\": [\"data-visualization\", \"beginner\", \"eda\", \"tutorial\", \"feature-engineering\", \"classification\", \"starter-code\", \"deep-learning\", \"data-cleaning\", \"nlp\", \"neural-networks\", \"xgboost\", \"cnn\", \"finance\", \"time-series\", \"ensembling\", \"gradient-boosting\", \"image-processing\", \"random-forest\", \"food-and-drink\", \"text-mining\", \"text-data\", \"regression-analysis\", \"video-games\", \"geospatial-analysis\", \"crime\", \"logistic-regression\", \"survey-analysis\", \"healthcare\", \"regression\"], \"y\": [1541, 1273, 1063, 759, 517, 434, 381, 292, 278, 196, 141, 135, 124, 123, 96, 91, 89, 84, 81, 79, 79, 77, 75, 75, 74, 71, 66, 65, 64, 62], \"type\": \"bar\", \"uid\": \"fb37cf29-07cd-42cf-bb76-8f2b4f8b1099\"}], {\"title\": {\"text\": \"Top 30 most used Tags in Awarded Kernels\"}, \"yaxis\": {\"title\": {\"text\": \"Number of times used\"}}}, {\"showLink\": false, \"linkText\": \"Export to plot.ly\", \"plotlyServerURL\": \"https://plot.ly\"})});</script><script type=\"text/javascript\">window.addEventListener(\"resize\", function(){window._Plotly.Plots.resize(document.getElementById(\"c0836957-4e9c-4c49-9837-933cbb4cf954\"));});</script>"
      ]
     },
     "metadata": {},
     "output_type": "display_data"
    }
   ],
   "source": [
    "# Bar chart for Top used Tags in Awarded Kernels\n",
    "\n",
    "n = 30\n",
    "slug_counts = pd.Series(slugs).value_counts().head(n)\n",
    "\n",
    "fig = {\n",
    "    'data': [\n",
    "        {\n",
    "            'type': 'bar',\n",
    "            #'orientation': 'h',\n",
    "            'y': slug_counts,\n",
    "            'x': slug_counts.index,\n",
    "            'marker': {'color': slug_counts, 'colorscale': 'Viridis', 'showscale': True}\n",
    "        }\n",
    "    ], 'layout': {\n",
    "        'title': f'Top {n} most used Tags in Awarded Kernels',\n",
    "        'yaxis': {'title': 'Number of times used'}\n",
    "    }\n",
    "}\n",
    "iplot(fig)"
   ]
  },
  {
   "cell_type": "markdown",
   "metadata": {
    "_uuid": "9d2da62593b5c0aa363c5091f4688fb432637ef3"
   },
   "source": [
    "### **<span style=\"color: red\">Observation</span>**:  It seems that top Kernels are directed towards **Beginners**, and are centered around **Exploratory Data Analysis** and **Visualization**"
   ]
  },
  {
   "cell_type": "markdown",
   "metadata": {
    "_uuid": "450183f5d508b761ba53e10d2a45bbe3100eb648"
   },
   "source": [
    "# 8. Python vs R <a id=\"8\" />"
   ]
  },
  {
   "cell_type": "markdown",
   "metadata": {
    "_uuid": "7941fdf164282d0498175301feea6a0c6acb3131"
   },
   "source": [
    "Let's now see which language is most used in Awarded Kernels"
   ]
  },
  {
   "cell_type": "code",
   "execution_count": 13,
   "metadata": {
    "_kg_hide-input": true,
    "_uuid": "f1276c2ac82fbdb0334e9ebdcb3384bc8296a111"
   },
   "outputs": [],
   "source": [
    "normal_user_kernel_versions = pd.read_csv('../input/KernelVersions.csv', \n",
    "                                          usecols=['Id', 'KernelId', 'KernelLanguageId', 'AuthorUserId', 'VersionNumber', 'CreationDate'])\n",
    "normal_user_kernel_versions.set_index('Id', inplace=True)\n",
    "\n",
    "#normal_user_kernels.set_index('Id', inplace=True)\n",
    "\n",
    "# Drop All versions which have KernelId NaN\n",
    "normal_user_kernel_versions = normal_user_kernel_versions.drop(\n",
    "    normal_user_kernel_versions[normal_user_kernel_versions['KernelId'].isnull()].index, axis=0)\n",
    "\n",
    "# Drop All versions which have VersionNumber NaN\n",
    "normal_user_kernel_versions = normal_user_kernel_versions.drop(\n",
    "    normal_user_kernel_versions[normal_user_kernel_versions['VersionNumber'].isnull() ].index, axis=0)\n",
    "\n",
    "kernel_ids_with_null_current_version = list(normal_user_kernels[pd.isnull(normal_user_kernels['CurrentKernelVersionId'])].index)\n",
    "#print('There are ', len(kernel_ids_with_null_current_version), 'Kernels with null CurrentKernelVersionId')\n",
    "null_kvs = normal_user_kernel_versions[normal_user_kernel_versions['KernelId'].isin(kernel_ids_with_null_current_version)]\n",
    "\n",
    "# Try to find the CurrentKernelVersionId for the Kernels that have them NaN\n",
    "for i, r in normal_user_kernels[normal_user_kernels.index.isin(kernel_ids_with_null_current_version)].iterrows():\n",
    "    kvs = null_kvs[null_kvs['KernelId'] == i]\n",
    "    if len(kvs) == 1:\n",
    "        normal_user_kernels.at[i, 'CurrentKernelVersionId'] = kvs.index.values[0]\n",
    "    elif len(kvs) == 0:\n",
    "        pass\n",
    "        #print('WTF: Kernel ', i )\n",
    "    else:\n",
    "        r= kvs[kvs['CreationDate'] == kvs['CreationDate'].max()]\n",
    "        if len(r) == 1:\n",
    "            normal_user_kernels.at[i, 'CurrentKernelVersionId'] = r.index.values[0]\n",
    "        else:\n",
    "            normal_user_kernels.at[i, 'CurrentKernelVersionId'] = r.iloc[0].index.values[0]\n",
    "\n",
    "kernel_languages_dic = pd.read_csv('../input/KernelLanguages.csv', usecols=['Id', 'DisplayName'],index_col='Id')\n",
    "kernel_languages_dic = kernel_languages_dic.to_dict('index')\n",
    "\n",
    "# For each kernel which has a valid CurrentKernelVersionId, fill the language column with the appropriate Language\n",
    "normal_user_kernels['KernelLanguage'] = 'Unknown'\n",
    "for i,k in normal_user_kernels[normal_user_kernels['CurrentKernelVersionId'].isin(normal_user_kernel_versions.index)].iterrows():\n",
    "    kv_id = k['CurrentKernelVersionId']\n",
    "    x = normal_user_kernel_versions.loc[kv_id]\n",
    "    lan_id = x['KernelLanguageId']\n",
    "    #print(lan_id)\n",
    "    if lan_id in kernel_languages_dic.keys():\n",
    "        language = kernel_languages_dic[lan_id]['DisplayName']\n",
    "        normal_user_kernels.at[i, 'KernelLanguage'] = language\n"
   ]
  },
  {
   "cell_type": "code",
   "execution_count": 14,
   "metadata": {
    "_kg_hide-input": true,
    "_uuid": "dcc7172cdfb526b1b388a37cfbb57ff4807306f6"
   },
   "outputs": [],
   "source": [
    "ct1 = pd.crosstab(normal_user_kernels['AuthorUserId'], normal_user_kernels['KernelLanguage'])\n",
    "ct2 = pd.crosstab(normal_user_kernels['AuthorUserId'], normal_user_kernels['Medal'])\n",
    "author_stats = ct1.join(ct2)\n",
    "author_stats = author_stats.join(normal_users['DisplayName'])\n",
    "for i, r in author_stats.iterrows():\n",
    "    if (r['Unknown'] > 0):\n",
    "        if r['Python'] != r['R']:\n",
    "            if r['Python'] > r['R']:\n",
    "                author_stats.at[i, 'Python'] = r['Python']+r['Unknown']\n",
    "            elif r['R'] > r['Python']:\n",
    "                author_stats.at[i, 'R'] = r['Unknown']+r['R']\n",
    "            author_stats.at[i, 'Unknown'] = 0\n",
    "        elif (r['Python'] == r['R']) and (r['Python'] > 0):\n",
    "            x = int(r['Unknown']/2)\n",
    "            author_stats.at[i, 'Python'] = x\n",
    "            author_stats.at[i, 'R'] = x\n",
    "            author_stats.at[i, 'Unknown'] = 0 if x%2 == 0 else 1\n",
    "author_stats = author_stats.rename(columns={\n",
    "    0:'NbrNotAwardedKernels',\n",
    "    'Python':'NbrPythonKernels',\n",
    "    'R':'NbrRKernels',\n",
    "    'Unknown':'UnknownLanguageKernels',\n",
    "    'DisplayName': 'UserDisplayName',})\n",
    "author_stats['NbrAwardedKernels'] = author_stats[1] + author_stats[2] + author_stats[3]\n",
    "author_stats.drop([1,2,3], axis=1, inplace=True)\n",
    "medal_author_stats = author_stats[author_stats['NbrAwardedKernels'] > 0]\n",
    "nbr_python_awarded_kernels = medal_author_stats['NbrPythonKernels'].sum()\n",
    "nbr_r_awarded_kernels = medal_author_stats['NbrRKernels'].sum()\n",
    "nbr_unknown_awarded_kernels = medal_author_stats['UnknownLanguageKernels'].sum()"
   ]
  },
  {
   "cell_type": "code",
   "execution_count": 15,
   "metadata": {
    "_kg_hide-input": true,
    "_uuid": "626d4eb55b1e9e9f150e4eea6e2388eaffa04bec"
   },
   "outputs": [
    {
     "data": {
      "application/vnd.plotly.v1+json": {
       "config": {
        "linkText": "Export to plot.ly",
        "plotlyServerURL": "https://plot.ly",
        "showLink": false
       },
       "data": [
        {
         "hole": 0.3,
         "labels": [
          "Python",
          "R",
          "Other"
         ],
         "marker": {
          "colors": [
           "#FFD548",
           "#2167BA",
           "grey"
          ]
         },
         "showlegend": false,
         "textinfo": "percent+label",
         "type": "pie",
         "uid": "4ad03cc7-a678-47c6-8053-fc01100dd670",
         "values": [
          22900,
          6370,
          69
         ]
        }
       ],
       "layout": {
        "title": {
         "text": "Awarded Kernels by Language"
        }
       }
      },
      "text/html": [
       "<div id=\"6b28a1a8-9c1c-4fd9-84a4-39c31bab84b5\" style=\"height: 525px; width: 100%;\" class=\"plotly-graph-div\"></div><script type=\"text/javascript\">require([\"plotly\"], function(Plotly) { window.PLOTLYENV=window.PLOTLYENV || {};window.PLOTLYENV.BASE_URL=\"https://plot.ly\";Plotly.newPlot(\"6b28a1a8-9c1c-4fd9-84a4-39c31bab84b5\", [{\"hole\": 0.3, \"labels\": [\"Python\", \"R\", \"Other\"], \"marker\": {\"colors\": [\"#FFD548\", \"#2167BA\", \"grey\"]}, \"showlegend\": false, \"textinfo\": \"percent+label\", \"values\": [22900, 6370, 69], \"type\": \"pie\", \"uid\": \"384e0619-cd95-4da7-bb6a-6f5094addd4d\"}], {\"title\": {\"text\": \"Awarded Kernels by Language\"}}, {\"showLink\": false, \"linkText\": \"Export to plot.ly\", \"plotlyServerURL\": \"https://plot.ly\"})});</script><script type=\"text/javascript\">window.addEventListener(\"resize\", function(){window._Plotly.Plots.resize(document.getElementById(\"6b28a1a8-9c1c-4fd9-84a4-39c31bab84b5\"));});</script>"
      ],
      "text/vnd.plotly.v1+html": [
       "<div id=\"6b28a1a8-9c1c-4fd9-84a4-39c31bab84b5\" style=\"height: 525px; width: 100%;\" class=\"plotly-graph-div\"></div><script type=\"text/javascript\">require([\"plotly\"], function(Plotly) { window.PLOTLYENV=window.PLOTLYENV || {};window.PLOTLYENV.BASE_URL=\"https://plot.ly\";Plotly.newPlot(\"6b28a1a8-9c1c-4fd9-84a4-39c31bab84b5\", [{\"hole\": 0.3, \"labels\": [\"Python\", \"R\", \"Other\"], \"marker\": {\"colors\": [\"#FFD548\", \"#2167BA\", \"grey\"]}, \"showlegend\": false, \"textinfo\": \"percent+label\", \"values\": [22900, 6370, 69], \"type\": \"pie\", \"uid\": \"384e0619-cd95-4da7-bb6a-6f5094addd4d\"}], {\"title\": {\"text\": \"Awarded Kernels by Language\"}}, {\"showLink\": false, \"linkText\": \"Export to plot.ly\", \"plotlyServerURL\": \"https://plot.ly\"})});</script><script type=\"text/javascript\">window.addEventListener(\"resize\", function(){window._Plotly.Plots.resize(document.getElementById(\"6b28a1a8-9c1c-4fd9-84a4-39c31bab84b5\"));});</script>"
      ]
     },
     "metadata": {},
     "output_type": "display_data"
    }
   ],
   "source": [
    "\n",
    "fig = {\n",
    "    'data': [\n",
    "        {\n",
    "            'type': 'pie',\n",
    "            'values': [nbr_python_awarded_kernels, nbr_r_awarded_kernels, nbr_unknown_awarded_kernels],\n",
    "            'labels': ['Python', 'R', 'Other'],\n",
    "            'marker': {'colors': ['#FFD548','#2167BA', 'grey']},\n",
    "            'textinfo': 'percent+label',\n",
    "            'hole': .3,\n",
    "            'showlegend': False\n",
    "        }\n",
    "    ],\n",
    "    'layout': {\n",
    "        'title': 'Awarded Kernels by Language'\n",
    "    }\n",
    "\n",
    "}\n",
    "\n",
    "iplot(fig)\n"
   ]
  },
  {
   "cell_type": "markdown",
   "metadata": {
    "_uuid": "3c9a94681bf9cb1be159d3ab22ad757273d61d52"
   },
   "source": [
    "### **<span style=\"color: red\">Observation</span>**:  Python is largely used and preferred in Awarded Kernels.\n",
    "\n",
    "\n",
    "#### **<span style=\"color: red\">Important Note</span>**\n",
    "\n",
    "***I found many inconsistencies in the KernelVersions table:***\n",
    "* Many Kernels have a NaN CurrentKernelVersionId (~32.000)\n",
    "* Many Kernels have no KernelVersions !\n",
    "* Many KernelVersions have unknown Kernel Language Ids\n",
    "\n",
    "***To mitigate the effect of those problems on the results, I did the following:***\n",
    "* I manually searched for and set the latest versions of Kernels who don't have a CurrentKernelVersionId \n",
    "* For the Kernels with unknown KernelLanguageId, I assumed that they were written in the language that their Authors wrote most of their kernels with.\n",
    "** *"
   ]
  },
  {
   "cell_type": "markdown",
   "metadata": {
    "_uuid": "c62541d58cd2f95b28c46556f3b510e59d5729e3"
   },
   "source": [
    "# 9. Top Kernel Data Sources <a id=\"9\" />"
   ]
  },
  {
   "cell_type": "markdown",
   "metadata": {
    "_uuid": "541df7ceb6811a67fa329dac6d6024345be1c35e"
   },
   "source": [
    "Kernels can have as a data source a **competition's dataset** or in a **normal dataset** ( or both ). Let's examine the data sources of Awarded Kernels."
   ]
  },
  {
   "cell_type": "code",
   "execution_count": 16,
   "metadata": {
    "_kg_hide-input": true,
    "_uuid": "72724d8ebb21aba43d5ce10ffabfaa26942c755c"
   },
   "outputs": [],
   "source": [
    "# Imports\n",
    "normal_user_kernel_version_competitions = pd.read_csv('../input/KernelVersionCompetitionSources.csv')\n",
    "#print(len(normal_user_kernel_version_competitions))\n",
    "normal_user_kernel_version_competitions = normal_user_kernel_version_competitions[normal_user_kernel_version_competitions['KernelVersionId'].isin(normal_user_kernel_versions.index.values)]\n",
    "#print(len(normal_user_kernel_version_competitions))\n",
    "\n",
    "normal_user_kernel_version_datasets = pd.read_csv('../input/KernelVersionDatasetSources.csv')\n",
    "#print(len(normal_user_kernel_version_datasets))\n",
    "normal_user_kernel_version_datasets = normal_user_kernel_version_datasets[normal_user_kernel_version_datasets['KernelVersionId'].isin(normal_user_kernel_versions.index.values)]\n",
    "#print(len(normal_user_kernel_version_datasets))\n",
    "\n",
    "#dataset_nbr_kernels = pd.read_csv('../input/Datasets.csv', usecols=['Id', 'TotalKernels'], index_col='Id')\n",
    "#dataset_nbr_kernels['NbrAwardedKernels'] = 0\n",
    "\n",
    "#competition_nbr_kernels = pd.read_csv('../input/Competitions.csv', usecols=['Id', 'HasKernels'], index_col='Id')\n",
    "#competition_nbr_kernels = competition_nbr_kernels[competition_nbr_kernels['HasKernels'] == True]\n",
    "#competition_nbr_kernels['NbrAwardedKernels'] = 0\n",
    "\n",
    "\n",
    "# Add NbrCompetitions & NbrDatasets to normal_user_kernels\n",
    "normal_user_kernels['NbrCompetitions'] = 0\n",
    "normal_user_kernels['NbrDatasets'] = 0\n",
    "\n",
    "for i, r in normal_user_kernels.iterrows():\n",
    "    ckvid = r['CurrentKernelVersionId']\n",
    "    if not np.isnan(ckvid):\n",
    "        ckvid = int(ckvid)\n",
    "        comps = set(normal_user_kernel_version_competitions[normal_user_kernel_version_competitions['KernelVersionId'] == ckvid]['SourceCompetitionId'])\n",
    "        dats  = set(normal_user_kernel_version_datasets[normal_user_kernel_version_datasets['KernelVersionId'] == ckvid]['SourceDatasetVersionId'])\n",
    "        normal_user_kernels.at[i, 'NbrCompetitions'] += len(comps)\n",
    "        normal_user_kernels.at[i, 'NbrDatasets'] += len(dats)\n",
    "#        if r['Medal'] > 0:\n",
    "#            #print(ckvid)\n",
    "#        #    if nbr_comps > 0:\n",
    "#                for compID in comps:\n",
    "#                    if compID in competition_nbr_kernels.index.values:\n",
    "#                        competition_nbr_kernels.at[compID, 'NbrAwardedKernels'] += 1\n",
    "#            if nbr_dats > 0:\n",
    "#                for datID in dats:\n",
    "#                    if datID in dataset_nbr_kernels.index.values:\n",
    "#                        dataset_nbr_kernels.at[datID, 'NbrAwardedKernels'] += 1\n",
    "#                    else:\n",
    "#                        print(datID)\n",
    "\n",
    "\n",
    "medal_kernels = normal_user_kernels[normal_user_kernels['Medal'] > 0]\n",
    "\n",
    "nbr_competitions = medal_kernels['NbrCompetitions'].sum()\n",
    "nbr_datasets = medal_kernels['NbrDatasets'].sum()\n"
   ]
  },
  {
   "cell_type": "code",
   "execution_count": 17,
   "metadata": {
    "_kg_hide-input": true,
    "_uuid": "e0c212bc289a84c657c176cce0409830ad67d878"
   },
   "outputs": [
    {
     "data": {
      "application/vnd.plotly.v1+json": {
       "config": {
        "linkText": "Export to plot.ly",
        "plotlyServerURL": "https://plot.ly",
        "showLink": false
       },
       "data": [
        {
         "hole": 0.3,
         "labels": [
          "Competitions",
          "Datasets"
         ],
         "marker": {
          "colors": [
           "#FFCD07",
           "#00BF77"
          ]
         },
         "showlegend": false,
         "textinfo": "percent+label",
         "type": "pie",
         "uid": "1c4c324b-5e9c-4c38-9a8e-2ee23845609a",
         "values": [
          4384,
          4188
         ]
        }
       ],
       "layout": {
        "title": {
         "text": "Awarded Kernels by Data Source"
        }
       }
      },
      "text/html": [
       "<div id=\"68102175-94b2-4ba6-8027-02f9e5895796\" style=\"height: 525px; width: 100%;\" class=\"plotly-graph-div\"></div><script type=\"text/javascript\">require([\"plotly\"], function(Plotly) { window.PLOTLYENV=window.PLOTLYENV || {};window.PLOTLYENV.BASE_URL=\"https://plot.ly\";Plotly.newPlot(\"68102175-94b2-4ba6-8027-02f9e5895796\", [{\"hole\": 0.3, \"labels\": [\"Competitions\", \"Datasets\"], \"marker\": {\"colors\": [\"#FFCD07\", \"#00BF77\"]}, \"showlegend\": false, \"textinfo\": \"percent+label\", \"values\": [4384, 4188], \"type\": \"pie\", \"uid\": \"76bfe68a-bc38-4a17-aaa8-09d0ff35340d\"}], {\"title\": {\"text\": \"Awarded Kernels by Data Source\"}}, {\"showLink\": false, \"linkText\": \"Export to plot.ly\", \"plotlyServerURL\": \"https://plot.ly\"})});</script><script type=\"text/javascript\">window.addEventListener(\"resize\", function(){window._Plotly.Plots.resize(document.getElementById(\"68102175-94b2-4ba6-8027-02f9e5895796\"));});</script>"
      ],
      "text/vnd.plotly.v1+html": [
       "<div id=\"68102175-94b2-4ba6-8027-02f9e5895796\" style=\"height: 525px; width: 100%;\" class=\"plotly-graph-div\"></div><script type=\"text/javascript\">require([\"plotly\"], function(Plotly) { window.PLOTLYENV=window.PLOTLYENV || {};window.PLOTLYENV.BASE_URL=\"https://plot.ly\";Plotly.newPlot(\"68102175-94b2-4ba6-8027-02f9e5895796\", [{\"hole\": 0.3, \"labels\": [\"Competitions\", \"Datasets\"], \"marker\": {\"colors\": [\"#FFCD07\", \"#00BF77\"]}, \"showlegend\": false, \"textinfo\": \"percent+label\", \"values\": [4384, 4188], \"type\": \"pie\", \"uid\": \"76bfe68a-bc38-4a17-aaa8-09d0ff35340d\"}], {\"title\": {\"text\": \"Awarded Kernels by Data Source\"}}, {\"showLink\": false, \"linkText\": \"Export to plot.ly\", \"plotlyServerURL\": \"https://plot.ly\"})});</script><script type=\"text/javascript\">window.addEventListener(\"resize\", function(){window._Plotly.Plots.resize(document.getElementById(\"68102175-94b2-4ba6-8027-02f9e5895796\"));});</script>"
      ]
     },
     "metadata": {},
     "output_type": "display_data"
    }
   ],
   "source": [
    "\n",
    "fig = {\n",
    "    'data': [\n",
    "        {\n",
    "            'type': 'pie',\n",
    "            'values': [nbr_competitions, nbr_datasets],\n",
    "            'labels': ['Competitions', 'Datasets'],\n",
    "            'marker': {'colors': ['#FFCD07','#00BF77']},\n",
    "            'textinfo': 'percent+label',\n",
    "            'hole': .3,\n",
    "            'showlegend': False\n",
    "        }\n",
    "    ],\n",
    "    'layout': {\n",
    "        'title': 'Awarded Kernels by Data Source'\n",
    "    }\n",
    "\n",
    "}\n",
    "\n",
    "iplot(fig)\n"
   ]
  },
  {
   "cell_type": "markdown",
   "metadata": {
    "_uuid": "95aed97547a86a62797756a459a2635079a82983"
   },
   "source": [
    "### **<span style=\"color: red\">Observation</span>**:  There is no stark preference for either. Awarded Kernels use as Dataset Sources both Competition Datasets & Normal Datasets with approximately the same proportion.\n",
    "\n",
    "**Note**: \n",
    "* There are Kernels which have multiple sources, I counted all the sources of each kernel)*\n",
    "* Many *DatasetSourceIds* in *KernelVersionDatasetsources* are not present in the *Datasets* table."
   ]
  },
  {
   "cell_type": "markdown",
   "metadata": {
    "_uuid": "6f213a208c33d5ce90bd93e6c8b1db23abe4bddb"
   },
   "source": [
    "# 10. Time for some Correlation ! <a id=\"10\" />"
   ]
  },
  {
   "cell_type": "code",
   "execution_count": 18,
   "metadata": {
    "_kg_hide-input": true,
    "_uuid": "c0a7fd0e6c4d223d7eda5d2bef057d4e15df0c48"
   },
   "outputs": [],
   "source": [
    "# Add MonthsOfExperience Field\n",
    "oldest_kernel_dates = []\n",
    "for userid in author_stats.index:\n",
    "    oldest_kernel_date = normal_user_kernels[normal_user_kernels['AuthorUserId'] == userid]['MadePublicDate'].min()\n",
    "    oldest_kernel_dates.append(oldest_kernel_date)\n",
    "\n",
    "oldest_kernel_dates = pd.Series(oldest_kernel_dates, index=author_stats.index)\n",
    "oldest_kernel_dates = ((pd.Timestamp.now() - oldest_kernel_dates)/ np.timedelta64(1,'M')).astype('int')\n",
    "nbr_medals_per_author['MonthsOfExperience'] = oldest_kernel_dates\n",
    "#nbr_medals_per_author.head()\n",
    "\n",
    "# Add NumberPublishedKernels Field\n",
    "author_stats['NbrPublishedKernels'] = author_stats['NbrNotAwardedKernels'] + author_stats['NbrAwardedKernels']\n",
    "#author_stats.head()\n",
    "\n",
    "top_tags = tags_df[tags_df['Slug'].isin(slug_counts.index)].index\n",
    "\n",
    "author_stats['NbrTopTagsUsed'] = 0\n",
    "for userid in author_stats.index:\n",
    "    kernel_ids = list(normal_user_kernels[normal_user_kernels['AuthorUserId'] == userid].index.values)\n",
    "    tag_ids = normal_user_kernel_tags[normal_user_kernel_tags['KernelId'].isin(kernel_ids)]['TagId']\n",
    "    relevant_tag_ids = [tid for tid in tag_ids if tid in top_tags]\n",
    "    author_stats.at[userid, 'NbrTopTagsUsed'] = len(relevant_tag_ids)\n",
    "#author_stats.sample(5)\n",
    "\n"
   ]
  },
  {
   "cell_type": "code",
   "execution_count": 19,
   "metadata": {
    "_kg_hide-input": true,
    "_uuid": "00aaf2e297369c2466b5b650c02c61e203bb4c36"
   },
   "outputs": [
    {
     "data": {
      "application/vnd.plotly.v1+json": {
       "config": {
        "linkText": "Export to plot.ly",
        "plotlyServerURL": "https://plot.ly",
        "showLink": false
       },
       "data": [
        {
         "colorscale": "Reds",
         "type": "heatmap",
         "uid": "1ff04ab8-28f5-4c1d-8782-bc606e1c9c36",
         "x": [
          "NbrAwardedKernels",
          "NbrPublishedKernels",
          "NbrTopTagsUsed",
          "NbrPythonKernels",
          "NbrRKernels",
          "NbrNotAwardedKernels"
         ],
         "y": [
          "NbrAwardedKernels",
          "NbrPublishedKernels",
          "NbrTopTagsUsed",
          "NbrPythonKernels",
          "NbrRKernels",
          "NbrNotAwardedKernels"
         ],
         "z": [
          [
           1.0,
           0.5100949154968344,
           0.5706976247939629,
           0.45258681989867455,
           0.32062537356505716,
           0.32021333232571414
          ],
          [
           0.5100949154968344,
           1.0,
           0.3251235697024508,
           0.91158527316106,
           0.49257165685764537,
           0.9781681875466927
          ],
          [
           0.5706976247939629,
           0.3251235697024508,
           1.0,
           0.29775451597812885,
           0.2058924130237125,
           0.22020803099697533
          ],
          [
           0.45258681989867455,
           0.91158527316106,
           0.29775451597812885,
           1.0,
           0.16610801450571483,
           0.8946816821167812
          ],
          [
           0.32062537356505716,
           0.49257165685764537,
           0.2058924130237125,
           0.16610801450571483,
           1.0,
           0.46505801050585044
          ],
          [
           0.32021333232571414,
           0.9781681875466927,
           0.22020803099697533,
           0.8946816821167812,
           0.46505801050585044,
           1.0
          ]
         ]
        }
       ],
       "layout": {
        "margin": {
         "l": 140
        },
        "title": {
         "text": "Correlation Heatmap"
        }
       }
      },
      "text/html": [
       "<div id=\"7245280f-6739-46c3-b372-5c856deeef2d\" style=\"height: 525px; width: 100%;\" class=\"plotly-graph-div\"></div><script type=\"text/javascript\">require([\"plotly\"], function(Plotly) { window.PLOTLYENV=window.PLOTLYENV || {};window.PLOTLYENV.BASE_URL=\"https://plot.ly\";Plotly.newPlot(\"7245280f-6739-46c3-b372-5c856deeef2d\", [{\"colorscale\": \"Reds\", \"x\": [\"NbrAwardedKernels\", \"NbrPublishedKernels\", \"NbrTopTagsUsed\", \"NbrPythonKernels\", \"NbrRKernels\", \"NbrNotAwardedKernels\"], \"y\": [\"NbrAwardedKernels\", \"NbrPublishedKernels\", \"NbrTopTagsUsed\", \"NbrPythonKernels\", \"NbrRKernels\", \"NbrNotAwardedKernels\"], \"z\": [[1.0, 0.5100949154968344, 0.5706976247939629, 0.45258681989867455, 0.32062537356505716, 0.32021333232571414], [0.5100949154968344, 1.0, 0.3251235697024508, 0.91158527316106, 0.49257165685764537, 0.9781681875466927], [0.5706976247939629, 0.3251235697024508, 1.0, 0.29775451597812885, 0.2058924130237125, 0.22020803099697533], [0.45258681989867455, 0.91158527316106, 0.29775451597812885, 1.0, 0.16610801450571483, 0.8946816821167812], [0.32062537356505716, 0.49257165685764537, 0.2058924130237125, 0.16610801450571483, 1.0, 0.46505801050585044], [0.32021333232571414, 0.9781681875466927, 0.22020803099697533, 0.8946816821167812, 0.46505801050585044, 1.0]], \"type\": \"heatmap\", \"uid\": \"314f0bb1-c64f-43ab-9b23-9494f5978a67\"}], {\"margin\": {\"l\": 140}, \"title\": {\"text\": \"Correlation Heatmap\"}}, {\"showLink\": false, \"linkText\": \"Export to plot.ly\", \"plotlyServerURL\": \"https://plot.ly\"})});</script><script type=\"text/javascript\">window.addEventListener(\"resize\", function(){window._Plotly.Plots.resize(document.getElementById(\"7245280f-6739-46c3-b372-5c856deeef2d\"));});</script>"
      ],
      "text/vnd.plotly.v1+html": [
       "<div id=\"7245280f-6739-46c3-b372-5c856deeef2d\" style=\"height: 525px; width: 100%;\" class=\"plotly-graph-div\"></div><script type=\"text/javascript\">require([\"plotly\"], function(Plotly) { window.PLOTLYENV=window.PLOTLYENV || {};window.PLOTLYENV.BASE_URL=\"https://plot.ly\";Plotly.newPlot(\"7245280f-6739-46c3-b372-5c856deeef2d\", [{\"colorscale\": \"Reds\", \"x\": [\"NbrAwardedKernels\", \"NbrPublishedKernels\", \"NbrTopTagsUsed\", \"NbrPythonKernels\", \"NbrRKernels\", \"NbrNotAwardedKernels\"], \"y\": [\"NbrAwardedKernels\", \"NbrPublishedKernels\", \"NbrTopTagsUsed\", \"NbrPythonKernels\", \"NbrRKernels\", \"NbrNotAwardedKernels\"], \"z\": [[1.0, 0.5100949154968344, 0.5706976247939629, 0.45258681989867455, 0.32062537356505716, 0.32021333232571414], [0.5100949154968344, 1.0, 0.3251235697024508, 0.91158527316106, 0.49257165685764537, 0.9781681875466927], [0.5706976247939629, 0.3251235697024508, 1.0, 0.29775451597812885, 0.2058924130237125, 0.22020803099697533], [0.45258681989867455, 0.91158527316106, 0.29775451597812885, 1.0, 0.16610801450571483, 0.8946816821167812], [0.32062537356505716, 0.49257165685764537, 0.2058924130237125, 0.16610801450571483, 1.0, 0.46505801050585044], [0.32021333232571414, 0.9781681875466927, 0.22020803099697533, 0.8946816821167812, 0.46505801050585044, 1.0]], \"type\": \"heatmap\", \"uid\": \"314f0bb1-c64f-43ab-9b23-9494f5978a67\"}], {\"margin\": {\"l\": 140}, \"title\": {\"text\": \"Correlation Heatmap\"}}, {\"showLink\": false, \"linkText\": \"Export to plot.ly\", \"plotlyServerURL\": \"https://plot.ly\"})});</script><script type=\"text/javascript\">window.addEventListener(\"resize\", function(){window._Plotly.Plots.resize(document.getElementById(\"7245280f-6739-46c3-b372-5c856deeef2d\"));});</script>"
      ]
     },
     "metadata": {},
     "output_type": "display_data"
    }
   ],
   "source": [
    "df = author_stats[['NbrAwardedKernels', 'NbrPublishedKernels', 'NbrTopTagsUsed', 'NbrPythonKernels', 'NbrRKernels', 'NbrNotAwardedKernels',]]\n",
    "corr = df.corr()\n",
    "fig = {\n",
    "    'data': [\n",
    "        {\n",
    "            'type': 'heatmap',\n",
    "            'z': corr,\n",
    "            'x': df.columns,\n",
    "            'y': df.columns,\n",
    "            'colorscale': 'Reds'\n",
    "        }\n",
    "    ],\n",
    "    'layout': {\n",
    "        'title': 'Correlation Heatmap',\n",
    "        'margin':{\n",
    "            'l': 140\n",
    "        }\n",
    "    }\n",
    "}\n",
    "\n",
    "iplot(fig)\n"
   ]
  },
  {
   "cell_type": "markdown",
   "metadata": {
    "_uuid": "6f9823c7200414e6459341aebf6587c801647074"
   },
   "source": [
    "### **<span style=\"color: red\">Observation</span>**:  We are interested in **Number of Awarded Kernels** and what it's most correlated with, and the results are :\n",
    "1. Number of Top Tags User\n",
    "2. Number of Published Kernels\n",
    "3. Number of Python Kernels\n",
    "4. Number of R Kernels\n",
    "5. Number of Not Awarded Kernels"
   ]
  },
  {
   "cell_type": "markdown",
   "metadata": {
    "_uuid": "35dc318d460e866ec767dac9c605553701c2d2a4"
   },
   "source": [
    "# Conclusions:"
   ]
  },
  {
   "cell_type": "markdown",
   "metadata": {
    "_uuid": "1d8654e552e1788e46682e6faf2de491e76c6c69"
   },
   "source": [
    "\n",
    "* Most Awarded Kernels are Tutorials and Visualizations\n",
    "\n",
    "* Most Awarded Kernels are written in Python\n",
    "\n",
    "* There are of course many criteria other than the ones mentioned for a Kernel to be successful, for example: It must be written and formatted nicely, must add value to the reader and be interesting.\n",
    "\n",
    "* In Data Science as in Every Discipline, Success comes with two principal ingredients: **<span style=\"color: red\">PASSION & HARDWORK</span>**"
   ]
  },
  {
   "cell_type": "markdown",
   "metadata": {
    "_uuid": "efcdacbce2783bc443544342db6f936444043268"
   },
   "source": [
    "## References:\n",
    "\n",
    "* [Kaggle Progression System](https://www.kaggle.com/progression) (Page)\n",
    "* [Kaggle Trends](https://www.kaggle.com/gaborfodor/kaggle-trends) (Kernel)\n",
    "* [How to get upvotes in Kaggle](https://www.kaggle.com/aleksandradeis/how-to-get-upvotes-for-a-kernel-on-kaggle) (Kernel)"
   ]
  }
 ],
 "metadata": {
  "kernelspec": {
   "display_name": "Python 3",
   "language": "python",
   "name": "python3"
  },
  "language_info": {
   "codemirror_mode": {
    "name": "ipython",
    "version": 3
   },
   "file_extension": ".py",
   "mimetype": "text/x-python",
   "name": "python",
   "nbconvert_exporter": "python",
   "pygments_lexer": "ipython3",
   "version": "3.6.6"
  }
 },
 "nbformat": 4,
 "nbformat_minor": 1
}
