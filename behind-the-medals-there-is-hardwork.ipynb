{
 "cells": [
  {
   "cell_type": "markdown",
   "metadata": {
    "_uuid": "dbad2bc4ee80d8e03a0bf29e739f1f2a657bdc50"
   },
   "source": [
    "# Behind the Medals, there is ... <span style=\"color: red\">HARDWORK</span> !\n",
    "\n",
    "\n",
    "*Hamza El Bouatmani*  - March 2019\n",
    "\n",
    "----\n",
    "\n"
   ]
  },
  {
   "cell_type": "markdown",
   "metadata": {
    "_uuid": "18cc5560f90e961ba39fb9dbab7ffc7206de1d60"
   },
   "source": [
    "# Introduction\n",
    "Although registered two years ago, I just started using the platform a couple of months ago, and was curious about how to become a Kaggle Expert or Master, so I decided to use the Kaggle Meta Dataset to dig into and examine some statistics related to Top Kernels and Top Kernel Authors.\n",
    "\n",
    "I hope this Kernel will be useful."
   ]
  },
  {
   "cell_type": "code",
   "execution_count": 1,
   "metadata": {
    "_cell_guid": "b1076dfc-b9ad-4769-8c92-a6c4dae69d19",
    "_kg_hide-input": true,
    "_uuid": "8f2839f25d086af736a60e9eeb907d3b93b6e0e5"
   },
   "outputs": [
    {
     "data": {
      "text/html": [
       "<script type=\"text/javascript\">window.PlotlyConfig = {MathJaxConfig: 'local'};</script><script type=\"text/javascript\">if (window.MathJax) {MathJax.Hub.Config({SVG: {font: \"STIX-Web\"}});}</script><script>requirejs.config({paths: { 'plotly': ['https://cdn.plot.ly/plotly-latest.min']},});if(!window._Plotly) {require(['plotly'],function(plotly) {window._Plotly=plotly;});}</script>"
      ],
      "text/vnd.plotly.v1+html": [
       "<script type=\"text/javascript\">window.PlotlyConfig = {MathJaxConfig: 'local'};</script><script type=\"text/javascript\">if (window.MathJax) {MathJax.Hub.Config({SVG: {font: \"STIX-Web\"}});}</script><script>requirejs.config({paths: { 'plotly': ['https://cdn.plot.ly/plotly-latest.min']},});if(!window._Plotly) {require(['plotly'],function(plotly) {window._Plotly=plotly;});}</script>"
      ]
     },
     "metadata": {},
     "output_type": "display_data"
    }
   ],
   "source": [
    "import numpy as np # linear algebra\n",
    "import pandas as pd # data processing, CSV file I/O (e.g. pd.read_csv)\n",
    "\n",
    "# Visualization\n",
    "from plotly.offline import init_notebook_mode, iplot\n",
    "import plotly.graph_objs as go\n",
    "from plotly import tools\n",
    "import plotly.figure_factory as ff\n",
    "init_notebook_mode(connected=True)\n",
    "from wordcloud import WordCloud, STOPWORDS, ImageColorGenerator\n",
    "import matplotlib.pyplot as plt\n",
    "\n",
    "\n",
    "from IPython.display import display\n",
    "\n",
    "import os\n",
    "input_data = os.listdir(\"../input\")\n",
    "#print('Files: ', input_data)"
   ]
  },
  {
   "cell_type": "markdown",
   "metadata": {
    "_uuid": "d865f840809f34821c04207b1ef2a28279702c0f"
   },
   "source": [
    "# 1. Some Filtering <a id=\"1\" />\n"
   ]
  },
  {
   "cell_type": "markdown",
   "metadata": {
    "_uuid": "4aa22eb1f149bac4da7ec18b1dca74b1ab418824"
   },
   "source": [
    "In order to get the purest insights, we must take some time to clean the data we'll be working with. \n",
    "Not all Kernels in the dataset are relevant to us. We filter the kernels as follows:\n",
    "- **Exclude Kernels with no UrlSlug**\n",
    "- **Exclude Kernels whose authors are members of the Kaggle Team (we're interested in normal users and how they get medals)**\n",
    "- **Exclude Kernels which are solutions to exercises (from Kaggle Learn section)**\n",
    "- **Exclude Kernels where CreationDate & MadePublicDate are BOTH NULL ( we don't have any idea when they were created, maybe it's a Data Collection problem )**"
   ]
  },
  {
   "cell_type": "code",
   "execution_count": 2,
   "metadata": {
    "_kg_hide-input": true,
    "_uuid": "cab49bbfe62114a6f1e75272fda357b6256782d7"
   },
   "outputs": [
    {
     "name": "stdout",
     "output_type": "stream",
     "text": [
      "Number of Kernels after Filtering ( Mar 2015 ~ Feb 2019 ):  206962 (17317 Kernels filtered)\n"
     ]
    }
   ],
   "source": [
    "kernels_df = pd.read_csv('../input/Kernels.csv')\n",
    "users_df = pd.read_csv('../input/Users.csv')\n",
    "\n",
    "init_nbr_kernels = len(kernels_df)\n",
    "#print('Number of Kernels Before Filtering: ', init_nbr_kernels)\n",
    "#print('Filtering ... ')\n",
    "\n",
    "# Parse Date Columns\n",
    "kernels_df['MadePublicDate'] = pd.to_datetime(kernels_df['MadePublicDate'])\n",
    "kernels_df['CreationDate'] = pd.to_datetime(kernels_df['CreationDate'])\n",
    "kernels_df['MedalAwardDate'] = pd.to_datetime(kernels_df['MedalAwardDate'])\n",
    "\n",
    "# Exclude Kernels without Url Slug ( just two for at the time of writing )\n",
    "kernels_df = kernels_df[~kernels_df['CurrentUrlSlug'].isnull()]\n",
    "\n",
    "#Extract Kernels of the Kaggle Team\n",
    "kaggle_team_users = users_df[users_df['PerformanceTier'] == 5]\n",
    "kaggle_team_kernels = kernels_df[kernels_df['AuthorUserId'].isin(kaggle_team_users['Id'])]\n",
    "\n",
    "# Exclude Kernels from the Kaggle Team\n",
    "normal_user_kernels = kernels_df[~kernels_df['AuthorUserId'].isin(kaggle_team_users['Id'])]\n",
    "\n",
    "# Exclude Exercise Kernels which are Forked (most if not all are just forks of exercises to learn a topic from the section Kaggle Learn, they're not relevant to us)\n",
    "normal_user_kernels = normal_user_kernels[ ~((normal_user_kernels['CurrentUrlSlug'].str.contains('exercise')) & (~normal_user_kernels['ForkParentKernelVersionId'].isnull()) ) ]\n",
    "assert len(normal_user_kernels[ (~normal_user_kernels['ForkParentKernelVersionId'].isnull()) & (normal_user_kernels['CurrentUrlSlug'].str.contains('exercise'))]) == 0\n",
    "\n",
    "\n",
    "# Rows that have MadePublicDate NULL and CreationDate NOT NULL: we replace the NULL in MadePublicDate with the value of CreationDate\n",
    "for i, r in normal_user_kernels.iterrows():\n",
    "    if pd.isnull(r['MadePublicDate']) and not pd.isnull(r['CreationDate']):\n",
    "        normal_user_kernels.at[i, 'MadePublicDate'] = r['CreationDate']\n",
    "normal_user_kernels[(~normal_user_kernels['CreationDate'].isnull()) & (normal_user_kernels['MadePublicDate'].isnull())]\n",
    "\n",
    "# Drop all other rows which have both dates NULL ( ~ 190 at time of writing )\n",
    "normal_user_kernels = normal_user_kernels.drop(normal_user_kernels[normal_user_kernels['MadePublicDate'].isnull()].index)\n",
    "\n",
    "# Join Kernels with Authors ( to have the author name on the same row to make things easy)\n",
    "normal_user_kernels = normal_user_kernels.join(users_df.set_index('Id'), on='AuthorUserId')\n",
    "\n",
    "# Replace NaN in 'Medal' with Zero\n",
    "normal_user_kernels['Medal'] = normal_user_kernels['Medal'].fillna(0)\n",
    "\n",
    "oldest_date = normal_user_kernels['MadePublicDate'].min()\n",
    "newest_date = normal_user_kernels['MadePublicDate'].max()\n",
    "range_dates_str = f\"{oldest_date.strftime('%b %Y')} ~ {newest_date.strftime('%b %Y')}\"\n",
    "\n",
    "after_nbr_kernels = len(normal_user_kernels)\n",
    "print('Number of Kernels after Filtering (', range_dates_str , '): ', after_nbr_kernels, f'({init_nbr_kernels - after_nbr_kernels} Kernels filtered)')"
   ]
  },
  {
   "cell_type": "markdown",
   "metadata": {
    "_uuid": "473fee73a66b1e6999d0ff7d4e90af5a92fa722d"
   },
   "source": [
    "# 2. Medals are *<span style=\"color: #dca917\">RARE</span>* ! <a id=\"2\" />"
   ]
  },
  {
   "cell_type": "markdown",
   "metadata": {
    "_uuid": "ed7da355a4451172c3b7340442d5dc068b588129"
   },
   "source": [
    "Most of us, beginners in Kaggle, might look at the Top Kernels and Top authors and think that getting Medals is easy. However, a quick look into the Meta Kaggle data shows that Kernels awarded with Medals are ***extremely RARE*** compared to the number of kernels without medals.\n",
    "\n",
    "**(You can hover to see the actual number values)**"
   ]
  },
  {
   "cell_type": "code",
   "execution_count": 3,
   "metadata": {
    "_kg_hide-input": true,
    "_kg_hide-output": false,
    "_uuid": "0a05818555dcf0168146854699eebb09785adba1"
   },
   "outputs": [
    {
     "data": {
      "application/vnd.plotly.v1+json": {
       "config": {
        "linkText": "Export to plot.ly",
        "plotlyServerURL": "https://plot.ly",
        "showLink": false
       },
       "data": [
        {
         "domain": {
          "x": [
           0,
           0.4
          ],
          "y": [
           0,
           1
          ]
         },
         "hoverinfo": "label+value",
         "labels": [
          "Kernels Awarded",
          "Kernels Not Awarded"
         ],
         "marker": {
          "colors": [
           "#FF9999",
           "#66B3FF"
          ],
          "line": {
           "color": "white",
           "width": 2
          }
         },
         "textfont": {
          "size": 12
         },
         "textinfo": "percent",
         "textposition": "inside",
         "title": {
          "font": {
           "size": 16
          },
          "text": "Awarded vs Not Awarded"
         },
         "type": "pie",
         "uid": "5e5e7aeb-f9a1-4977-b99c-b93fc65735ff",
         "values": [
          8691,
          198271
         ]
        },
        {
         "domain": {
          "x": [
           0.6,
           1
          ],
          "y": [
           0,
           1
          ]
         },
         "hoverinfo": "label+value",
         "labels": [
          "Gold",
          "Silver",
          "Bronze"
         ],
         "marker": {
          "colors": [
           "#ffd448",
           "#e9e9e9",
           "#f0ba7c"
          ],
          "line": {
           "color": "white",
           "width": 0.5
          }
         },
         "showlegend": false,
         "textfont": {
          "size": 12
         },
         "textinfo": "percent+label",
         "title": {
          "font": {
           "size": 16
          },
          "text": "Gold, Silver & Bronze"
         },
         "type": "pie",
         "uid": "2ae014b6-9365-410a-9e3d-d48a4ad380ec",
         "values": [
          745,
          1571,
          6375
         ]
        }
       ],
       "layout": {
        "height": 500,
        "legend": {
         "orientation": "h"
        },
        "title": {
         "font": {
          "size": 18
         },
         "text": "Total number of Public Kernels (Mar 2015 ~ Feb 2019)"
        }
       }
      },
      "text/html": [
       "<div id=\"7eba72e5-20a9-4687-b8c7-738e66f5b658\" style=\"height: 500px; width: 100%;\" class=\"plotly-graph-div\"></div><script type=\"text/javascript\">require([\"plotly\"], function(Plotly) { window.PLOTLYENV=window.PLOTLYENV || {};window.PLOTLYENV.BASE_URL=\"https://plot.ly\";Plotly.newPlot(\"7eba72e5-20a9-4687-b8c7-738e66f5b658\", [{\"domain\": {\"x\": [0, 0.4], \"y\": [0, 1]}, \"hoverinfo\": \"label+value\", \"labels\": [\"Kernels Awarded\", \"Kernels Not Awarded\"], \"marker\": {\"colors\": [\"#FF9999\", \"#66B3FF\"], \"line\": {\"color\": \"white\", \"width\": 2}}, \"textfont\": {\"size\": 12}, \"textinfo\": \"percent\", \"textposition\": \"inside\", \"title\": {\"text\": \"Awarded vs Not Awarded\", \"font\": {\"size\": 16}}, \"values\": [8691, 198271], \"type\": \"pie\", \"uid\": \"43eb6b59-d026-475e-b7f0-1b65ae00e18a\"}, {\"domain\": {\"x\": [0.6, 1], \"y\": [0, 1]}, \"hoverinfo\": \"label+value\", \"labels\": [\"Gold\", \"Silver\", \"Bronze\"], \"marker\": {\"colors\": [\"#ffd448\", \"#e9e9e9\", \"#f0ba7c\"], \"line\": {\"color\": \"white\", \"width\": 0.5}}, \"showlegend\": false, \"textfont\": {\"size\": 12}, \"textinfo\": \"percent+label\", \"title\": {\"text\": \"Gold, Silver & Bronze\", \"font\": {\"size\": 16}}, \"values\": [745, 1571, 6375], \"type\": \"pie\", \"uid\": \"8a8fd60d-8cb1-4a04-8527-ef9a7065980b\"}], {\"height\": 500, \"legend\": {\"orientation\": \"h\"}, \"title\": {\"font\": {\"size\": 18}, \"text\": \"Total number of Public Kernels (Mar 2015 ~ Feb 2019)\"}}, {\"showLink\": false, \"linkText\": \"Export to plot.ly\", \"plotlyServerURL\": \"https://plot.ly\"})});</script><script type=\"text/javascript\">window.addEventListener(\"resize\", function(){window._Plotly.Plots.resize(document.getElementById(\"7eba72e5-20a9-4687-b8c7-738e66f5b658\"));});</script>"
      ],
      "text/vnd.plotly.v1+html": [
       "<div id=\"7eba72e5-20a9-4687-b8c7-738e66f5b658\" style=\"height: 500px; width: 100%;\" class=\"plotly-graph-div\"></div><script type=\"text/javascript\">require([\"plotly\"], function(Plotly) { window.PLOTLYENV=window.PLOTLYENV || {};window.PLOTLYENV.BASE_URL=\"https://plot.ly\";Plotly.newPlot(\"7eba72e5-20a9-4687-b8c7-738e66f5b658\", [{\"domain\": {\"x\": [0, 0.4], \"y\": [0, 1]}, \"hoverinfo\": \"label+value\", \"labels\": [\"Kernels Awarded\", \"Kernels Not Awarded\"], \"marker\": {\"colors\": [\"#FF9999\", \"#66B3FF\"], \"line\": {\"color\": \"white\", \"width\": 2}}, \"textfont\": {\"size\": 12}, \"textinfo\": \"percent\", \"textposition\": \"inside\", \"title\": {\"text\": \"Awarded vs Not Awarded\", \"font\": {\"size\": 16}}, \"values\": [8691, 198271], \"type\": \"pie\", \"uid\": \"43eb6b59-d026-475e-b7f0-1b65ae00e18a\"}, {\"domain\": {\"x\": [0.6, 1], \"y\": [0, 1]}, \"hoverinfo\": \"label+value\", \"labels\": [\"Gold\", \"Silver\", \"Bronze\"], \"marker\": {\"colors\": [\"#ffd448\", \"#e9e9e9\", \"#f0ba7c\"], \"line\": {\"color\": \"white\", \"width\": 0.5}}, \"showlegend\": false, \"textfont\": {\"size\": 12}, \"textinfo\": \"percent+label\", \"title\": {\"text\": \"Gold, Silver & Bronze\", \"font\": {\"size\": 16}}, \"values\": [745, 1571, 6375], \"type\": \"pie\", \"uid\": \"8a8fd60d-8cb1-4a04-8527-ef9a7065980b\"}], {\"height\": 500, \"legend\": {\"orientation\": \"h\"}, \"title\": {\"font\": {\"size\": 18}, \"text\": \"Total number of Public Kernels (Mar 2015 ~ Feb 2019)\"}}, {\"showLink\": false, \"linkText\": \"Export to plot.ly\", \"plotlyServerURL\": \"https://plot.ly\"})});</script><script type=\"text/javascript\">window.addEventListener(\"resize\", function(){window._Plotly.Plots.resize(document.getElementById(\"7eba72e5-20a9-4687-b8c7-738e66f5b658\"));});</script>"
      ]
     },
     "metadata": {},
     "output_type": "display_data"
    }
   ],
   "source": [
    "# Pie Chats for Total Number of Kernels\n",
    "\n",
    "PLOT_BG_COLOR = '#f1f1f1'\n",
    "\n",
    "kernel_colors = ['#FF9999', '#66B3FF'] # ['awarded', 'not awarded']\n",
    "medal_colors  = ['#ffd448', '#e9e9e9', '#f0ba7c' ] # ['Gold', 'Silver', 'Bronze']\n",
    "\n",
    "medal_kernels = normal_user_kernels[normal_user_kernels['Medal'] > 0]\n",
    "\n",
    "# First Pie Chart: Awarded vs Not Awarded Kernels\n",
    "vals = []\n",
    "vals.append(len(medal_kernels))\n",
    "vals.append(len(normal_user_kernels[normal_user_kernels['Medal'] == 0]))\n",
    "chart1 = {\n",
    "            'type': 'pie',\n",
    "            'title': 'Awarded vs Not Awarded',\n",
    "            'titlefont': {'size': 16},\n",
    "            'labels': ['Kernels Awarded', 'Kernels Not Awarded'],\n",
    "            'values': vals,\n",
    "            'hoverinfo': 'label+value',\n",
    "            'textinfo': 'percent',\n",
    "            'textposition': 'inside',\n",
    "            'textfont': {'size': 12},\n",
    "            'marker': {'colors': kernel_colors, 'line': {'color': 'white', 'width': 2,}},\n",
    "            'domain': {'x': [0, 0.4], 'y': [0, 1]}\n",
    "        }\n",
    "\n",
    "# Second Pie Chart: Gold, Silver & Bronze Kernels\n",
    "vals = []\n",
    "vals.append(len(medal_kernels[medal_kernels['Medal'] == 1]))\n",
    "vals.append(len(medal_kernels[medal_kernels['Medal'] == 2]))\n",
    "vals.append(len(medal_kernels[medal_kernels['Medal'] == 3]))\n",
    "\n",
    "\n",
    "\n",
    "chart2 = {\n",
    "            'type': 'pie',\n",
    "            'title': 'Gold, Silver & Bronze',\n",
    "            'titlefont': {'size': 16},\n",
    "            'showlegend': False,\n",
    "            'labels': ['Gold', 'Silver', 'Bronze'],\n",
    "            'values': vals,\n",
    "            'hoverinfo': 'label+value',\n",
    "            'textinfo': 'percent+label',\n",
    "            'textfont': {'size': 12},\n",
    "            'marker': {'colors': medal_colors, 'line': {'color': 'white', 'width': .5,}},\n",
    "            'domain': {'x': [0.6, 1], 'y': [0,1]}\n",
    "        }\n",
    "\n",
    "fig = {\n",
    "    'data': [ chart1, chart2 ],\n",
    "    'layout': {\n",
    "        'height': 500,\n",
    "        'title': {\n",
    "            'text': f'Total number of Public Kernels ({range_dates_str})',\n",
    "            'font': {'size': 18}\n",
    "        }, 'legend': {\n",
    "            'orientation': 'h'\n",
    "        }\n",
    "    }\n",
    "}\n",
    "\n",
    "iplot(fig)"
   ]
  },
  {
   "cell_type": "code",
   "execution_count": 4,
   "metadata": {
    "_kg_hide-input": true,
    "_uuid": "781f8df6036bb0efbb7e8aeaebf8b669a07c4c89"
   },
   "outputs": [],
   "source": [
    "years = list(normal_user_kernels.MadePublicDate.dt.year.unique())\n",
    "years.remove(2019) # Remove this year because it has just started\n",
    "years.sort()\n",
    "nbr_all_vals = []\n",
    "nbr_awarded_vals = []\n",
    "nbr_not_awarded_vals = []\n",
    "nbr_gold_vals = []\n",
    "nbr_silver_vals = []\n",
    "nbr_bronze_vals = []\n",
    "\n",
    "for y in years:\n",
    "    if not np.isnan(y):\n",
    "        years_kernels = normal_user_kernels[normal_user_kernels['MadePublicDate'].dt.year == y]\n",
    "        nbr_all_vals.append(len(years_kernels))\n",
    "        golds = len(years_kernels[years_kernels['Medal'] == 1])\n",
    "        silvers = len(years_kernels[years_kernels['Medal'] == 2])\n",
    "        bronzes = len(years_kernels[years_kernels['Medal'] == 3])\n",
    "        nbr_awarded_vals.append(golds+silvers+bronzes)\n",
    "        nbr_not_awarded_vals.append(nbr_all_vals[-1] - nbr_awarded_vals[-1])\n",
    "        nbr_gold_vals.append(golds)\n",
    "        nbr_silver_vals.append(silvers)\n",
    "        nbr_bronze_vals.append(bronzes)\n",
    "#print(years, nbr_all_vals, nbr_awarded_vals, nbr_gold_vals, nbr_silver_vals, nbr_bronze_vals)"
   ]
  },
  {
   "cell_type": "code",
   "execution_count": 5,
   "metadata": {
    "_kg_hide-input": true,
    "_uuid": "cbb25fe13780745a1bfd099435ca1c7cb0ff866b"
   },
   "outputs": [
    {
     "data": {
      "application/vnd.plotly.v1+json": {
       "config": {
        "linkText": "Export to plot.ly",
        "plotlyServerURL": "https://plot.ly",
        "showLink": false
       },
       "data": [
        {
         "marker": {
          "color": "#66B3FF"
         },
         "name": "Kernels w/o Awards",
         "type": "bar",
         "uid": "f0a2dde8-6ccd-4b62-9908-2aa88773fdfa",
         "x": [
          2015,
          2016,
          2017,
          2018
         ],
         "xaxis": "x",
         "y": [
          11746,
          68457,
          65515,
          43726
         ],
         "yaxis": "y"
        },
        {
         "marker": {
          "color": "#FF9999"
         },
         "name": "Awarded Kernels",
         "type": "bar",
         "uid": "f967b9cb-ba82-47de-95f7-c512da8dd1e2",
         "x": [
          2015,
          2016,
          2017,
          2018
         ],
         "xaxis": "x",
         "y": [
          392,
          1168,
          2547,
          4125
         ],
         "yaxis": "y"
        }
       ],
       "layout": {
        "height": 600,
        "legend": {
         "orientation": "h"
        },
        "plot_bgcolor": "#f1f1f1",
        "title": {
         "text": "Change of Number of Kernels per year"
        },
        "xaxis": {
         "dtick": 1
        },
        "yaxis": {
         "dtick": 5000,
         "title": {
          "text": "Number of Kernels"
         }
        }
       }
      },
      "text/html": [
       "<div id=\"afa00ba6-fa09-4362-b21d-f6e47b714251\" style=\"height: 600px; width: 100%;\" class=\"plotly-graph-div\"></div><script type=\"text/javascript\">require([\"plotly\"], function(Plotly) { window.PLOTLYENV=window.PLOTLYENV || {};window.PLOTLYENV.BASE_URL=\"https://plot.ly\";Plotly.newPlot(\"afa00ba6-fa09-4362-b21d-f6e47b714251\", [{\"marker\": {\"color\": \"#66B3FF\"}, \"name\": \"Kernels w/o Awards\", \"x\": [2015, 2016, 2017, 2018], \"xaxis\": \"x\", \"y\": [11746, 68457, 65515, 43726], \"yaxis\": \"y\", \"type\": \"bar\", \"uid\": \"f846711a-e3e9-4763-b7d6-bb7be589f8bd\"}, {\"marker\": {\"color\": \"#FF9999\"}, \"name\": \"Awarded Kernels\", \"x\": [2015, 2016, 2017, 2018], \"xaxis\": \"x\", \"y\": [392, 1168, 2547, 4125], \"yaxis\": \"y\", \"type\": \"bar\", \"uid\": \"9bc53a73-fdb0-40e2-a084-22907d510cf4\"}], {\"height\": 600, \"legend\": {\"orientation\": \"h\"}, \"plot_bgcolor\": \"#f1f1f1\", \"title\": {\"text\": \"Change of Number of Kernels per year\"}, \"xaxis\": {\"dtick\": 1}, \"yaxis\": {\"dtick\": 5000, \"title\": {\"text\": \"Number of Kernels\"}}}, {\"showLink\": false, \"linkText\": \"Export to plot.ly\", \"plotlyServerURL\": \"https://plot.ly\"})});</script><script type=\"text/javascript\">window.addEventListener(\"resize\", function(){window._Plotly.Plots.resize(document.getElementById(\"afa00ba6-fa09-4362-b21d-f6e47b714251\"));});</script>"
      ],
      "text/vnd.plotly.v1+html": [
       "<div id=\"afa00ba6-fa09-4362-b21d-f6e47b714251\" style=\"height: 600px; width: 100%;\" class=\"plotly-graph-div\"></div><script type=\"text/javascript\">require([\"plotly\"], function(Plotly) { window.PLOTLYENV=window.PLOTLYENV || {};window.PLOTLYENV.BASE_URL=\"https://plot.ly\";Plotly.newPlot(\"afa00ba6-fa09-4362-b21d-f6e47b714251\", [{\"marker\": {\"color\": \"#66B3FF\"}, \"name\": \"Kernels w/o Awards\", \"x\": [2015, 2016, 2017, 2018], \"xaxis\": \"x\", \"y\": [11746, 68457, 65515, 43726], \"yaxis\": \"y\", \"type\": \"bar\", \"uid\": \"f846711a-e3e9-4763-b7d6-bb7be589f8bd\"}, {\"marker\": {\"color\": \"#FF9999\"}, \"name\": \"Awarded Kernels\", \"x\": [2015, 2016, 2017, 2018], \"xaxis\": \"x\", \"y\": [392, 1168, 2547, 4125], \"yaxis\": \"y\", \"type\": \"bar\", \"uid\": \"9bc53a73-fdb0-40e2-a084-22907d510cf4\"}], {\"height\": 600, \"legend\": {\"orientation\": \"h\"}, \"plot_bgcolor\": \"#f1f1f1\", \"title\": {\"text\": \"Change of Number of Kernels per year\"}, \"xaxis\": {\"dtick\": 1}, \"yaxis\": {\"dtick\": 5000, \"title\": {\"text\": \"Number of Kernels\"}}}, {\"showLink\": false, \"linkText\": \"Export to plot.ly\", \"plotlyServerURL\": \"https://plot.ly\"})});</script><script type=\"text/javascript\">window.addEventListener(\"resize\", function(){window._Plotly.Plots.resize(document.getElementById(\"afa00ba6-fa09-4362-b21d-f6e47b714251\"));});</script>"
      ]
     },
     "metadata": {},
     "output_type": "display_data"
    }
   ],
   "source": [
    "# Bar Chart for Number of Kernels per year\n",
    "\n",
    "fig = { 'data': [\n",
    "        {   'type': 'bar',\n",
    "            'name': 'Kernels w/o Awards',\n",
    "            'x': years,\n",
    "            'y': nbr_not_awarded_vals,\n",
    "            'marker': {'color': kernel_colors[1] },\n",
    "            'xaxis': 'x1',\n",
    "            'yaxis': 'y1'\n",
    "        },\n",
    "        {   'type': 'bar',\n",
    "            'name': 'Awarded Kernels',\n",
    "            'x': years,\n",
    "            'y': nbr_awarded_vals,\n",
    "            'marker': {'color': kernel_colors[0] },\n",
    "            #'line': {'color': '#ffd448' },\n",
    "            'xaxis': 'x1',\n",
    "            'yaxis': 'y1'\n",
    "        }\n",
    "], 'layout': {\n",
    "        'plot_bgcolor': PLOT_BG_COLOR,\n",
    "        'height': 600,\n",
    "        'title': 'Change of Number of Kernels per year',\n",
    "        'legend': {'orientation': 'h'},\n",
    "        'xaxis': {'dtick': 1},\n",
    "        'yaxis': {'dtick': 5000, 'title': 'Number of Kernels'}\n",
    "    }}\n",
    "iplot(fig)"
   ]
  },
  {
   "cell_type": "code",
   "execution_count": 6,
   "metadata": {
    "_kg_hide-input": true,
    "_uuid": "96a84e217dd06c41d474b92d46a0f729dc713e9b"
   },
   "outputs": [
    {
     "data": {
      "application/vnd.plotly.v1+json": {
       "config": {
        "linkText": "Export to plot.ly",
        "plotlyServerURL": "https://plot.ly",
        "showLink": false
       },
       "data": [
        {
         "marker": {
          "color": "#ffd448"
         },
         "name": "Gold",
         "type": "bar",
         "uid": "a51d9943-fb4a-4759-b7ab-87330055c0d7",
         "x": [
          2015,
          2016,
          2017,
          2018
         ],
         "y": [
          15,
          67,
          223,
          399
         ]
        },
        {
         "marker": {
          "color": "#e9e9e9"
         },
         "name": "Silver",
         "type": "bar",
         "uid": "acf180d1-5da0-46fd-a4ee-beb24e0ce838",
         "x": [
          2015,
          2016,
          2017,
          2018
         ],
         "y": [
          66,
          175,
          440,
          815
         ]
        },
        {
         "marker": {
          "color": "#f0ba7c"
         },
         "name": "Bronze",
         "type": "bar",
         "uid": "734757ac-b1ec-4fb1-80a2-e3e221f0d09e",
         "x": [
          2015,
          2016,
          2017,
          2018
         ],
         "y": [
          311,
          926,
          1884,
          2911
         ]
        },
        {
         "line": {
          "color": "#FF9999"
         },
         "name": "Number of Awarded Kernels",
         "type": "scatter",
         "uid": "c38be710-92cb-484b-8ec5-c6256d59c6e7",
         "x": [
          2015,
          2016,
          2017,
          2018
         ],
         "y": [
          392,
          1168,
          2547,
          4125
         ]
        }
       ],
       "layout": {
        "height": 600,
        "legend": {
         "orientation": "h"
        },
        "plot_bgcolor": "#f1f1f1",
        "title": {
         "text": "Change of Number of Awarded Kernel per year"
        },
        "xaxis": {
         "dtick": 1
        },
        "yaxis": {
         "dtick": 250,
         "title": {
          "text": "Number of Kernels"
         }
        }
       }
      },
      "text/html": [
       "<div id=\"5a4c61e7-ba9b-4a44-ba85-837c422c2c37\" style=\"height: 600px; width: 100%;\" class=\"plotly-graph-div\"></div><script type=\"text/javascript\">require([\"plotly\"], function(Plotly) { window.PLOTLYENV=window.PLOTLYENV || {};window.PLOTLYENV.BASE_URL=\"https://plot.ly\";Plotly.newPlot(\"5a4c61e7-ba9b-4a44-ba85-837c422c2c37\", [{\"marker\": {\"color\": \"#ffd448\"}, \"name\": \"Gold\", \"x\": [2015, 2016, 2017, 2018], \"y\": [15, 67, 223, 399], \"type\": \"bar\", \"uid\": \"c69ec663-a85c-4f2e-9767-b28445af1575\"}, {\"marker\": {\"color\": \"#e9e9e9\"}, \"name\": \"Silver\", \"x\": [2015, 2016, 2017, 2018], \"y\": [66, 175, 440, 815], \"type\": \"bar\", \"uid\": \"b95bb0e1-60d9-4590-9e74-a71fe8b0334a\"}, {\"marker\": {\"color\": \"#f0ba7c\"}, \"name\": \"Bronze\", \"x\": [2015, 2016, 2017, 2018], \"y\": [311, 926, 1884, 2911], \"type\": \"bar\", \"uid\": \"7fe18980-96bd-43b6-9119-3cf5983f7a59\"}, {\"line\": {\"color\": \"#FF9999\"}, \"name\": \"Number of Awarded Kernels\", \"x\": [2015, 2016, 2017, 2018], \"y\": [392, 1168, 2547, 4125], \"type\": \"scatter\", \"uid\": \"47357dde-6a44-4022-a73d-50f9f769b488\"}], {\"height\": 600, \"legend\": {\"orientation\": \"h\"}, \"plot_bgcolor\": \"#f1f1f1\", \"title\": {\"text\": \"Change of Number of Awarded Kernel per year\"}, \"xaxis\": {\"dtick\": 1}, \"yaxis\": {\"dtick\": 250, \"title\": {\"text\": \"Number of Kernels\"}}}, {\"showLink\": false, \"linkText\": \"Export to plot.ly\", \"plotlyServerURL\": \"https://plot.ly\"})});</script><script type=\"text/javascript\">window.addEventListener(\"resize\", function(){window._Plotly.Plots.resize(document.getElementById(\"5a4c61e7-ba9b-4a44-ba85-837c422c2c37\"));});</script>"
      ],
      "text/vnd.plotly.v1+html": [
       "<div id=\"5a4c61e7-ba9b-4a44-ba85-837c422c2c37\" style=\"height: 600px; width: 100%;\" class=\"plotly-graph-div\"></div><script type=\"text/javascript\">require([\"plotly\"], function(Plotly) { window.PLOTLYENV=window.PLOTLYENV || {};window.PLOTLYENV.BASE_URL=\"https://plot.ly\";Plotly.newPlot(\"5a4c61e7-ba9b-4a44-ba85-837c422c2c37\", [{\"marker\": {\"color\": \"#ffd448\"}, \"name\": \"Gold\", \"x\": [2015, 2016, 2017, 2018], \"y\": [15, 67, 223, 399], \"type\": \"bar\", \"uid\": \"c69ec663-a85c-4f2e-9767-b28445af1575\"}, {\"marker\": {\"color\": \"#e9e9e9\"}, \"name\": \"Silver\", \"x\": [2015, 2016, 2017, 2018], \"y\": [66, 175, 440, 815], \"type\": \"bar\", \"uid\": \"b95bb0e1-60d9-4590-9e74-a71fe8b0334a\"}, {\"marker\": {\"color\": \"#f0ba7c\"}, \"name\": \"Bronze\", \"x\": [2015, 2016, 2017, 2018], \"y\": [311, 926, 1884, 2911], \"type\": \"bar\", \"uid\": \"7fe18980-96bd-43b6-9119-3cf5983f7a59\"}, {\"line\": {\"color\": \"#FF9999\"}, \"name\": \"Number of Awarded Kernels\", \"x\": [2015, 2016, 2017, 2018], \"y\": [392, 1168, 2547, 4125], \"type\": \"scatter\", \"uid\": \"47357dde-6a44-4022-a73d-50f9f769b488\"}], {\"height\": 600, \"legend\": {\"orientation\": \"h\"}, \"plot_bgcolor\": \"#f1f1f1\", \"title\": {\"text\": \"Change of Number of Awarded Kernel per year\"}, \"xaxis\": {\"dtick\": 1}, \"yaxis\": {\"dtick\": 250, \"title\": {\"text\": \"Number of Kernels\"}}}, {\"showLink\": false, \"linkText\": \"Export to plot.ly\", \"plotlyServerURL\": \"https://plot.ly\"})});</script><script type=\"text/javascript\">window.addEventListener(\"resize\", function(){window._Plotly.Plots.resize(document.getElementById(\"5a4c61e7-ba9b-4a44-ba85-837c422c2c37\"));});</script>"
      ]
     },
     "metadata": {},
     "output_type": "display_data"
    }
   ],
   "source": [
    "# Bar & Line Chart for Awarded Kernels per Year by Medal\n",
    "\n",
    "fig = { 'data': [\n",
    "        {\n",
    "            'type': 'bar',\n",
    "            'name': 'Gold',\n",
    "            'x': years,\n",
    "            'y': nbr_gold_vals,\n",
    "            'marker': {'color': medal_colors[0]},\n",
    "        },\n",
    "        {\n",
    "            'type': 'bar',\n",
    "            'name': 'Silver',\n",
    "            'x': years,\n",
    "            'y': nbr_silver_vals,\n",
    "            'marker': {'color': medal_colors[1]},\n",
    "        },\n",
    "        {\n",
    "            'type': 'bar',\n",
    "            'name': 'Bronze',\n",
    "            'x': years,\n",
    "            'y': nbr_bronze_vals,\n",
    "            'marker': {'color': medal_colors[2]},\n",
    "        },\n",
    "        {   'type': 'scatter',\n",
    "            'name': 'Number of Awarded Kernels',\n",
    "            'x': years,\n",
    "            'y': nbr_awarded_vals,\n",
    "            'line': {'color': kernel_colors[0] },\n",
    "        },\n",
    "    ], 'layout': {\n",
    "        'title': 'Change of Number of Awarded Kernel per year',\n",
    "        'legend': {'orientation': 'h'},\n",
    "        'height': 600,\n",
    "        'plot_bgcolor': PLOT_BG_COLOR,\n",
    "        'xaxis': {'dtick': 1},\n",
    "        'yaxis': {'dtick': 250, 'title': 'Number of Kernels'}\n",
    "        \n",
    "    }\n",
    "}\n",
    "iplot(fig)"
   ]
  },
  {
   "cell_type": "markdown",
   "metadata": {
    "_uuid": "0e0150a19f3ad355813c9e8709cb3954e6654eae"
   },
   "source": [
    "### **<span style=\"color: red\">Observation</span>**: Although the number of Kernels not awarded ***is much greater*** than the number of Kernels awarded, we can note a ***steady increase*** in the number of Awarded Kernels each year"
   ]
  },
  {
   "cell_type": "markdown",
   "metadata": {
    "_uuid": "9cd77472928fb48d025038a4e16583adc8af5131"
   },
   "source": [
    "# 3. Who publishes Top Kernels ? <a id=\"3\" />"
   ]
  },
  {
   "cell_type": "markdown",
   "metadata": {
    "_uuid": "2b038b40100fa16b3a011e6afe8fe33b7c7e27d2"
   },
   "source": [
    "Let's now have a quick look at some of the Top Authors in Kaggle"
   ]
  },
  {
   "cell_type": "code",
   "execution_count": 7,
   "metadata": {
    "_kg_hide-input": true,
    "_uuid": "c2a49ea884f2d7570e6941017079aff91c08c3f2"
   },
   "outputs": [
    {
     "data": {
      "application/vnd.plotly.v1+json": {
       "config": {
        "linkText": "Export to plot.ly",
        "plotlyServerURL": "https://plot.ly",
        "showLink": false
       },
       "data": [
        {
         "marker": {
          "color": "#f0ba7c"
         },
         "name": "Bronze",
         "type": "bar",
         "uid": "3ed9f507-9290-4baa-87a3-aba7e0946e69",
         "x": [
          "ASHISH PATEL",
          "Scirpus",
          "Bojan Tunguz",
          "Jonathan Bouchet",
          "Andy Harless",
          "Kevin Mader",
          "SRK",
          "Bukun",
          "Aleksey Bilogur",
          "Gabriel Preda",
          "Shivam Bansal",
          "beluga",
          "DSangeetha",
          "olivier",
          "Umesh",
          "ZFTurbo",
          "anokas",
          "Andrew Lukyanenko",
          "Nick Brooks",
          "Omri Goldstein",
          "Pranav Pandya",
          "amrrs",
          "JohnM",
          "Tilii",
          "DATAI",
          "Paulo Pinto",
          "Troy Walters",
          "YouHan Lee",
          "Anisotropic",
          "Shujian L."
         ],
         "y": [
          53,
          55,
          40,
          59,
          44,
          40,
          23,
          33,
          24,
          20,
          12,
          15,
          31,
          12,
          26,
          11,
          13,
          9,
          20,
          27,
          17,
          17,
          14,
          13,
          7,
          12,
          13,
          16,
          5,
          12
         ]
        },
        {
         "marker": {
          "color": "#e9e9e9"
         },
         "name": "Silver",
         "type": "bar",
         "uid": "61a40ef8-927d-4f45-8145-5dee93416bdf",
         "x": [
          "ASHISH PATEL",
          "Scirpus",
          "Bojan Tunguz",
          "Jonathan Bouchet",
          "Andy Harless",
          "Kevin Mader",
          "SRK",
          "Bukun",
          "Aleksey Bilogur",
          "Gabriel Preda",
          "Shivam Bansal",
          "beluga",
          "DSangeetha",
          "olivier",
          "Umesh",
          "ZFTurbo",
          "anokas",
          "Andrew Lukyanenko",
          "Nick Brooks",
          "Omri Goldstein",
          "Pranav Pandya",
          "amrrs",
          "JohnM",
          "Tilii",
          "DATAI",
          "Paulo Pinto",
          "Troy Walters",
          "YouHan Lee",
          "Anisotropic",
          "Shujian L."
         ],
         "y": [
          15,
          10,
          22,
          10,
          16,
          11,
          4,
          12,
          13,
          14,
          10,
          13,
          7,
          7,
          6,
          14,
          7,
          6,
          8,
          1,
          9,
          10,
          9,
          7,
          10,
          10,
          9,
          6,
          3,
          6
         ]
        },
        {
         "marker": {
          "color": "#ffd448"
         },
         "name": "Gold",
         "type": "bar",
         "uid": "1e51ed2d-9bbd-481b-a073-43e8fdaf1dbe",
         "x": [
          "ASHISH PATEL",
          "Scirpus",
          "Bojan Tunguz",
          "Jonathan Bouchet",
          "Andy Harless",
          "Kevin Mader",
          "SRK",
          "Bukun",
          "Aleksey Bilogur",
          "Gabriel Preda",
          "Shivam Bansal",
          "beluga",
          "DSangeetha",
          "olivier",
          "Umesh",
          "ZFTurbo",
          "anokas",
          "Andrew Lukyanenko",
          "Nick Brooks",
          "Omri Goldstein",
          "Pranav Pandya",
          "amrrs",
          "JohnM",
          "Tilii",
          "DATAI",
          "Paulo Pinto",
          "Troy Walters",
          "YouHan Lee",
          "Anisotropic",
          "Shujian L."
         ],
         "y": [
          4,
          6,
          9,
          0,
          3,
          8,
          24,
          2,
          7,
          9,
          20,
          10,
          0,
          16,
          0,
          6,
          11,
          15,
          2,
          1,
          3,
          2,
          4,
          7,
          9,
          3,
          3,
          3,
          16,
          5
         ]
        }
       ],
       "layout": {
        "barmode": "stack",
        "legend": {
         "x": 0.92,
         "y": 1
        },
        "margin": {
         "r": 0
        },
        "title": {
         "text": "Top 30 Kernel Authors (Mar 2015 ~ Feb 2019)"
        },
        "yaxis": {
         "title": {
          "text": "Number of Awarded Kernels"
         }
        }
       }
      },
      "text/html": [
       "<div id=\"fbd907fe-cacd-4c5b-935c-58d230cce84a\" style=\"height: 525px; width: 100%;\" class=\"plotly-graph-div\"></div><script type=\"text/javascript\">require([\"plotly\"], function(Plotly) { window.PLOTLYENV=window.PLOTLYENV || {};window.PLOTLYENV.BASE_URL=\"https://plot.ly\";Plotly.newPlot(\"fbd907fe-cacd-4c5b-935c-58d230cce84a\", [{\"marker\": {\"color\": \"#f0ba7c\"}, \"name\": \"Bronze\", \"x\": [\"ASHISH PATEL\", \"Scirpus\", \"Bojan Tunguz\", \"Jonathan Bouchet\", \"Andy Harless\", \"Kevin Mader\", \"SRK\", \"Bukun\", \"Aleksey Bilogur\", \"Gabriel Preda\", \"Shivam Bansal\", \"beluga\", \"DSangeetha\", \"olivier\", \"Umesh\", \"ZFTurbo\", \"anokas\", \"Andrew Lukyanenko\", \"Nick Brooks\", \"Omri Goldstein\", \"Pranav Pandya\", \"amrrs\", \"JohnM\", \"Tilii\", \"DATAI\", \"Paulo Pinto\", \"Troy Walters\", \"YouHan Lee\", \"Anisotropic\", \"Shujian L.\"], \"y\": [53, 55, 40, 59, 44, 40, 23, 33, 24, 20, 12, 15, 31, 12, 26, 11, 13, 9, 20, 27, 17, 17, 14, 13, 7, 12, 13, 16, 5, 12], \"type\": \"bar\", \"uid\": \"40ddd555-d157-4627-9054-77102c52f84a\"}, {\"marker\": {\"color\": \"#e9e9e9\"}, \"name\": \"Silver\", \"x\": [\"ASHISH PATEL\", \"Scirpus\", \"Bojan Tunguz\", \"Jonathan Bouchet\", \"Andy Harless\", \"Kevin Mader\", \"SRK\", \"Bukun\", \"Aleksey Bilogur\", \"Gabriel Preda\", \"Shivam Bansal\", \"beluga\", \"DSangeetha\", \"olivier\", \"Umesh\", \"ZFTurbo\", \"anokas\", \"Andrew Lukyanenko\", \"Nick Brooks\", \"Omri Goldstein\", \"Pranav Pandya\", \"amrrs\", \"JohnM\", \"Tilii\", \"DATAI\", \"Paulo Pinto\", \"Troy Walters\", \"YouHan Lee\", \"Anisotropic\", \"Shujian L.\"], \"y\": [15, 10, 22, 10, 16, 11, 4, 12, 13, 14, 10, 13, 7, 7, 6, 14, 7, 6, 8, 1, 9, 10, 9, 7, 10, 10, 9, 6, 3, 6], \"type\": \"bar\", \"uid\": \"21f850be-9801-441a-b752-c397aaa7e682\"}, {\"marker\": {\"color\": \"#ffd448\"}, \"name\": \"Gold\", \"x\": [\"ASHISH PATEL\", \"Scirpus\", \"Bojan Tunguz\", \"Jonathan Bouchet\", \"Andy Harless\", \"Kevin Mader\", \"SRK\", \"Bukun\", \"Aleksey Bilogur\", \"Gabriel Preda\", \"Shivam Bansal\", \"beluga\", \"DSangeetha\", \"olivier\", \"Umesh\", \"ZFTurbo\", \"anokas\", \"Andrew Lukyanenko\", \"Nick Brooks\", \"Omri Goldstein\", \"Pranav Pandya\", \"amrrs\", \"JohnM\", \"Tilii\", \"DATAI\", \"Paulo Pinto\", \"Troy Walters\", \"YouHan Lee\", \"Anisotropic\", \"Shujian L.\"], \"y\": [4, 6, 9, 0, 3, 8, 24, 2, 7, 9, 20, 10, 0, 16, 0, 6, 11, 15, 2, 1, 3, 2, 4, 7, 9, 3, 3, 3, 16, 5], \"type\": \"bar\", \"uid\": \"a143ceec-748f-4f81-b786-477c6be70840\"}], {\"barmode\": \"stack\", \"legend\": {\"x\": 0.92, \"y\": 1}, \"margin\": {\"r\": 0}, \"title\": {\"text\": \"Top 30 Kernel Authors (Mar 2015 ~ Feb 2019)\"}, \"yaxis\": {\"title\": {\"text\": \"Number of Awarded Kernels\"}}}, {\"showLink\": false, \"linkText\": \"Export to plot.ly\", \"plotlyServerURL\": \"https://plot.ly\"})});</script><script type=\"text/javascript\">window.addEventListener(\"resize\", function(){window._Plotly.Plots.resize(document.getElementById(\"fbd907fe-cacd-4c5b-935c-58d230cce84a\"));});</script>"
      ],
      "text/vnd.plotly.v1+html": [
       "<div id=\"fbd907fe-cacd-4c5b-935c-58d230cce84a\" style=\"height: 525px; width: 100%;\" class=\"plotly-graph-div\"></div><script type=\"text/javascript\">require([\"plotly\"], function(Plotly) { window.PLOTLYENV=window.PLOTLYENV || {};window.PLOTLYENV.BASE_URL=\"https://plot.ly\";Plotly.newPlot(\"fbd907fe-cacd-4c5b-935c-58d230cce84a\", [{\"marker\": {\"color\": \"#f0ba7c\"}, \"name\": \"Bronze\", \"x\": [\"ASHISH PATEL\", \"Scirpus\", \"Bojan Tunguz\", \"Jonathan Bouchet\", \"Andy Harless\", \"Kevin Mader\", \"SRK\", \"Bukun\", \"Aleksey Bilogur\", \"Gabriel Preda\", \"Shivam Bansal\", \"beluga\", \"DSangeetha\", \"olivier\", \"Umesh\", \"ZFTurbo\", \"anokas\", \"Andrew Lukyanenko\", \"Nick Brooks\", \"Omri Goldstein\", \"Pranav Pandya\", \"amrrs\", \"JohnM\", \"Tilii\", \"DATAI\", \"Paulo Pinto\", \"Troy Walters\", \"YouHan Lee\", \"Anisotropic\", \"Shujian L.\"], \"y\": [53, 55, 40, 59, 44, 40, 23, 33, 24, 20, 12, 15, 31, 12, 26, 11, 13, 9, 20, 27, 17, 17, 14, 13, 7, 12, 13, 16, 5, 12], \"type\": \"bar\", \"uid\": \"40ddd555-d157-4627-9054-77102c52f84a\"}, {\"marker\": {\"color\": \"#e9e9e9\"}, \"name\": \"Silver\", \"x\": [\"ASHISH PATEL\", \"Scirpus\", \"Bojan Tunguz\", \"Jonathan Bouchet\", \"Andy Harless\", \"Kevin Mader\", \"SRK\", \"Bukun\", \"Aleksey Bilogur\", \"Gabriel Preda\", \"Shivam Bansal\", \"beluga\", \"DSangeetha\", \"olivier\", \"Umesh\", \"ZFTurbo\", \"anokas\", \"Andrew Lukyanenko\", \"Nick Brooks\", \"Omri Goldstein\", \"Pranav Pandya\", \"amrrs\", \"JohnM\", \"Tilii\", \"DATAI\", \"Paulo Pinto\", \"Troy Walters\", \"YouHan Lee\", \"Anisotropic\", \"Shujian L.\"], \"y\": [15, 10, 22, 10, 16, 11, 4, 12, 13, 14, 10, 13, 7, 7, 6, 14, 7, 6, 8, 1, 9, 10, 9, 7, 10, 10, 9, 6, 3, 6], \"type\": \"bar\", \"uid\": \"21f850be-9801-441a-b752-c397aaa7e682\"}, {\"marker\": {\"color\": \"#ffd448\"}, \"name\": \"Gold\", \"x\": [\"ASHISH PATEL\", \"Scirpus\", \"Bojan Tunguz\", \"Jonathan Bouchet\", \"Andy Harless\", \"Kevin Mader\", \"SRK\", \"Bukun\", \"Aleksey Bilogur\", \"Gabriel Preda\", \"Shivam Bansal\", \"beluga\", \"DSangeetha\", \"olivier\", \"Umesh\", \"ZFTurbo\", \"anokas\", \"Andrew Lukyanenko\", \"Nick Brooks\", \"Omri Goldstein\", \"Pranav Pandya\", \"amrrs\", \"JohnM\", \"Tilii\", \"DATAI\", \"Paulo Pinto\", \"Troy Walters\", \"YouHan Lee\", \"Anisotropic\", \"Shujian L.\"], \"y\": [4, 6, 9, 0, 3, 8, 24, 2, 7, 9, 20, 10, 0, 16, 0, 6, 11, 15, 2, 1, 3, 2, 4, 7, 9, 3, 3, 3, 16, 5], \"type\": \"bar\", \"uid\": \"a143ceec-748f-4f81-b786-477c6be70840\"}], {\"barmode\": \"stack\", \"legend\": {\"x\": 0.92, \"y\": 1}, \"margin\": {\"r\": 0}, \"title\": {\"text\": \"Top 30 Kernel Authors (Mar 2015 ~ Feb 2019)\"}, \"yaxis\": {\"title\": {\"text\": \"Number of Awarded Kernels\"}}}, {\"showLink\": false, \"linkText\": \"Export to plot.ly\", \"plotlyServerURL\": \"https://plot.ly\"})});</script><script type=\"text/javascript\">window.addEventListener(\"resize\", function(){window._Plotly.Plots.resize(document.getElementById(\"fbd907fe-cacd-4c5b-935c-58d230cce84a\"));});</script>"
      ]
     },
     "metadata": {},
     "output_type": "display_data"
    }
   ],
   "source": [
    "nbr_medals_per_author = pd.crosstab( [normal_user_kernels['AuthorUserId'], normal_user_kernels['DisplayName']], normal_user_kernels['Medal'])\n",
    "nbr_medals_per_author = nbr_medals_per_author.rename(columns={0: 'NotAwarded', 1.0: 'Gold', 2.0: 'Silver', 3.0: 'Bronze'})\n",
    "nbr_medals_per_author['Awarded'] = nbr_medals_per_author['Gold'] + nbr_medals_per_author['Silver'] + nbr_medals_per_author['Bronze']\n",
    "nbr_medals_per_author = nbr_medals_per_author.sort_values(by='Awarded', ascending=False)\n",
    "nbr_medals_per_author = nbr_medals_per_author.reset_index(level=1) # Make DisplayName a column\n",
    "\n",
    "n = 30\n",
    "top = nbr_medals_per_author[:n]\n",
    "\n",
    "\n",
    "fig = {\n",
    "    'data': [\n",
    "        {\n",
    "            'type': 'bar',\n",
    "            'y': top['Bronze'].values,\n",
    "            'x': top['DisplayName'].values,\n",
    "            'name': 'Bronze',\n",
    "            'marker': {'color': medal_colors[2]}\n",
    "        }, {\n",
    "            'type': 'bar',\n",
    "            'y': top['Silver'].values,\n",
    "            'x': top['DisplayName'].values,\n",
    "            'name': 'Silver',\n",
    "            'marker': {'color': medal_colors[1]}\n",
    "        }, {\n",
    "            'type': 'bar',\n",
    "            'y': top['Gold'].values,\n",
    "            'x': top['DisplayName'].values,\n",
    "            'name': 'Gold',\n",
    "            'marker': {'color': medal_colors[0]}\n",
    "        }\n",
    "    ], 'layout': {\n",
    "        'title': f'Top {n} Kernel Authors ({range_dates_str})',\n",
    "        'barmode': 'stack',\n",
    "        'yaxis': {'title': 'Number of Awarded Kernels'},\n",
    "        'legend': {'x': 0.92, 'y': 1},\n",
    "        'margin': {'r': 0},\n",
    "        #'plot_bgcolor': PLOT_BG_COLOR,\n",
    "    }\n",
    "}\n",
    "\n",
    "iplot(fig)"
   ]
  },
  {
   "cell_type": "markdown",
   "metadata": {
    "_uuid": "54503d266341fe76580a3450634032c454ce4898"
   },
   "source": [
    "### **<span style=\"color: red\">Impressive !</span> **   [Mr Ashish Patel](https://www.kaggle.com/ashishpatel26) comes in top with 72 Awarded Kernels, but there is a lot of competition between the Top 4.\n",
    "\n",
    "*(Note: There are many other great Kernel Authors not figuring in the list. You can fork this kernel and play with the n parameter in the code, to get the Top n Authors in terms of number of awarded Kernels)*"
   ]
  },
  {
   "cell_type": "markdown",
   "metadata": {
    "_uuid": "cbac0cab1c19830112190b3944c419e085f7b3d4"
   },
   "source": [
    "# 4. It's not always **<span style=\"color: #dca917\">Gold</span>** ! <a id=\"4\" />"
   ]
  },
  {
   "cell_type": "markdown",
   "metadata": {
    "_uuid": "5349b321c09c57b90f2ba93ec7be2853296d12f2"
   },
   "source": [
    "After seeing the last graph, one might think that those authors are ***Super Humans*** ! However, the **DATA** says that it's the product of **<span style=\"color: red\">HARDWORK</span>** and **<span style=\"color: red\">PASSION</span>**!\n",
    "\n",
    "The following graph illustrates the proportion of Awarded & Not Awarded Kernels for each of the Top Authors :"
   ]
  },
  {
   "cell_type": "code",
   "execution_count": 8,
   "metadata": {
    "_kg_hide-input": true,
    "_uuid": "4be6e3a9d2b2cf5bf93bfcbca14aa4ce53aadff2"
   },
   "outputs": [
    {
     "data": {
      "application/vnd.plotly.v1+json": {
       "config": {
        "linkText": "Export to plot.ly",
        "plotlyServerURL": "https://plot.ly",
        "showLink": false
       },
       "data": [
        {
         "marker": {
          "color": "#66B3FF"
         },
         "name": "Not Awarded Kernels",
         "type": "bar",
         "uid": "051d1dec-1ae3-410f-bb99-d0f27e731a2f",
         "x": [
          "ASHISH PATEL",
          "Scirpus",
          "Bojan Tunguz",
          "Jonathan Bouchet",
          "Andy Harless",
          "Kevin Mader",
          "SRK",
          "Bukun",
          "Aleksey Bilogur",
          "Gabriel Preda",
          "Shivam Bansal",
          "beluga",
          "DSangeetha",
          "olivier",
          "Umesh",
          "ZFTurbo",
          "anokas",
          "Andrew Lukyanenko",
          "Nick Brooks",
          "Omri Goldstein",
          "Pranav Pandya",
          "amrrs",
          "JohnM",
          "Tilii",
          "DATAI",
          "Paulo Pinto",
          "Troy Walters",
          "YouHan Lee",
          "Anisotropic",
          "Shujian L."
         ],
         "y": [
          101,
          87,
          133,
          100,
          176,
          288,
          15,
          42,
          117,
          20,
          0,
          11,
          27,
          15,
          0,
          27,
          115,
          9,
          24,
          14,
          1,
          11,
          2,
          4,
          0,
          18,
          15,
          8,
          7,
          0
         ]
        },
        {
         "marker": {
          "color": "#FF9999"
         },
         "name": "Awarded Kernels",
         "type": "bar",
         "uid": "7327f434-7b0a-434f-adeb-6c862c5893be",
         "x": [
          "ASHISH PATEL",
          "Scirpus",
          "Bojan Tunguz",
          "Jonathan Bouchet",
          "Andy Harless",
          "Kevin Mader",
          "SRK",
          "Bukun",
          "Aleksey Bilogur",
          "Gabriel Preda",
          "Shivam Bansal",
          "beluga",
          "DSangeetha",
          "olivier",
          "Umesh",
          "ZFTurbo",
          "anokas",
          "Andrew Lukyanenko",
          "Nick Brooks",
          "Omri Goldstein",
          "Pranav Pandya",
          "amrrs",
          "JohnM",
          "Tilii",
          "DATAI",
          "Paulo Pinto",
          "Troy Walters",
          "YouHan Lee",
          "Anisotropic",
          "Shujian L."
         ],
         "y": [
          72,
          71,
          71,
          69,
          63,
          59,
          51,
          47,
          44,
          43,
          42,
          38,
          38,
          35,
          32,
          31,
          31,
          30,
          30,
          29,
          29,
          29,
          27,
          27,
          26,
          25,
          25,
          25,
          24,
          23
         ]
        }
       ],
       "layout": {
        "barmode": "stack",
        "legend": {
         "x": 0.78,
         "y": 1
        },
        "margin": {
         "r": 0
        },
        "plot_bgcolor": "#f1f1f1",
        "title": {
         "text": "Top 30 Kernel Authors (Mar 2015 ~ Feb 2019)"
        },
        "yaxis": {
         "title": {
          "text": "Number of Kernels"
         }
        }
       }
      },
      "text/html": [
       "<div id=\"2e2c03b6-dcba-440a-8ad2-9f1101f15a65\" style=\"height: 525px; width: 100%;\" class=\"plotly-graph-div\"></div><script type=\"text/javascript\">require([\"plotly\"], function(Plotly) { window.PLOTLYENV=window.PLOTLYENV || {};window.PLOTLYENV.BASE_URL=\"https://plot.ly\";Plotly.newPlot(\"2e2c03b6-dcba-440a-8ad2-9f1101f15a65\", [{\"marker\": {\"color\": \"#66B3FF\"}, \"name\": \"Not Awarded Kernels\", \"x\": [\"ASHISH PATEL\", \"Scirpus\", \"Bojan Tunguz\", \"Jonathan Bouchet\", \"Andy Harless\", \"Kevin Mader\", \"SRK\", \"Bukun\", \"Aleksey Bilogur\", \"Gabriel Preda\", \"Shivam Bansal\", \"beluga\", \"DSangeetha\", \"olivier\", \"Umesh\", \"ZFTurbo\", \"anokas\", \"Andrew Lukyanenko\", \"Nick Brooks\", \"Omri Goldstein\", \"Pranav Pandya\", \"amrrs\", \"JohnM\", \"Tilii\", \"DATAI\", \"Paulo Pinto\", \"Troy Walters\", \"YouHan Lee\", \"Anisotropic\", \"Shujian L.\"], \"y\": [101, 87, 133, 100, 176, 288, 15, 42, 117, 20, 0, 11, 27, 15, 0, 27, 115, 9, 24, 14, 1, 11, 2, 4, 0, 18, 15, 8, 7, 0], \"type\": \"bar\", \"uid\": \"a53305ab-fd4b-4592-a94d-98891e2907a1\"}, {\"marker\": {\"color\": \"#FF9999\"}, \"name\": \"Awarded Kernels\", \"x\": [\"ASHISH PATEL\", \"Scirpus\", \"Bojan Tunguz\", \"Jonathan Bouchet\", \"Andy Harless\", \"Kevin Mader\", \"SRK\", \"Bukun\", \"Aleksey Bilogur\", \"Gabriel Preda\", \"Shivam Bansal\", \"beluga\", \"DSangeetha\", \"olivier\", \"Umesh\", \"ZFTurbo\", \"anokas\", \"Andrew Lukyanenko\", \"Nick Brooks\", \"Omri Goldstein\", \"Pranav Pandya\", \"amrrs\", \"JohnM\", \"Tilii\", \"DATAI\", \"Paulo Pinto\", \"Troy Walters\", \"YouHan Lee\", \"Anisotropic\", \"Shujian L.\"], \"y\": [72, 71, 71, 69, 63, 59, 51, 47, 44, 43, 42, 38, 38, 35, 32, 31, 31, 30, 30, 29, 29, 29, 27, 27, 26, 25, 25, 25, 24, 23], \"type\": \"bar\", \"uid\": \"15c1bd7c-dc25-4518-8ce6-afb597cebda1\"}], {\"barmode\": \"stack\", \"legend\": {\"x\": 0.78, \"y\": 1}, \"margin\": {\"r\": 0}, \"plot_bgcolor\": \"#f1f1f1\", \"title\": {\"text\": \"Top 30 Kernel Authors (Mar 2015 ~ Feb 2019)\"}, \"yaxis\": {\"title\": {\"text\": \"Number of Kernels\"}}}, {\"showLink\": false, \"linkText\": \"Export to plot.ly\", \"plotlyServerURL\": \"https://plot.ly\"})});</script><script type=\"text/javascript\">window.addEventListener(\"resize\", function(){window._Plotly.Plots.resize(document.getElementById(\"2e2c03b6-dcba-440a-8ad2-9f1101f15a65\"));});</script>"
      ],
      "text/vnd.plotly.v1+html": [
       "<div id=\"2e2c03b6-dcba-440a-8ad2-9f1101f15a65\" style=\"height: 525px; width: 100%;\" class=\"plotly-graph-div\"></div><script type=\"text/javascript\">require([\"plotly\"], function(Plotly) { window.PLOTLYENV=window.PLOTLYENV || {};window.PLOTLYENV.BASE_URL=\"https://plot.ly\";Plotly.newPlot(\"2e2c03b6-dcba-440a-8ad2-9f1101f15a65\", [{\"marker\": {\"color\": \"#66B3FF\"}, \"name\": \"Not Awarded Kernels\", \"x\": [\"ASHISH PATEL\", \"Scirpus\", \"Bojan Tunguz\", \"Jonathan Bouchet\", \"Andy Harless\", \"Kevin Mader\", \"SRK\", \"Bukun\", \"Aleksey Bilogur\", \"Gabriel Preda\", \"Shivam Bansal\", \"beluga\", \"DSangeetha\", \"olivier\", \"Umesh\", \"ZFTurbo\", \"anokas\", \"Andrew Lukyanenko\", \"Nick Brooks\", \"Omri Goldstein\", \"Pranav Pandya\", \"amrrs\", \"JohnM\", \"Tilii\", \"DATAI\", \"Paulo Pinto\", \"Troy Walters\", \"YouHan Lee\", \"Anisotropic\", \"Shujian L.\"], \"y\": [101, 87, 133, 100, 176, 288, 15, 42, 117, 20, 0, 11, 27, 15, 0, 27, 115, 9, 24, 14, 1, 11, 2, 4, 0, 18, 15, 8, 7, 0], \"type\": \"bar\", \"uid\": \"a53305ab-fd4b-4592-a94d-98891e2907a1\"}, {\"marker\": {\"color\": \"#FF9999\"}, \"name\": \"Awarded Kernels\", \"x\": [\"ASHISH PATEL\", \"Scirpus\", \"Bojan Tunguz\", \"Jonathan Bouchet\", \"Andy Harless\", \"Kevin Mader\", \"SRK\", \"Bukun\", \"Aleksey Bilogur\", \"Gabriel Preda\", \"Shivam Bansal\", \"beluga\", \"DSangeetha\", \"olivier\", \"Umesh\", \"ZFTurbo\", \"anokas\", \"Andrew Lukyanenko\", \"Nick Brooks\", \"Omri Goldstein\", \"Pranav Pandya\", \"amrrs\", \"JohnM\", \"Tilii\", \"DATAI\", \"Paulo Pinto\", \"Troy Walters\", \"YouHan Lee\", \"Anisotropic\", \"Shujian L.\"], \"y\": [72, 71, 71, 69, 63, 59, 51, 47, 44, 43, 42, 38, 38, 35, 32, 31, 31, 30, 30, 29, 29, 29, 27, 27, 26, 25, 25, 25, 24, 23], \"type\": \"bar\", \"uid\": \"15c1bd7c-dc25-4518-8ce6-afb597cebda1\"}], {\"barmode\": \"stack\", \"legend\": {\"x\": 0.78, \"y\": 1}, \"margin\": {\"r\": 0}, \"plot_bgcolor\": \"#f1f1f1\", \"title\": {\"text\": \"Top 30 Kernel Authors (Mar 2015 ~ Feb 2019)\"}, \"yaxis\": {\"title\": {\"text\": \"Number of Kernels\"}}}, {\"showLink\": false, \"linkText\": \"Export to plot.ly\", \"plotlyServerURL\": \"https://plot.ly\"})});</script><script type=\"text/javascript\">window.addEventListener(\"resize\", function(){window._Plotly.Plots.resize(document.getElementById(\"2e2c03b6-dcba-440a-8ad2-9f1101f15a65\"));});</script>"
      ]
     },
     "metadata": {},
     "output_type": "display_data"
    }
   ],
   "source": [
    "\n",
    "fig = {\n",
    "    'data': [\n",
    "        {\n",
    "            'type': 'bar',\n",
    "            'y': top['NotAwarded'].values,\n",
    "            'x': top['DisplayName'].values,\n",
    "            'name': 'Not Awarded Kernels',\n",
    "            'marker': {'color': kernel_colors[1]}\n",
    "        },{\n",
    "            'type': 'bar',\n",
    "            'y': top['Awarded'].values,\n",
    "            'x': top['DisplayName'].values,\n",
    "            'name': 'Awarded Kernels',\n",
    "            'marker': {'color': kernel_colors[0]}\n",
    "        }\n",
    "    ], 'layout': {\n",
    "        'title': f'Top {n} Kernel Authors ({range_dates_str})',\n",
    "        'barmode': 'stack',\n",
    "        'yaxis': {'title': 'Number of Kernels'},\n",
    "        'legend': {'x': 0.78, 'y': 1},\n",
    "        'plot_bgcolor': PLOT_BG_COLOR,\n",
    "        'margin': {'r': 0}\n",
    "    }\n",
    "}\n",
    "\n",
    "iplot(fig)"
   ]
  },
  {
   "cell_type": "markdown",
   "metadata": {
    "_uuid": "d5167534c2123ec27d7023c86dd2f3479fb7de43"
   },
   "source": [
    "### **<span style=\"color: red\">Observation</span>**: Many Top Authors wrote *several non-awarded Kernels*. This shows that their success is the product of *<span style=\"color: red\">HARDWORK</span>* ! It's not always *<span style=\"color: #dca917\">GOLD</span>* !\n",
    "\n",
    "*(Note: It is possible that an author deletes some of his previously published Kernels. The graph is based on the Meta Kaggle dataset which only shows currently public Kernels )*"
   ]
  },
  {
   "cell_type": "markdown",
   "metadata": {
    "_uuid": "056e96b69a872e959db954c20a83d8740e795ab8"
   },
   "source": [
    "# 5. You <span style=\"color: red\">CAN</span> do it too ! <a id=\"5\" />"
   ]
  },
  {
   "cell_type": "markdown",
   "metadata": {
    "_uuid": "a84b0e9f3ca376e7eebd671fca240d74801c9fb5"
   },
   "source": [
    "### One might also think that these Top Authors are the ones who publish the most in Kaggle. However, the **DATA** says something else !\n",
    "\n",
    "The following graph shows the how many kernels were published by each Author Category (Preformance Tier):"
   ]
  },
  {
   "cell_type": "code",
   "execution_count": 9,
   "metadata": {
    "_kg_hide-input": true,
    "_uuid": "1263d05f853ba73a2bc77a57ac5d28c55746d39b"
   },
   "outputs": [
    {
     "data": {
      "application/vnd.plotly.v1+json": {
       "config": {
        "linkText": "Export to plot.ly",
        "plotlyServerURL": "https://plot.ly",
        "showLink": false
       },
       "data": [
        {
         "hole": 0.3,
         "labels": [
          "Novices",
          "Contributors",
          "Experts",
          "Masters",
          "Grandmasters"
         ],
         "marker": {
          "colors": [
           "#5AC995",
           "#00BBFF",
           "#976591",
           "#F96517",
           "#DCA917"
          ]
         },
         "textinfo": "percent+label",
         "type": "pie",
         "uid": "fe7b9364-6635-4aa4-9a6d-f5dc9e011c57",
         "values": [
          1152,
          2312,
          2944,
          1533,
          676
         ]
        }
       ],
       "layout": {
        "showlegend": false,
        "title": {
         "text": "Number of Awarded Kernels by Author Tier"
        }
       }
      },
      "text/html": [
       "<div id=\"c3486d2f-c31b-4ffb-9627-d71d1da21f67\" style=\"height: 525px; width: 100%;\" class=\"plotly-graph-div\"></div><script type=\"text/javascript\">require([\"plotly\"], function(Plotly) { window.PLOTLYENV=window.PLOTLYENV || {};window.PLOTLYENV.BASE_URL=\"https://plot.ly\";Plotly.newPlot(\"c3486d2f-c31b-4ffb-9627-d71d1da21f67\", [{\"hole\": 0.3, \"labels\": [\"Novices\", \"Contributors\", \"Experts\", \"Masters\", \"Grandmasters\"], \"marker\": {\"colors\": [\"#5AC995\", \"#00BBFF\", \"#976591\", \"#F96517\", \"#DCA917\"]}, \"textinfo\": \"percent+label\", \"values\": [1152, 2312, 2944, 1533, 676], \"type\": \"pie\", \"uid\": \"5f20aa4c-bc6b-4c6f-a01a-07edf2a24f28\"}], {\"showlegend\": false, \"title\": {\"text\": \"Number of Awarded Kernels by Author Tier\"}}, {\"showLink\": false, \"linkText\": \"Export to plot.ly\", \"plotlyServerURL\": \"https://plot.ly\"})});</script><script type=\"text/javascript\">window.addEventListener(\"resize\", function(){window._Plotly.Plots.resize(document.getElementById(\"c3486d2f-c31b-4ffb-9627-d71d1da21f67\"));});</script>"
      ],
      "text/vnd.plotly.v1+html": [
       "<div id=\"c3486d2f-c31b-4ffb-9627-d71d1da21f67\" style=\"height: 525px; width: 100%;\" class=\"plotly-graph-div\"></div><script type=\"text/javascript\">require([\"plotly\"], function(Plotly) { window.PLOTLYENV=window.PLOTLYENV || {};window.PLOTLYENV.BASE_URL=\"https://plot.ly\";Plotly.newPlot(\"c3486d2f-c31b-4ffb-9627-d71d1da21f67\", [{\"hole\": 0.3, \"labels\": [\"Novices\", \"Contributors\", \"Experts\", \"Masters\", \"Grandmasters\"], \"marker\": {\"colors\": [\"#5AC995\", \"#00BBFF\", \"#976591\", \"#F96517\", \"#DCA917\"]}, \"textinfo\": \"percent+label\", \"values\": [1152, 2312, 2944, 1533, 676], \"type\": \"pie\", \"uid\": \"5f20aa4c-bc6b-4c6f-a01a-07edf2a24f28\"}], {\"showlegend\": false, \"title\": {\"text\": \"Number of Awarded Kernels by Author Tier\"}}, {\"showLink\": false, \"linkText\": \"Export to plot.ly\", \"plotlyServerURL\": \"https://plot.ly\"})});</script><script type=\"text/javascript\">window.addEventListener(\"resize\", function(){window._Plotly.Plots.resize(document.getElementById(\"c3486d2f-c31b-4ffb-9627-d71d1da21f67\"));});</script>"
      ]
     },
     "metadata": {},
     "output_type": "display_data"
    }
   ],
   "source": [
    "nbr_awarded_kernels_per_tier = medal_kernels['PerformanceTier'].value_counts()\n",
    "nbr_awarded_kernels_per_tier = nbr_awarded_kernels_per_tier.sort_index()\n",
    "#nbr_awarded_kernels_per_tier\n",
    "\n",
    "tier_colors = ['#5AC995', '#00BBFF', '#976591', '#F96517', '#DCA917']\n",
    "\n",
    "fig = {\n",
    "    'data': [{\n",
    "        'type': 'pie',\n",
    "        'labels': ['Novices', 'Contributors', 'Experts', 'Masters', 'Grandmasters'],\n",
    "        'values': nbr_awarded_kernels_per_tier,\n",
    "        'hole': .3,\n",
    "        'textinfo': 'percent+label',\n",
    "        'marker': {'colors': tier_colors}\n",
    "    }],\n",
    "    'layout': {\n",
    "        'title': f'Number of Awarded Kernels by Author Tier',\n",
    "        'showlegend': False\n",
    "    }\n",
    "}\n",
    "iplot(fig)"
   ]
  },
  {
   "cell_type": "markdown",
   "metadata": {
    "_uuid": "4be03ff40a7bd916542008219058c0586507f76c"
   },
   "source": [
    "### **<span style=\"color: red\">Observation</span>**: <span style=\"color: #976591\"> Experts</span> produce the most number of Kernels ( probably because they want to become Masters). Then followed by <span style=\"color: #00BBFF\">Contributors</span> ! After them come <span style=\"color: #F96517\">Masters</span> and then <span style=\"color: #5AC995\">Novices</span> ! Lastly we have <span style=\"color: #DCA917\">Grandmasters</span> producing ~7.8% of the Awarded Kernels (probably because there only according to the [first chart](#2) only 8.5% of the authors have reached that level)"
   ]
  },
  {
   "cell_type": "markdown",
   "metadata": {
    "_uuid": "b96cbb325f9c3efaa93ca521e7ce21dc41706262"
   },
   "source": [
    "# 6. When did the Top Authors start publishing ?<a id=\"6\" />"
   ]
  },
  {
   "cell_type": "markdown",
   "metadata": {
    "_uuid": "cf60adb52f905984e3d1518a3f9a34478c455e2d"
   },
   "source": [
    "Another interesting thing to examine, is when did the Top authors start publishing their first Kernels. In other words, how much time did it take them to reach this level."
   ]
  },
  {
   "cell_type": "code",
   "execution_count": 10,
   "metadata": {
    "_kg_hide-input": true,
    "_uuid": "ccdcdb4b7583fef880633016e5cae518f574f3f8"
   },
   "outputs": [
    {
     "data": {
      "application/vnd.plotly.v1+json": {
       "config": {
        "linkText": "Export to plot.ly",
        "plotlyServerURL": "https://plot.ly",
        "showLink": false
       },
       "data": [
        {
         "marker": {
          "color": "red",
          "line": {
           "color": "white",
           "width": 2
          }
         },
         "opacity": 0.5,
         "type": "histogram",
         "uid": "1c4ab0c4-d68b-44a4-9ff6-320a9753d97b",
         "x": [
          "2015-04-23",
          "2015-06-06",
          "2015-06-26",
          "2015-07-17",
          "2015-08-14",
          "2015-09-24",
          "2015-09-30",
          "2015-10-07",
          "2015-10-26",
          "2016-01-07",
          "2016-01-30",
          "2016-02-05",
          "2016-02-19",
          "2016-03-07",
          "2016-03-08",
          "2016-03-14",
          "2016-04-15",
          "2016-05-13",
          "2016-07-02",
          "2016-07-12",
          "2016-07-28",
          "2016-08-22",
          "2016-09-01",
          "2016-10-15",
          "2016-10-18",
          "2016-10-19",
          "2016-11-01",
          "2016-11-06",
          "2016-11-30",
          "2016-12-10",
          "2016-12-16",
          "2017-01-04",
          "2017-01-21",
          "2017-02-27",
          "2017-04-11",
          "2017-04-15",
          "2017-04-22",
          "2017-07-11",
          "2017-07-15",
          "2017-07-17",
          "2017-07-19",
          "2017-10-07",
          "2017-10-25",
          "2017-11-27",
          "2018-01-09",
          "2018-02-09",
          "2018-02-14",
          "2018-03-21",
          "2018-03-22",
          "2018-11-10"
         ]
        }
       ],
       "layout": {
        "title": {
         "text": "Dates of First Published Kernel (top 50 Authors)"
        },
        "xaxis": {
         "title": {
          "text": "Date of First Published Kernel"
         }
        },
        "yaxis": {
         "title": {
          "text": "Number of Authors"
         }
        }
       }
      },
      "text/html": [
       "<div id=\"ec70c5fd-22e9-4b23-9fea-a2e43ef8241f\" style=\"height: 525px; width: 100%;\" class=\"plotly-graph-div\"></div><script type=\"text/javascript\">require([\"plotly\"], function(Plotly) { window.PLOTLYENV=window.PLOTLYENV || {};window.PLOTLYENV.BASE_URL=\"https://plot.ly\";Plotly.newPlot(\"ec70c5fd-22e9-4b23-9fea-a2e43ef8241f\", [{\"marker\": {\"color\": \"red\", \"line\": {\"color\": \"white\", \"width\": 2}}, \"opacity\": 0.5, \"x\": [\"2015-04-23\", \"2015-06-06\", \"2015-06-26\", \"2015-07-17\", \"2015-08-14\", \"2015-09-24\", \"2015-09-30\", \"2015-10-07\", \"2015-10-26\", \"2016-01-07\", \"2016-01-30\", \"2016-02-05\", \"2016-02-19\", \"2016-03-07\", \"2016-03-08\", \"2016-03-14\", \"2016-04-15\", \"2016-05-13\", \"2016-07-02\", \"2016-07-12\", \"2016-07-28\", \"2016-08-22\", \"2016-09-01\", \"2016-10-15\", \"2016-10-18\", \"2016-10-19\", \"2016-11-01\", \"2016-11-06\", \"2016-11-30\", \"2016-12-10\", \"2016-12-16\", \"2017-01-04\", \"2017-01-21\", \"2017-02-27\", \"2017-04-11\", \"2017-04-15\", \"2017-04-22\", \"2017-07-11\", \"2017-07-15\", \"2017-07-17\", \"2017-07-19\", \"2017-10-07\", \"2017-10-25\", \"2017-11-27\", \"2018-01-09\", \"2018-02-09\", \"2018-02-14\", \"2018-03-21\", \"2018-03-22\", \"2018-11-10\"], \"type\": \"histogram\", \"uid\": \"d1fe6928-4277-4328-ab98-3ec8702cbb37\"}], {\"title\": {\"text\": \"Dates of First Published Kernel (top 50 Authors)\"}, \"xaxis\": {\"title\": {\"text\": \"Date of First Published Kernel\"}}, \"yaxis\": {\"title\": {\"text\": \"Number of Authors\"}}}, {\"showLink\": false, \"linkText\": \"Export to plot.ly\", \"plotlyServerURL\": \"https://plot.ly\"})});</script><script type=\"text/javascript\">window.addEventListener(\"resize\", function(){window._Plotly.Plots.resize(document.getElementById(\"ec70c5fd-22e9-4b23-9fea-a2e43ef8241f\"));});</script>"
      ],
      "text/vnd.plotly.v1+html": [
       "<div id=\"ec70c5fd-22e9-4b23-9fea-a2e43ef8241f\" style=\"height: 525px; width: 100%;\" class=\"plotly-graph-div\"></div><script type=\"text/javascript\">require([\"plotly\"], function(Plotly) { window.PLOTLYENV=window.PLOTLYENV || {};window.PLOTLYENV.BASE_URL=\"https://plot.ly\";Plotly.newPlot(\"ec70c5fd-22e9-4b23-9fea-a2e43ef8241f\", [{\"marker\": {\"color\": \"red\", \"line\": {\"color\": \"white\", \"width\": 2}}, \"opacity\": 0.5, \"x\": [\"2015-04-23\", \"2015-06-06\", \"2015-06-26\", \"2015-07-17\", \"2015-08-14\", \"2015-09-24\", \"2015-09-30\", \"2015-10-07\", \"2015-10-26\", \"2016-01-07\", \"2016-01-30\", \"2016-02-05\", \"2016-02-19\", \"2016-03-07\", \"2016-03-08\", \"2016-03-14\", \"2016-04-15\", \"2016-05-13\", \"2016-07-02\", \"2016-07-12\", \"2016-07-28\", \"2016-08-22\", \"2016-09-01\", \"2016-10-15\", \"2016-10-18\", \"2016-10-19\", \"2016-11-01\", \"2016-11-06\", \"2016-11-30\", \"2016-12-10\", \"2016-12-16\", \"2017-01-04\", \"2017-01-21\", \"2017-02-27\", \"2017-04-11\", \"2017-04-15\", \"2017-04-22\", \"2017-07-11\", \"2017-07-15\", \"2017-07-17\", \"2017-07-19\", \"2017-10-07\", \"2017-10-25\", \"2017-11-27\", \"2018-01-09\", \"2018-02-09\", \"2018-02-14\", \"2018-03-21\", \"2018-03-22\", \"2018-11-10\"], \"type\": \"histogram\", \"uid\": \"d1fe6928-4277-4328-ab98-3ec8702cbb37\"}], {\"title\": {\"text\": \"Dates of First Published Kernel (top 50 Authors)\"}, \"xaxis\": {\"title\": {\"text\": \"Date of First Published Kernel\"}}, \"yaxis\": {\"title\": {\"text\": \"Number of Authors\"}}}, {\"showLink\": false, \"linkText\": \"Export to plot.ly\", \"plotlyServerURL\": \"https://plot.ly\"})});</script><script type=\"text/javascript\">window.addEventListener(\"resize\", function(){window._Plotly.Plots.resize(document.getElementById(\"ec70c5fd-22e9-4b23-9fea-a2e43ef8241f\"));});</script>"
      ]
     },
     "metadata": {},
     "output_type": "display_data"
    }
   ],
   "source": [
    "# Date of first kernel\n",
    "n = 50\n",
    "top = nbr_medals_per_author.head(n)\n",
    "oldest_kernel_dates = []\n",
    "for userid in top.index:\n",
    "    oldest_kernel_date = normal_user_kernels[normal_user_kernels['AuthorUserId'] == userid]['MadePublicDate'].min()\n",
    "    oldest_kernel_dates.append(oldest_kernel_date)\n",
    "oldest_kernel_dates = pd.Series(oldest_kernel_dates, index=top.index).sort_values()\n",
    "\n",
    "# Date of first kernel\n",
    "\n",
    "#fig = ff.create_distplot(s, [f'Top {n} authors'])\n",
    "\n",
    "\n",
    "fig= {\n",
    "    'data': [\n",
    "        {\n",
    "            'type': 'histogram',\n",
    "            #'bin_size': .4,\n",
    "            'marker': {\"color\": 'red', 'line': {'color': 'white', 'width': 2}}, \n",
    "            'x': oldest_kernel_dates,\n",
    "            \"opacity\": 0.5, \n",
    "        }\n",
    "    ],\n",
    "    'layout': {\n",
    "        'title': f'Dates of First Published Kernel (top {n} Authors)',\n",
    "        'xaxis': {'title': 'Date of First Published Kernel'},\n",
    "        'yaxis': {'title': 'Number of Authors'}\n",
    "    }\n",
    "}\n",
    "\n",
    "iplot(fig)"
   ]
  },
  {
   "cell_type": "markdown",
   "metadata": {
    "_uuid": "df45eb99eb02d01820cc291b60e97cbb6be425b0"
   },
   "source": [
    "### **<span style=\"color: red\">Observation</span>**:  **More than 50%** of the Top Authors started before January 2017 ( **more than one year ago** )\n",
    "\n",
    "(*Note: This only shows how much experience the top authors have on Kaggle, we're not taking into account their Data Science experience prior to Kaggle*)"
   ]
  },
  {
   "cell_type": "markdown",
   "metadata": {
    "_uuid": "6b5f518bd0d5c1ad10a618c5495b8b4387921b1a"
   },
   "source": [
    "# 7. Tags in Top Kernels <a id=\"7\" />"
   ]
  },
  {
   "cell_type": "markdown",
   "metadata": {
    "_uuid": "7bf463ae65c35e2e5836ed52e539cddda540f00d"
   },
   "source": [
    "Lastly, we examine the most used tags in the awarded Kernels."
   ]
  },
  {
   "cell_type": "code",
   "execution_count": 11,
   "metadata": {
    "_kg_hide-input": true,
    "_uuid": "64eb7ceee8587b9af3794b096ef9c84f971af607"
   },
   "outputs": [
    {
     "data": {
      "text/plain": [
       "<Figure size 432x288 with 0 Axes>"
      ]
     },
     "metadata": {},
     "output_type": "display_data"
    },
    {
     "data": {
      "image/png": "[encoded data removed]",
      "text/plain": [
       "<Figure size 1152x648 with 1 Axes>"
      ]
     },
     "metadata": {},
     "output_type": "display_data"
    }
   ],
   "source": [
    "tags_df = pd.read_csv('../input/Tags.csv')\n",
    "normal_user_kernel_tags = pd.read_csv('../input/KernelTags.csv')\n",
    "normal_user_kernel_tags = normal_user_kernel_tags[normal_user_kernel_tags['KernelId'].isin(normal_user_kernels['Id'])]\n",
    "medal_kernels_tag_ids = normal_user_kernel_tags[normal_user_kernel_tags['KernelId'].isin(medal_kernels['Id'])]['TagId']\n",
    "tags_df = tags_df.set_index('Id')\n",
    "tags_dic = tags_df[['Slug', 'Name']].to_dict('index')\n",
    "slugs = []\n",
    "for tid in medal_kernels_tag_ids:\n",
    "    slugs.append(tags_dic[tid]['Slug'])\n",
    "\n",
    "wc=WordCloud(width=800, height=400).generate(' '.join(slugs))\n",
    "plt.clf()\n",
    "plt.figure( figsize=(16,9) )\n",
    "plt.title('Most used Tags in Awarded Kernels', fontsize=20)\n",
    "plt.imshow(wc)\n",
    "plt.axis('off')\n",
    "plt.show()"
   ]
  },
  {
   "cell_type": "code",
   "execution_count": 12,
   "metadata": {
    "_kg_hide-input": true,
    "_uuid": "6f3161e23c61d955a11b7df4ea0d4a0a0fed3551"
   },
   "outputs": [
    {
     "data": {
      "application/vnd.plotly.v1+json": {
       "config": {
        "linkText": "Export to plot.ly",
        "plotlyServerURL": "https://plot.ly",
        "showLink": false
       },
       "data": [
        {
         "marker": {
          "color": [
           1526,
           1245,
           1054,
           741,
           506,
           422,
           363,
           286,
           272,
           193,
           133,
           132,
           121,
           121,
           95,
           90,
           90,
           83,
           79,
           79,
           77,
           76,
           75,
           75,
           74,
           73,
           66,
           66,
           63,
           61
          ],
          "colorscale": "Viridis",
          "showscale": true
         },
         "type": "bar",
         "uid": "5dfb07d2-3403-42dc-9c6f-cd40abac915c",
         "x": [
          "data-visualization",
          "beginner",
          "eda",
          "tutorial",
          "feature-engineering",
          "classification",
          "starter-code",
          "deep-learning",
          "data-cleaning",
          "nlp",
          "neural-networks",
          "xgboost",
          "finance",
          "cnn",
          "time-series",
          "ensembling",
          "gradient-boosting",
          "image-processing",
          "text-mining",
          "food-and-drink",
          "random-forest",
          "text-data",
          "video-games",
          "geospatial-analysis",
          "crime",
          "regression-analysis",
          "logistic-regression",
          "survey-analysis",
          "healthcare",
          "internet"
         ],
         "y": [
          1526,
          1245,
          1054,
          741,
          506,
          422,
          363,
          286,
          272,
          193,
          133,
          132,
          121,
          121,
          95,
          90,
          90,
          83,
          79,
          79,
          77,
          76,
          75,
          75,
          74,
          73,
          66,
          66,
          63,
          61
         ]
        }
       ],
       "layout": {
        "title": {
         "text": "Top 30 most used Tags in Awarded Kernels"
        },
        "yaxis": {
         "title": {
          "text": "Number of times used"
         }
        }
       }
      },
      "text/html": [
       "<div id=\"b573aa4d-0b03-45b7-a75d-c9766d023c32\" style=\"height: 525px; width: 100%;\" class=\"plotly-graph-div\"></div><script type=\"text/javascript\">require([\"plotly\"], function(Plotly) { window.PLOTLYENV=window.PLOTLYENV || {};window.PLOTLYENV.BASE_URL=\"https://plot.ly\";Plotly.newPlot(\"b573aa4d-0b03-45b7-a75d-c9766d023c32\", [{\"marker\": {\"color\": [1526, 1245, 1054, 741, 506, 422, 363, 286, 272, 193, 133, 132, 121, 121, 95, 90, 90, 83, 79, 79, 77, 76, 75, 75, 74, 73, 66, 66, 63, 61], \"colorscale\": \"Viridis\", \"showscale\": true}, \"x\": [\"data-visualization\", \"beginner\", \"eda\", \"tutorial\", \"feature-engineering\", \"classification\", \"starter-code\", \"deep-learning\", \"data-cleaning\", \"nlp\", \"neural-networks\", \"xgboost\", \"finance\", \"cnn\", \"time-series\", \"ensembling\", \"gradient-boosting\", \"image-processing\", \"text-mining\", \"food-and-drink\", \"random-forest\", \"text-data\", \"video-games\", \"geospatial-analysis\", \"crime\", \"regression-analysis\", \"logistic-regression\", \"survey-analysis\", \"healthcare\", \"internet\"], \"y\": [1526, 1245, 1054, 741, 506, 422, 363, 286, 272, 193, 133, 132, 121, 121, 95, 90, 90, 83, 79, 79, 77, 76, 75, 75, 74, 73, 66, 66, 63, 61], \"type\": \"bar\", \"uid\": \"ffe4f683-b5ac-45fc-a1dc-a1337a3022a9\"}], {\"title\": {\"text\": \"Top 30 most used Tags in Awarded Kernels\"}, \"yaxis\": {\"title\": {\"text\": \"Number of times used\"}}}, {\"showLink\": false, \"linkText\": \"Export to plot.ly\", \"plotlyServerURL\": \"https://plot.ly\"})});</script><script type=\"text/javascript\">window.addEventListener(\"resize\", function(){window._Plotly.Plots.resize(document.getElementById(\"b573aa4d-0b03-45b7-a75d-c9766d023c32\"));});</script>"
      ],
      "text/vnd.plotly.v1+html": [
       "<div id=\"b573aa4d-0b03-45b7-a75d-c9766d023c32\" style=\"height: 525px; width: 100%;\" class=\"plotly-graph-div\"></div><script type=\"text/javascript\">require([\"plotly\"], function(Plotly) { window.PLOTLYENV=window.PLOTLYENV || {};window.PLOTLYENV.BASE_URL=\"https://plot.ly\";Plotly.newPlot(\"b573aa4d-0b03-45b7-a75d-c9766d023c32\", [{\"marker\": {\"color\": [1526, 1245, 1054, 741, 506, 422, 363, 286, 272, 193, 133, 132, 121, 121, 95, 90, 90, 83, 79, 79, 77, 76, 75, 75, 74, 73, 66, 66, 63, 61], \"colorscale\": \"Viridis\", \"showscale\": true}, \"x\": [\"data-visualization\", \"beginner\", \"eda\", \"tutorial\", \"feature-engineering\", \"classification\", \"starter-code\", \"deep-learning\", \"data-cleaning\", \"nlp\", \"neural-networks\", \"xgboost\", \"finance\", \"cnn\", \"time-series\", \"ensembling\", \"gradient-boosting\", \"image-processing\", \"text-mining\", \"food-and-drink\", \"random-forest\", \"text-data\", \"video-games\", \"geospatial-analysis\", \"crime\", \"regression-analysis\", \"logistic-regression\", \"survey-analysis\", \"healthcare\", \"internet\"], \"y\": [1526, 1245, 1054, 741, 506, 422, 363, 286, 272, 193, 133, 132, 121, 121, 95, 90, 90, 83, 79, 79, 77, 76, 75, 75, 74, 73, 66, 66, 63, 61], \"type\": \"bar\", \"uid\": \"ffe4f683-b5ac-45fc-a1dc-a1337a3022a9\"}], {\"title\": {\"text\": \"Top 30 most used Tags in Awarded Kernels\"}, \"yaxis\": {\"title\": {\"text\": \"Number of times used\"}}}, {\"showLink\": false, \"linkText\": \"Export to plot.ly\", \"plotlyServerURL\": \"https://plot.ly\"})});</script><script type=\"text/javascript\">window.addEventListener(\"resize\", function(){window._Plotly.Plots.resize(document.getElementById(\"b573aa4d-0b03-45b7-a75d-c9766d023c32\"));});</script>"
      ]
     },
     "metadata": {},
     "output_type": "display_data"
    }
   ],
   "source": [
    "# Bar chart for Top used Tags in Awarded Kernels\n",
    "\n",
    "n = 30\n",
    "slug_counts = pd.Series(slugs).value_counts().head(n)\n",
    "\n",
    "fig = {\n",
    "    'data': [\n",
    "        {\n",
    "            'type': 'bar',\n",
    "            #'orientation': 'h',\n",
    "            'y': slug_counts,\n",
    "            'x': slug_counts.index,\n",
    "            'marker': {'color': slug_counts, 'colorscale': 'Viridis', 'showscale': True}\n",
    "        }\n",
    "    ], 'layout': {\n",
    "        'title': f'Top {n} most used Tags in Awarded Kernels',\n",
    "        'yaxis': {'title': 'Number of times used'}\n",
    "    }\n",
    "}\n",
    "iplot(fig)"
   ]
  },
  {
   "cell_type": "markdown",
   "metadata": {
    "_uuid": "55bdee5f234eabf03c902a61479436e83fc85a2d"
   },
   "source": []
  },
  {
   "cell_type": "markdown",
   "metadata": {
    "_uuid": "9d2da62593b5c0aa363c5091f4688fb432637ef3"
   },
   "source": [
    "### **<span style=\"color: red\">Observation</span>**:  It seems that top Kernels are directed towards **Beginners**, and are centered around **Exploratory Data Analysis** and **Visualization**"
   ]
  },
  {
   "cell_type": "markdown",
   "metadata": {
    "_uuid": "450183f5d508b761ba53e10d2a45bbe3100eb648"
   },
   "source": [
    "# 8. Python vs R <a id=\"8\" />"
   ]
  },
  {
   "cell_type": "code",
   "execution_count": 13,
   "metadata": {
    "_uuid": "51946e7d250c4dadf18daf81a39c01ea1a1d0de4"
   },
   "outputs": [
    {
     "data": {
      "application/vnd.plotly.v1+json": {
       "config": {
        "linkText": "Export to plot.ly",
        "plotlyServerURL": "https://plot.ly",
        "showLink": false
       },
       "data": [
        {
         "hole": 0.3,
         "labels": [
          "Python",
          "R"
         ],
         "marker": {
          "colors": [
           "#FFD548",
           "#2167BA"
          ]
         },
         "showlegend": false,
         "textinfo": "percent+label",
         "type": "pie",
         "uid": "7771bf02-7818-4256-b233-233326923133",
         "values": [
          6635,
          1927
         ]
        }
       ],
       "layout": {
        "title": {
         "text": "Awarded Kernels by Language"
        }
       }
      },
      "text/html": [
       "<div id=\"515688c2-54ee-4ada-b73f-a4c8c3bd2e45\" style=\"height: 525px; width: 100%;\" class=\"plotly-graph-div\"></div><script type=\"text/javascript\">require([\"plotly\"], function(Plotly) { window.PLOTLYENV=window.PLOTLYENV || {};window.PLOTLYENV.BASE_URL=\"https://plot.ly\";Plotly.newPlot(\"515688c2-54ee-4ada-b73f-a4c8c3bd2e45\", [{\"hole\": 0.3, \"labels\": [\"Python\", \"R\"], \"marker\": {\"colors\": [\"#FFD548\", \"#2167BA\"]}, \"showlegend\": false, \"textinfo\": \"percent+label\", \"values\": [6635, 1927], \"type\": \"pie\", \"uid\": \"d49c5f4e-53da-4c03-81b5-5921be9f8165\"}], {\"title\": {\"text\": \"Awarded Kernels by Language\"}}, {\"showLink\": false, \"linkText\": \"Export to plot.ly\", \"plotlyServerURL\": \"https://plot.ly\"})});</script><script type=\"text/javascript\">window.addEventListener(\"resize\", function(){window._Plotly.Plots.resize(document.getElementById(\"515688c2-54ee-4ada-b73f-a4c8c3bd2e45\"));});</script>"
      ],
      "text/vnd.plotly.v1+html": [
       "<div id=\"515688c2-54ee-4ada-b73f-a4c8c3bd2e45\" style=\"height: 525px; width: 100%;\" class=\"plotly-graph-div\"></div><script type=\"text/javascript\">require([\"plotly\"], function(Plotly) { window.PLOTLYENV=window.PLOTLYENV || {};window.PLOTLYENV.BASE_URL=\"https://plot.ly\";Plotly.newPlot(\"515688c2-54ee-4ada-b73f-a4c8c3bd2e45\", [{\"hole\": 0.3, \"labels\": [\"Python\", \"R\"], \"marker\": {\"colors\": [\"#FFD548\", \"#2167BA\"]}, \"showlegend\": false, \"textinfo\": \"percent+label\", \"values\": [6635, 1927], \"type\": \"pie\", \"uid\": \"d49c5f4e-53da-4c03-81b5-5921be9f8165\"}], {\"title\": {\"text\": \"Awarded Kernels by Language\"}}, {\"showLink\": false, \"linkText\": \"Export to plot.ly\", \"plotlyServerURL\": \"https://plot.ly\"})});</script><script type=\"text/javascript\">window.addEventListener(\"resize\", function(){window._Plotly.Plots.resize(document.getElementById(\"515688c2-54ee-4ada-b73f-a4c8c3bd2e45\"));});</script>"
      ]
     },
     "metadata": {},
     "output_type": "display_data"
    }
   ],
   "source": [
    "normal_user_kernel_versions = pd.read_csv('../input/KernelVersions.csv')\n",
    "normal_user_kernel_versions = normal_user_kernel_versions[normal_user_kernel_versions['KernelId'].isin(normal_user_kernels['Id'])]\n",
    "normal_user_kernel_versions = normal_user_kernel_versions.drop(normal_user_kernel_versions[normal_user_kernel_versions['VersionNumber'].isnull()].index, axis=0)\n",
    "\n",
    "kernel_languages_dic = pd.read_csv('../input/KernelLanguages.csv')\n",
    "kernel_languages_dic = kernel_languages_dic.set_index('Id')\n",
    "kernel_languages_dic = kernel_languages_dic.drop(['Name', 'IsNotebook'], axis=1)\n",
    "kernel_languages_dic = kernel_languages_dic.to_dict('index')\n",
    "#kernel_languages_dic\n",
    "\n",
    "normal_user_kernel_versions = normal_user_kernel_versions.set_index('Id')\n",
    "\n",
    "#\n",
    "normal_user_kernels['KernelLanguage'] = ''\n",
    "for i,k in normal_user_kernels.iterrows():\n",
    "    kv_id = k['CurrentKernelVersionId']\n",
    "    if not np.isnan(kv_id):\n",
    "        kv_id = int(kv_id)\n",
    "        if kv_id in normal_user_kernel_versions.index:\n",
    "            x = normal_user_kernel_versions.loc[kv_id]\n",
    "            lan_id = x['KernelLanguageId']\n",
    "            #print(lan_id)\n",
    "            if lan_id in kernel_languages_dic.keys():\n",
    "                language = kernel_languages_dic[lan_id]['DisplayName']\n",
    "                #print(language)\n",
    "                normal_user_kernels.at[i, 'KernelLanguage'] = language\n",
    "                \n",
    "medal_kernels = normal_user_kernels[normal_user_kernels['Medal'] > 0]\n",
    "medal_kernels_by_language = medal_kernels.groupby('KernelLanguage')['Id'].count()\n",
    "# Some of them are neither Python nor R probably problem of data collection because in KernelLanguages table there is only R and Python\n",
    "\n",
    "fig = {\n",
    "    'data': [\n",
    "        {\n",
    "            'type': 'pie',\n",
    "            'values': [medal_kernels_by_language['Python'], medal_kernels_by_language['R']],\n",
    "            'labels': ['Python', 'R'],\n",
    "            'marker': {'colors': ['#FFD548','#2167BA']},\n",
    "            'textinfo': 'percent+label',\n",
    "            'hole': .3,\n",
    "            'showlegend': False\n",
    "        }\n",
    "    ],\n",
    "    'layout': {\n",
    "        'title': 'Awarded Kernels by Language'\n",
    "    }\n",
    "    \n",
    "}\n",
    "\n",
    "iplot(fig)"
   ]
  },
  {
   "cell_type": "markdown",
   "metadata": {
    "_uuid": "3c9a94681bf9cb1be159d3ab22ad757273d61d52"
   },
   "source": [
    "### **<span style=\"color: red\">Observation</span>**:  Python is largely used and preferred in Awarded Kernels."
   ]
  },
  {
   "cell_type": "markdown",
   "metadata": {
    "_uuid": "6f213a208c33d5ce90bd93e6c8b1db23abe4bddb"
   },
   "source": [
    "# 9. Time for some Correlation ! <a id=\"9\" />"
   ]
  },
  {
   "cell_type": "code",
   "execution_count": 14,
   "metadata": {
    "_uuid": "00aaf2e297369c2466b5b650c02c61e203bb4c36"
   },
   "outputs": [
    {
     "data": {
      "application/vnd.plotly.v1+json": {
       "config": {
        "linkText": "Export to plot.ly",
        "plotlyServerURL": "https://plot.ly",
        "showLink": false
       },
       "data": [
        {
         "colorscale": "Reds",
         "type": "heatmap",
         "uid": "5f89e2d5-fd30-4756-9cfb-f1faf5149ce3",
         "x": [
          "NbrAwardedKernels",
          "NbrPythonKernels",
          "NbrRKernels",
          "MonthsOfExperience",
          "NbrPublishedKernels",
          "NbrTopTagsUsed"
         ],
         "y": [
          "NbrAwardedKernels",
          "NbrPythonKernels",
          "NbrRKernels",
          "MonthsOfExperience",
          "NbrPublishedKernels",
          "NbrTopTagsUsed"
         ],
         "z": [
          [
           1.0,
           0.5284639198398196,
           0.3734987343710444,
           0.0010915297260258464,
           0.5094347584054578,
           0.5725698107593068
          ],
          [
           0.5284639198398196,
           1.0,
           0.1983219550643862,
           -0.11037968672395665,
           0.836844530483688,
           0.3764474487402494
          ],
          [
           0.3734987343710444,
           0.1983219550643862,
           1.0,
           0.0671673007502557,
           0.5018709367644791,
           0.2536703289415019
          ],
          [
           0.0010915297260258464,
           -0.11037968672395665,
           0.0671673007502557,
           1.0,
           0.07732568752131952,
           -0.12648174929660766
          ],
          [
           0.5094347584054578,
           0.836844530483688,
           0.5018709367644791,
           0.07732568752131952,
           1.0,
           0.3243154172083067
          ],
          [
           0.5725698107593068,
           0.3764474487402494,
           0.2536703289415019,
           -0.12648174929660766,
           0.3243154172083067,
           1.0
          ]
         ]
        }
       ],
       "layout": {
        "margin": {
         "l": 140
        },
        "title": {
         "text": "Correlation Heatmap"
        }
       }
      },
      "text/html": [
       "<div id=\"67d61c04-ac18-4dcc-875b-6847848eddab\" style=\"height: 525px; width: 100%;\" class=\"plotly-graph-div\"></div><script type=\"text/javascript\">require([\"plotly\"], function(Plotly) { window.PLOTLYENV=window.PLOTLYENV || {};window.PLOTLYENV.BASE_URL=\"https://plot.ly\";Plotly.newPlot(\"67d61c04-ac18-4dcc-875b-6847848eddab\", [{\"colorscale\": \"Reds\", \"x\": [\"NbrAwardedKernels\", \"NbrPythonKernels\", \"NbrRKernels\", \"MonthsOfExperience\", \"NbrPublishedKernels\", \"NbrTopTagsUsed\"], \"y\": [\"NbrAwardedKernels\", \"NbrPythonKernels\", \"NbrRKernels\", \"MonthsOfExperience\", \"NbrPublishedKernels\", \"NbrTopTagsUsed\"], \"z\": [[1.0, 0.5284639198398196, 0.3734987343710444, 0.0010915297260258464, 0.5094347584054578, 0.5725698107593068], [0.5284639198398196, 1.0, 0.1983219550643862, -0.11037968672395665, 0.836844530483688, 0.3764474487402494], [0.3734987343710444, 0.1983219550643862, 1.0, 0.0671673007502557, 0.5018709367644791, 0.2536703289415019], [0.0010915297260258464, -0.11037968672395665, 0.0671673007502557, 1.0, 0.07732568752131952, -0.12648174929660766], [0.5094347584054578, 0.836844530483688, 0.5018709367644791, 0.07732568752131952, 1.0, 0.3243154172083067], [0.5725698107593068, 0.3764474487402494, 0.2536703289415019, -0.12648174929660766, 0.3243154172083067, 1.0]], \"type\": \"heatmap\", \"uid\": \"941f1e34-780a-447c-ae04-4a867f5edded\"}], {\"margin\": {\"l\": 140}, \"title\": {\"text\": \"Correlation Heatmap\"}}, {\"showLink\": false, \"linkText\": \"Export to plot.ly\", \"plotlyServerURL\": \"https://plot.ly\"})});</script><script type=\"text/javascript\">window.addEventListener(\"resize\", function(){window._Plotly.Plots.resize(document.getElementById(\"67d61c04-ac18-4dcc-875b-6847848eddab\"));});</script>"
      ],
      "text/vnd.plotly.v1+html": [
       "<div id=\"67d61c04-ac18-4dcc-875b-6847848eddab\" style=\"height: 525px; width: 100%;\" class=\"plotly-graph-div\"></div><script type=\"text/javascript\">require([\"plotly\"], function(Plotly) { window.PLOTLYENV=window.PLOTLYENV || {};window.PLOTLYENV.BASE_URL=\"https://plot.ly\";Plotly.newPlot(\"67d61c04-ac18-4dcc-875b-6847848eddab\", [{\"colorscale\": \"Reds\", \"x\": [\"NbrAwardedKernels\", \"NbrPythonKernels\", \"NbrRKernels\", \"MonthsOfExperience\", \"NbrPublishedKernels\", \"NbrTopTagsUsed\"], \"y\": [\"NbrAwardedKernels\", \"NbrPythonKernels\", \"NbrRKernels\", \"MonthsOfExperience\", \"NbrPublishedKernels\", \"NbrTopTagsUsed\"], \"z\": [[1.0, 0.5284639198398196, 0.3734987343710444, 0.0010915297260258464, 0.5094347584054578, 0.5725698107593068], [0.5284639198398196, 1.0, 0.1983219550643862, -0.11037968672395665, 0.836844530483688, 0.3764474487402494], [0.3734987343710444, 0.1983219550643862, 1.0, 0.0671673007502557, 0.5018709367644791, 0.2536703289415019], [0.0010915297260258464, -0.11037968672395665, 0.0671673007502557, 1.0, 0.07732568752131952, -0.12648174929660766], [0.5094347584054578, 0.836844530483688, 0.5018709367644791, 0.07732568752131952, 1.0, 0.3243154172083067], [0.5725698107593068, 0.3764474487402494, 0.2536703289415019, -0.12648174929660766, 0.3243154172083067, 1.0]], \"type\": \"heatmap\", \"uid\": \"941f1e34-780a-447c-ae04-4a867f5edded\"}], {\"margin\": {\"l\": 140}, \"title\": {\"text\": \"Correlation Heatmap\"}}, {\"showLink\": false, \"linkText\": \"Export to plot.ly\", \"plotlyServerURL\": \"https://plot.ly\"})});</script><script type=\"text/javascript\">window.addEventListener(\"resize\", function(){window._Plotly.Plots.resize(document.getElementById(\"67d61c04-ac18-4dcc-875b-6847848eddab\"));});</script>"
      ]
     },
     "metadata": {},
     "output_type": "display_data"
    }
   ],
   "source": [
    "nbr_medals_per_author['NbrPythonKernels'] = 0\n",
    "nbr_medals_per_author['NbrRKernels'] = 0\n",
    "\n",
    "for userid in nbr_medals_per_author.index:\n",
    "    kernel_languages = normal_user_kernels[normal_user_kernels['AuthorUserId'] == userid]['KernelLanguage']\n",
    "    kernel_languages = kernel_languages.value_counts()\n",
    "    if 'Python' in kernel_languages.index:\n",
    "        nbr_medals_per_author.at[userid, 'NbrPythonKernels'] = kernel_languages['Python']\n",
    "    if 'R' in kernel_languages.index:\n",
    "        nbr_medals_per_author.at[userid, 'NbrRKernels'] = kernel_languages['R']\n",
    "    #print(kernel_languages.index)\n",
    "\n",
    "# Add MonthsOfExperience Field\n",
    "oldest_kernel_dates = []\n",
    "for userid in nbr_medals_per_author.index:\n",
    "    oldest_kernel_date = normal_user_kernels[normal_user_kernels['AuthorUserId'] == userid]['MadePublicDate'].min()\n",
    "    oldest_kernel_dates.append(oldest_kernel_date)\n",
    "\n",
    "oldest_kernel_dates = pd.Series(oldest_kernel_dates, index=nbr_medals_per_author.index)\n",
    "oldest_kernel_dates = ((pd.Timestamp.now() - oldest_kernel_dates)/ np.timedelta64(1,'M')).astype('int')\n",
    "nbr_medals_per_author['MonthsOfExperience'] = oldest_kernel_dates\n",
    "#nbr_medals_per_author.head()\n",
    "\n",
    "# Add NumberPublishedKernels Field\n",
    "nbr_medals_per_author['NbrPublishedKernels'] = nbr_medals_per_author['Awarded'] + nbr_medals_per_author['NotAwarded']\n",
    "nbr_medals_per_author.head()\n",
    "\n",
    "top_tags = tags_df[tags_df['Slug'].isin(slug_counts.index)].index\n",
    "#top_tags\n",
    "\n",
    "nbr_medals_per_author['NbrTopTagsUsed'] = 0\n",
    "for userid in nbr_medals_per_author.index:\n",
    "    kernel_ids = normal_user_kernels[normal_user_kernels['AuthorUserId'] == userid]['Id']\n",
    "    tag_ids = normal_user_kernel_tags[normal_user_kernel_tags['KernelId'].isin(kernel_ids)]['TagId']\n",
    "    relevant_tag_ids = [tid for tid in tag_ids if tid in top_tags]\n",
    "    nbr_medals_per_author.at[userid, 'NbrTopTagsUsed'] = len(relevant_tag_ids)\n",
    "#nbr_medals_per_author['NbrTopTagsUsed']\n",
    "\n",
    "\n",
    "\n",
    "df = nbr_medals_per_author.drop(['Gold', 'Silver', 'Bronze', 'NotAwarded', 'DisplayName'], axis=1)\n",
    "df = df.rename(columns={'Awarded': 'NbrAwardedKernels'})\n",
    "corr = df.corr()\n",
    "fig = {\n",
    "    'data': [\n",
    "        {\n",
    "            'type': 'heatmap',\n",
    "            'z': corr,\n",
    "            'x': df.columns,\n",
    "            'y': df.columns,\n",
    "            'colorscale': 'Reds'\n",
    "        }\n",
    "    ],\n",
    "    'layout': {\n",
    "        'title': 'Correlation Heatmap',\n",
    "        'margin':{\n",
    "            'l': 140\n",
    "        }\n",
    "    }\n",
    "}\n",
    "\n",
    "iplot(fig)"
   ]
  },
  {
   "cell_type": "markdown",
   "metadata": {
    "_uuid": "6f9823c7200414e6459341aebf6587c801647074"
   },
   "source": [
    "### **<span style=\"color: red\">Observation</span>**:  We can see that Number of Published Kernels, Python Kernels & Number of Top Tags Used are positively correlated with Number of Awarded Kernels"
   ]
  },
  {
   "cell_type": "markdown",
   "metadata": {
    "_uuid": "35dc318d460e866ec767dac9c605553701c2d2a4"
   },
   "source": [
    "# Conclusions:"
   ]
  },
  {
   "cell_type": "markdown",
   "metadata": {
    "_uuid": "1d8654e552e1788e46682e6faf2de491e76c6c69"
   },
   "source": [
    "* There are of course many criteria other than the ones mentioned for a Kernel to be successful, for example: It must be written and formatted nicely, must add value to the reader and be interesting.\n",
    "\n",
    "* Most Awarded Kernels are Tutorials and Visualizations\n",
    "\n",
    "* Most Awarded Kernels are written in Python\n",
    "\n",
    "* In Data Science as in Every Discipline, Success comes with two principal ingredients: **<span style=\"color: red\">PASSION & HARDWORK</span>**"
   ]
  },
  {
   "cell_type": "markdown",
   "metadata": {
    "_uuid": "efcdacbce2783bc443544342db6f936444043268"
   },
   "source": [
    "## References:\n",
    "\n",
    "* [Kaggle Progression System](https://www.kaggle.com/progression) (Page)\n",
    "* [Kaggle Trends](https://www.kaggle.com/gaborfodor/kaggle-trends) (Kernel)\n",
    "* [How to get upvotes in Kaggle](https://www.kaggle.com/aleksandradeis/how-to-get-upvotes-for-a-kernel-on-kaggle) (Kernel)"
   ]
  }
 ],
 "metadata": {
  "kernelspec": {
   "display_name": "Python 3",
   "language": "python",
   "name": "python3"
  },
  "language_info": {
   "codemirror_mode": {
    "name": "ipython",
    "version": 3
   },
   "file_extension": ".py",
   "mimetype": "text/x-python",
   "name": "python",
   "nbconvert_exporter": "python",
   "pygments_lexer": "ipython3",
   "version": "3.6.6"
  }
 },
 "nbformat": 4,
 "nbformat_minor": 1
}
